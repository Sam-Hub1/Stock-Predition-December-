{
 "cells": [
  {
   "cell_type": "code",
   "execution_count": 1,
   "metadata": {
    "_cell_guid": "b1076dfc-b9ad-4769-8c92-a6c4dae69d19",
    "_uuid": "8f2839f25d086af736a60e9eeb907d3b93b6e0e5",
    "execution": {
     "iopub.execute_input": "2020-12-20T07:50:50.913080Z",
     "iopub.status.busy": "2020-12-20T07:50:50.912426Z",
     "iopub.status.idle": "2020-12-20T07:50:50.928107Z",
     "shell.execute_reply": "2020-12-20T07:50:50.927595Z"
    },
    "papermill": {
     "duration": 0.04704,
     "end_time": "2020-12-20T07:50:50.928209",
     "exception": false,
     "start_time": "2020-12-20T07:50:50.881169",
     "status": "completed"
    },
    "tags": []
   },
   "outputs": [
    {
     "name": "stdout",
     "output_type": "stream",
     "text": [
      "/kaggle/input/tcs-file/TCS.NS.csv\n"
     ]
    }
   ],
   "source": [
    "# This Python 3 environment comes with many helpful analytics libraries installed\n",
    "# It is defined by the kaggle/python Docker image: https://github.com/kaggle/docker-python\n",
    "# For example, here's several helpful packages to load\n",
    "\n",
    "import numpy as np # linear algebra\n",
    "import pandas as pd # data processing, CSV file I/O (e.g. pd.read_csv)\n",
    "\n",
    "# Input data files are available in the read-only \"../input/\" directory\n",
    "# For example, running this (by clicking run or pressing Shift+Enter) will list all files under the input directory\n",
    "\n",
    "import os\n",
    "for dirname, _, filenames in os.walk('/kaggle/input'):\n",
    "    for filename in filenames:\n",
    "        print(os.path.join(dirname, filename))\n",
    "\n",
    "# You can write up to 20GB to the current directory (/kaggle/working/) that gets preserved as output when you create a version using \"Save & Run All\" \n",
    "# You can also write temporary files to /kaggle/temp/, but they won't be saved outside of the current session"
   ]
  },
  {
   "cell_type": "code",
   "execution_count": 2,
   "metadata": {
    "_cell_guid": "79c7e3d0-c299-4dcb-8224-4455121ee9b0",
    "_uuid": "d629ff2d2480ee46fbb7e2d37f6b5fab8052498a",
    "execution": {
     "iopub.execute_input": "2020-12-20T07:50:50.989171Z",
     "iopub.status.busy": "2020-12-20T07:50:50.988335Z",
     "iopub.status.idle": "2020-12-20T07:50:51.004335Z",
     "shell.execute_reply": "2020-12-20T07:50:51.004859Z"
    },
    "papermill": {
     "duration": 0.047469,
     "end_time": "2020-12-20T07:50:51.005010",
     "exception": false,
     "start_time": "2020-12-20T07:50:50.957541",
     "status": "completed"
    },
    "tags": []
   },
   "outputs": [],
   "source": [
    "data=pd.read_csv(\"/kaggle/input/tcs-file/TCS.NS.csv\")"
   ]
  },
  {
   "cell_type": "code",
   "execution_count": 3,
   "metadata": {
    "execution": {
     "iopub.execute_input": "2020-12-20T07:50:51.066910Z",
     "iopub.status.busy": "2020-12-20T07:50:51.066012Z",
     "iopub.status.idle": "2020-12-20T07:50:51.096029Z",
     "shell.execute_reply": "2020-12-20T07:50:51.095408Z"
    },
    "papermill": {
     "duration": 0.062111,
     "end_time": "2020-12-20T07:50:51.096133",
     "exception": false,
     "start_time": "2020-12-20T07:50:51.034022",
     "status": "completed"
    },
    "tags": []
   },
   "outputs": [
    {
     "data": {
      "text/html": [
       "<div>\n",
       "<style scoped>\n",
       "    .dataframe tbody tr th:only-of-type {\n",
       "        vertical-align: middle;\n",
       "    }\n",
       "\n",
       "    .dataframe tbody tr th {\n",
       "        vertical-align: top;\n",
       "    }\n",
       "\n",
       "    .dataframe thead th {\n",
       "        text-align: right;\n",
       "    }\n",
       "</style>\n",
       "<table border=\"1\" class=\"dataframe\">\n",
       "  <thead>\n",
       "    <tr style=\"text-align: right;\">\n",
       "      <th></th>\n",
       "      <th>Date</th>\n",
       "      <th>Open</th>\n",
       "      <th>High</th>\n",
       "      <th>Low</th>\n",
       "      <th>Close</th>\n",
       "      <th>Adj Close</th>\n",
       "      <th>Volume</th>\n",
       "    </tr>\n",
       "  </thead>\n",
       "  <tbody>\n",
       "    <tr>\n",
       "      <th>0</th>\n",
       "      <td>2019-12-16</td>\n",
       "      <td>2096.000000</td>\n",
       "      <td>2136.000000</td>\n",
       "      <td>2080.300049</td>\n",
       "      <td>2126.750000</td>\n",
       "      <td>2086.768066</td>\n",
       "      <td>5574177.0</td>\n",
       "    </tr>\n",
       "    <tr>\n",
       "      <th>1</th>\n",
       "      <td>2019-12-17</td>\n",
       "      <td>2126.500000</td>\n",
       "      <td>2169.000000</td>\n",
       "      <td>2119.000000</td>\n",
       "      <td>2164.949951</td>\n",
       "      <td>2124.250000</td>\n",
       "      <td>6059673.0</td>\n",
       "    </tr>\n",
       "    <tr>\n",
       "      <th>2</th>\n",
       "      <td>2019-12-18</td>\n",
       "      <td>2174.000000</td>\n",
       "      <td>2203.449951</td>\n",
       "      <td>2153.000000</td>\n",
       "      <td>2167.750000</td>\n",
       "      <td>2126.997314</td>\n",
       "      <td>8251081.0</td>\n",
       "    </tr>\n",
       "    <tr>\n",
       "      <th>3</th>\n",
       "      <td>2019-12-19</td>\n",
       "      <td>2179.800049</td>\n",
       "      <td>2236.500000</td>\n",
       "      <td>2167.550049</td>\n",
       "      <td>2229.050049</td>\n",
       "      <td>2187.145264</td>\n",
       "      <td>6251505.0</td>\n",
       "    </tr>\n",
       "    <tr>\n",
       "      <th>4</th>\n",
       "      <td>2019-12-20</td>\n",
       "      <td>2220.000000</td>\n",
       "      <td>2246.699951</td>\n",
       "      <td>2208.250000</td>\n",
       "      <td>2222.899902</td>\n",
       "      <td>2181.110596</td>\n",
       "      <td>5548338.0</td>\n",
       "    </tr>\n",
       "    <tr>\n",
       "      <th>...</th>\n",
       "      <td>...</td>\n",
       "      <td>...</td>\n",
       "      <td>...</td>\n",
       "      <td>...</td>\n",
       "      <td>...</td>\n",
       "      <td>...</td>\n",
       "      <td>...</td>\n",
       "    </tr>\n",
       "    <tr>\n",
       "      <th>247</th>\n",
       "      <td>2020-12-10</td>\n",
       "      <td>2818.000000</td>\n",
       "      <td>2827.300049</td>\n",
       "      <td>2780.250000</td>\n",
       "      <td>2784.300049</td>\n",
       "      <td>2784.300049</td>\n",
       "      <td>2127801.0</td>\n",
       "    </tr>\n",
       "    <tr>\n",
       "      <th>248</th>\n",
       "      <td>2020-12-11</td>\n",
       "      <td>2792.699951</td>\n",
       "      <td>2807.699951</td>\n",
       "      <td>2764.550049</td>\n",
       "      <td>2783.600098</td>\n",
       "      <td>2783.600098</td>\n",
       "      <td>1795408.0</td>\n",
       "    </tr>\n",
       "    <tr>\n",
       "      <th>249</th>\n",
       "      <td>2020-12-14</td>\n",
       "      <td>2802.000000</td>\n",
       "      <td>2804.000000</td>\n",
       "      <td>2756.250000</td>\n",
       "      <td>2797.699951</td>\n",
       "      <td>2797.699951</td>\n",
       "      <td>2483658.0</td>\n",
       "    </tr>\n",
       "    <tr>\n",
       "      <th>250</th>\n",
       "      <td>2020-12-15</td>\n",
       "      <td>2786.000000</td>\n",
       "      <td>2794.699951</td>\n",
       "      <td>2755.000000</td>\n",
       "      <td>2761.550049</td>\n",
       "      <td>2761.550049</td>\n",
       "      <td>2365509.0</td>\n",
       "    </tr>\n",
       "    <tr>\n",
       "      <th>251</th>\n",
       "      <td>2020-12-16</td>\n",
       "      <td>2779.000000</td>\n",
       "      <td>2819.800049</td>\n",
       "      <td>2760.449951</td>\n",
       "      <td>2814.199951</td>\n",
       "      <td>2814.199951</td>\n",
       "      <td>2563601.0</td>\n",
       "    </tr>\n",
       "  </tbody>\n",
       "</table>\n",
       "<p>252 rows × 7 columns</p>\n",
       "</div>"
      ],
      "text/plain": [
       "           Date         Open         High          Low        Close  \\\n",
       "0    2019-12-16  2096.000000  2136.000000  2080.300049  2126.750000   \n",
       "1    2019-12-17  2126.500000  2169.000000  2119.000000  2164.949951   \n",
       "2    2019-12-18  2174.000000  2203.449951  2153.000000  2167.750000   \n",
       "3    2019-12-19  2179.800049  2236.500000  2167.550049  2229.050049   \n",
       "4    2019-12-20  2220.000000  2246.699951  2208.250000  2222.899902   \n",
       "..          ...          ...          ...          ...          ...   \n",
       "247  2020-12-10  2818.000000  2827.300049  2780.250000  2784.300049   \n",
       "248  2020-12-11  2792.699951  2807.699951  2764.550049  2783.600098   \n",
       "249  2020-12-14  2802.000000  2804.000000  2756.250000  2797.699951   \n",
       "250  2020-12-15  2786.000000  2794.699951  2755.000000  2761.550049   \n",
       "251  2020-12-16  2779.000000  2819.800049  2760.449951  2814.199951   \n",
       "\n",
       "       Adj Close     Volume  \n",
       "0    2086.768066  5574177.0  \n",
       "1    2124.250000  6059673.0  \n",
       "2    2126.997314  8251081.0  \n",
       "3    2187.145264  6251505.0  \n",
       "4    2181.110596  5548338.0  \n",
       "..           ...        ...  \n",
       "247  2784.300049  2127801.0  \n",
       "248  2783.600098  1795408.0  \n",
       "249  2797.699951  2483658.0  \n",
       "250  2761.550049  2365509.0  \n",
       "251  2814.199951  2563601.0  \n",
       "\n",
       "[252 rows x 7 columns]"
      ]
     },
     "execution_count": 3,
     "metadata": {},
     "output_type": "execute_result"
    }
   ],
   "source": [
    "data"
   ]
  },
  {
   "cell_type": "code",
   "execution_count": 4,
   "metadata": {
    "execution": {
     "iopub.execute_input": "2020-12-20T07:50:51.169444Z",
     "iopub.status.busy": "2020-12-20T07:50:51.168814Z",
     "iopub.status.idle": "2020-12-20T07:50:51.172998Z",
     "shell.execute_reply": "2020-12-20T07:50:51.172387Z"
    },
    "papermill": {
     "duration": 0.046373,
     "end_time": "2020-12-20T07:50:51.173115",
     "exception": false,
     "start_time": "2020-12-20T07:50:51.126742",
     "status": "completed"
    },
    "tags": []
   },
   "outputs": [
    {
     "data": {
      "text/html": [
       "<div>\n",
       "<style scoped>\n",
       "    .dataframe tbody tr th:only-of-type {\n",
       "        vertical-align: middle;\n",
       "    }\n",
       "\n",
       "    .dataframe tbody tr th {\n",
       "        vertical-align: top;\n",
       "    }\n",
       "\n",
       "    .dataframe thead th {\n",
       "        text-align: right;\n",
       "    }\n",
       "</style>\n",
       "<table border=\"1\" class=\"dataframe\">\n",
       "  <thead>\n",
       "    <tr style=\"text-align: right;\">\n",
       "      <th></th>\n",
       "      <th>Date</th>\n",
       "      <th>Open</th>\n",
       "      <th>High</th>\n",
       "      <th>Low</th>\n",
       "      <th>Close</th>\n",
       "      <th>Adj Close</th>\n",
       "      <th>Volume</th>\n",
       "    </tr>\n",
       "  </thead>\n",
       "  <tbody>\n",
       "    <tr>\n",
       "      <th>0</th>\n",
       "      <td>2019-12-16</td>\n",
       "      <td>2096.000000</td>\n",
       "      <td>2136.000000</td>\n",
       "      <td>2080.300049</td>\n",
       "      <td>2126.750000</td>\n",
       "      <td>2086.768066</td>\n",
       "      <td>5574177.0</td>\n",
       "    </tr>\n",
       "    <tr>\n",
       "      <th>1</th>\n",
       "      <td>2019-12-17</td>\n",
       "      <td>2126.500000</td>\n",
       "      <td>2169.000000</td>\n",
       "      <td>2119.000000</td>\n",
       "      <td>2164.949951</td>\n",
       "      <td>2124.250000</td>\n",
       "      <td>6059673.0</td>\n",
       "    </tr>\n",
       "    <tr>\n",
       "      <th>2</th>\n",
       "      <td>2019-12-18</td>\n",
       "      <td>2174.000000</td>\n",
       "      <td>2203.449951</td>\n",
       "      <td>2153.000000</td>\n",
       "      <td>2167.750000</td>\n",
       "      <td>2126.997314</td>\n",
       "      <td>8251081.0</td>\n",
       "    </tr>\n",
       "    <tr>\n",
       "      <th>3</th>\n",
       "      <td>2019-12-19</td>\n",
       "      <td>2179.800049</td>\n",
       "      <td>2236.500000</td>\n",
       "      <td>2167.550049</td>\n",
       "      <td>2229.050049</td>\n",
       "      <td>2187.145264</td>\n",
       "      <td>6251505.0</td>\n",
       "    </tr>\n",
       "    <tr>\n",
       "      <th>4</th>\n",
       "      <td>2019-12-20</td>\n",
       "      <td>2220.000000</td>\n",
       "      <td>2246.699951</td>\n",
       "      <td>2208.250000</td>\n",
       "      <td>2222.899902</td>\n",
       "      <td>2181.110596</td>\n",
       "      <td>5548338.0</td>\n",
       "    </tr>\n",
       "  </tbody>\n",
       "</table>\n",
       "</div>"
      ],
      "text/plain": [
       "         Date         Open         High          Low        Close  \\\n",
       "0  2019-12-16  2096.000000  2136.000000  2080.300049  2126.750000   \n",
       "1  2019-12-17  2126.500000  2169.000000  2119.000000  2164.949951   \n",
       "2  2019-12-18  2174.000000  2203.449951  2153.000000  2167.750000   \n",
       "3  2019-12-19  2179.800049  2236.500000  2167.550049  2229.050049   \n",
       "4  2019-12-20  2220.000000  2246.699951  2208.250000  2222.899902   \n",
       "\n",
       "     Adj Close     Volume  \n",
       "0  2086.768066  5574177.0  \n",
       "1  2124.250000  6059673.0  \n",
       "2  2126.997314  8251081.0  \n",
       "3  2187.145264  6251505.0  \n",
       "4  2181.110596  5548338.0  "
      ]
     },
     "execution_count": 4,
     "metadata": {},
     "output_type": "execute_result"
    }
   ],
   "source": [
    "data.head()"
   ]
  },
  {
   "cell_type": "code",
   "execution_count": 5,
   "metadata": {
    "execution": {
     "iopub.execute_input": "2020-12-20T07:50:51.241064Z",
     "iopub.status.busy": "2020-12-20T07:50:51.240218Z",
     "iopub.status.idle": "2020-12-20T07:50:51.243963Z",
     "shell.execute_reply": "2020-12-20T07:50:51.244424Z"
    },
    "papermill": {
     "duration": 0.039897,
     "end_time": "2020-12-20T07:50:51.244571",
     "exception": false,
     "start_time": "2020-12-20T07:50:51.204674",
     "status": "completed"
    },
    "tags": []
   },
   "outputs": [
    {
     "data": {
      "text/plain": [
       "Date          object\n",
       "Open         float64\n",
       "High         float64\n",
       "Low          float64\n",
       "Close        float64\n",
       "Adj Close    float64\n",
       "Volume       float64\n",
       "dtype: object"
      ]
     },
     "execution_count": 5,
     "metadata": {},
     "output_type": "execute_result"
    }
   ],
   "source": [
    "data.dtypes"
   ]
  },
  {
   "cell_type": "code",
   "execution_count": 6,
   "metadata": {
    "execution": {
     "iopub.execute_input": "2020-12-20T07:50:51.313341Z",
     "iopub.status.busy": "2020-12-20T07:50:51.312586Z",
     "iopub.status.idle": "2020-12-20T07:50:51.316019Z",
     "shell.execute_reply": "2020-12-20T07:50:51.315549Z"
    },
    "papermill": {
     "duration": 0.041282,
     "end_time": "2020-12-20T07:50:51.316112",
     "exception": false,
     "start_time": "2020-12-20T07:50:51.274830",
     "status": "completed"
    },
    "tags": []
   },
   "outputs": [
    {
     "data": {
      "text/plain": [
       "Date         0\n",
       "Open         1\n",
       "High         1\n",
       "Low          1\n",
       "Close        1\n",
       "Adj Close    1\n",
       "Volume       1\n",
       "dtype: int64"
      ]
     },
     "execution_count": 6,
     "metadata": {},
     "output_type": "execute_result"
    }
   ],
   "source": [
    "data.isnull().sum()"
   ]
  },
  {
   "cell_type": "code",
   "execution_count": 7,
   "metadata": {
    "execution": {
     "iopub.execute_input": "2020-12-20T07:50:51.385459Z",
     "iopub.status.busy": "2020-12-20T07:50:51.384866Z",
     "iopub.status.idle": "2020-12-20T07:50:51.407613Z",
     "shell.execute_reply": "2020-12-20T07:50:51.408109Z"
    },
    "papermill": {
     "duration": 0.060717,
     "end_time": "2020-12-20T07:50:51.408262",
     "exception": false,
     "start_time": "2020-12-20T07:50:51.347545",
     "status": "completed"
    },
    "tags": []
   },
   "outputs": [],
   "source": [
    "data=data.dropna()"
   ]
  },
  {
   "cell_type": "code",
   "execution_count": 8,
   "metadata": {
    "execution": {
     "iopub.execute_input": "2020-12-20T07:50:51.475527Z",
     "iopub.status.busy": "2020-12-20T07:50:51.474927Z",
     "iopub.status.idle": "2020-12-20T07:50:51.481468Z",
     "shell.execute_reply": "2020-12-20T07:50:51.481896Z"
    },
    "papermill": {
     "duration": 0.041155,
     "end_time": "2020-12-20T07:50:51.482051",
     "exception": false,
     "start_time": "2020-12-20T07:50:51.440896",
     "status": "completed"
    },
    "tags": []
   },
   "outputs": [
    {
     "data": {
      "text/plain": [
       "Date         0\n",
       "Open         0\n",
       "High         0\n",
       "Low          0\n",
       "Close        0\n",
       "Adj Close    0\n",
       "Volume       0\n",
       "dtype: int64"
      ]
     },
     "execution_count": 8,
     "metadata": {},
     "output_type": "execute_result"
    }
   ],
   "source": [
    "data.isnull().sum()"
   ]
  },
  {
   "cell_type": "code",
   "execution_count": 9,
   "metadata": {
    "execution": {
     "iopub.execute_input": "2020-12-20T07:50:51.548662Z",
     "iopub.status.busy": "2020-12-20T07:50:51.548059Z",
     "iopub.status.idle": "2020-12-20T07:50:51.575439Z",
     "shell.execute_reply": "2020-12-20T07:50:51.575965Z"
    },
    "papermill": {
     "duration": 0.062275,
     "end_time": "2020-12-20T07:50:51.576102",
     "exception": false,
     "start_time": "2020-12-20T07:50:51.513827",
     "status": "completed"
    },
    "tags": []
   },
   "outputs": [
    {
     "data": {
      "text/html": [
       "<div>\n",
       "<style scoped>\n",
       "    .dataframe tbody tr th:only-of-type {\n",
       "        vertical-align: middle;\n",
       "    }\n",
       "\n",
       "    .dataframe tbody tr th {\n",
       "        vertical-align: top;\n",
       "    }\n",
       "\n",
       "    .dataframe thead th {\n",
       "        text-align: right;\n",
       "    }\n",
       "</style>\n",
       "<table border=\"1\" class=\"dataframe\">\n",
       "  <thead>\n",
       "    <tr style=\"text-align: right;\">\n",
       "      <th></th>\n",
       "      <th>Open</th>\n",
       "      <th>High</th>\n",
       "      <th>Low</th>\n",
       "      <th>Close</th>\n",
       "      <th>Adj Close</th>\n",
       "      <th>Volume</th>\n",
       "    </tr>\n",
       "  </thead>\n",
       "  <tbody>\n",
       "    <tr>\n",
       "      <th>count</th>\n",
       "      <td>251.000000</td>\n",
       "      <td>251.000000</td>\n",
       "      <td>251.000000</td>\n",
       "      <td>251.000000</td>\n",
       "      <td>251.000000</td>\n",
       "      <td>2.510000e+02</td>\n",
       "    </tr>\n",
       "    <tr>\n",
       "      <th>mean</th>\n",
       "      <td>2234.510356</td>\n",
       "      <td>2265.382260</td>\n",
       "      <td>2205.041843</td>\n",
       "      <td>2233.662748</td>\n",
       "      <td>2216.480165</td>\n",
       "      <td>4.039248e+06</td>\n",
       "    </tr>\n",
       "    <tr>\n",
       "      <th>std</th>\n",
       "      <td>304.529785</td>\n",
       "      <td>298.283311</td>\n",
       "      <td>306.963270</td>\n",
       "      <td>303.157522</td>\n",
       "      <td>310.037930</td>\n",
       "      <td>2.263970e+06</td>\n",
       "    </tr>\n",
       "    <tr>\n",
       "      <th>min</th>\n",
       "      <td>1559.699951</td>\n",
       "      <td>1685.449951</td>\n",
       "      <td>1506.050049</td>\n",
       "      <td>1636.349976</td>\n",
       "      <td>1620.991089</td>\n",
       "      <td>1.319430e+06</td>\n",
       "    </tr>\n",
       "    <tr>\n",
       "      <th>25%</th>\n",
       "      <td>2045.500000</td>\n",
       "      <td>2064.000000</td>\n",
       "      <td>2019.974976</td>\n",
       "      <td>2043.399964</td>\n",
       "      <td>2027.115601</td>\n",
       "      <td>2.660976e+06</td>\n",
       "    </tr>\n",
       "    <tr>\n",
       "      <th>50%</th>\n",
       "      <td>2205.000000</td>\n",
       "      <td>2226.899902</td>\n",
       "      <td>2183.800049</td>\n",
       "      <td>2201.949951</td>\n",
       "      <td>2165.411377</td>\n",
       "      <td>3.400908e+06</td>\n",
       "    </tr>\n",
       "    <tr>\n",
       "      <th>75%</th>\n",
       "      <td>2409.475098</td>\n",
       "      <td>2447.000000</td>\n",
       "      <td>2359.050049</td>\n",
       "      <td>2424.300049</td>\n",
       "      <td>2414.007812</td>\n",
       "      <td>4.760710e+06</td>\n",
       "    </tr>\n",
       "    <tr>\n",
       "      <th>max</th>\n",
       "      <td>2845.000000</td>\n",
       "      <td>2885.000000</td>\n",
       "      <td>2812.199951</td>\n",
       "      <td>2830.000000</td>\n",
       "      <td>2817.985352</td>\n",
       "      <td>1.983933e+07</td>\n",
       "    </tr>\n",
       "  </tbody>\n",
       "</table>\n",
       "</div>"
      ],
      "text/plain": [
       "              Open         High          Low        Close    Adj Close  \\\n",
       "count   251.000000   251.000000   251.000000   251.000000   251.000000   \n",
       "mean   2234.510356  2265.382260  2205.041843  2233.662748  2216.480165   \n",
       "std     304.529785   298.283311   306.963270   303.157522   310.037930   \n",
       "min    1559.699951  1685.449951  1506.050049  1636.349976  1620.991089   \n",
       "25%    2045.500000  2064.000000  2019.974976  2043.399964  2027.115601   \n",
       "50%    2205.000000  2226.899902  2183.800049  2201.949951  2165.411377   \n",
       "75%    2409.475098  2447.000000  2359.050049  2424.300049  2414.007812   \n",
       "max    2845.000000  2885.000000  2812.199951  2830.000000  2817.985352   \n",
       "\n",
       "             Volume  \n",
       "count  2.510000e+02  \n",
       "mean   4.039248e+06  \n",
       "std    2.263970e+06  \n",
       "min    1.319430e+06  \n",
       "25%    2.660976e+06  \n",
       "50%    3.400908e+06  \n",
       "75%    4.760710e+06  \n",
       "max    1.983933e+07  "
      ]
     },
     "execution_count": 9,
     "metadata": {},
     "output_type": "execute_result"
    }
   ],
   "source": [
    "data.describe()"
   ]
  },
  {
   "cell_type": "code",
   "execution_count": 10,
   "metadata": {
    "execution": {
     "iopub.execute_input": "2020-12-20T07:50:51.645762Z",
     "iopub.status.busy": "2020-12-20T07:50:51.645116Z",
     "iopub.status.idle": "2020-12-20T07:50:52.809357Z",
     "shell.execute_reply": "2020-12-20T07:50:52.809846Z"
    },
    "papermill": {
     "duration": 1.200654,
     "end_time": "2020-12-20T07:50:52.809984",
     "exception": false,
     "start_time": "2020-12-20T07:50:51.609330",
     "status": "completed"
    },
    "tags": []
   },
   "outputs": [
    {
     "data": {
      "image/png": "[encoded data removed]",
      "text/plain": [
       "<Figure size 432x288 with 2 Axes>"
      ]
     },
     "metadata": {
      "needs_background": "light"
     },
     "output_type": "display_data"
    }
   ],
   "source": [
    "import seaborn as sns\n",
    "\n",
    "cor = sns.heatmap(data.corr(), annot = True)"
   ]
  },
  {
   "cell_type": "code",
   "execution_count": 11,
   "metadata": {
    "execution": {
     "iopub.execute_input": "2020-12-20T07:50:52.882739Z",
     "iopub.status.busy": "2020-12-20T07:50:52.882116Z",
     "iopub.status.idle": "2020-12-20T07:50:52.888071Z",
     "shell.execute_reply": "2020-12-20T07:50:52.888584Z"
    },
    "papermill": {
     "duration": 0.043726,
     "end_time": "2020-12-20T07:50:52.888717",
     "exception": false,
     "start_time": "2020-12-20T07:50:52.844991",
     "status": "completed"
    },
    "tags": []
   },
   "outputs": [],
   "source": [
    "#Let's select our features\n",
    "x = data.loc[:,'Open':'Low']\n",
    "y = data.loc[:,'Close']"
   ]
  },
  {
   "cell_type": "code",
   "execution_count": 12,
   "metadata": {
    "execution": {
     "iopub.execute_input": "2020-12-20T07:50:52.960888Z",
     "iopub.status.busy": "2020-12-20T07:50:52.959970Z",
     "iopub.status.idle": "2020-12-20T07:50:52.969929Z",
     "shell.execute_reply": "2020-12-20T07:50:52.970405Z"
    },
    "papermill": {
     "duration": 0.047508,
     "end_time": "2020-12-20T07:50:52.970531",
     "exception": false,
     "start_time": "2020-12-20T07:50:52.923023",
     "status": "completed"
    },
    "tags": []
   },
   "outputs": [
    {
     "data": {
      "text/html": [
       "<div>\n",
       "<style scoped>\n",
       "    .dataframe tbody tr th:only-of-type {\n",
       "        vertical-align: middle;\n",
       "    }\n",
       "\n",
       "    .dataframe tbody tr th {\n",
       "        vertical-align: top;\n",
       "    }\n",
       "\n",
       "    .dataframe thead th {\n",
       "        text-align: right;\n",
       "    }\n",
       "</style>\n",
       "<table border=\"1\" class=\"dataframe\">\n",
       "  <thead>\n",
       "    <tr style=\"text-align: right;\">\n",
       "      <th></th>\n",
       "      <th>Open</th>\n",
       "      <th>High</th>\n",
       "      <th>Low</th>\n",
       "    </tr>\n",
       "  </thead>\n",
       "  <tbody>\n",
       "    <tr>\n",
       "      <th>0</th>\n",
       "      <td>2096.000000</td>\n",
       "      <td>2136.000000</td>\n",
       "      <td>2080.300049</td>\n",
       "    </tr>\n",
       "    <tr>\n",
       "      <th>1</th>\n",
       "      <td>2126.500000</td>\n",
       "      <td>2169.000000</td>\n",
       "      <td>2119.000000</td>\n",
       "    </tr>\n",
       "    <tr>\n",
       "      <th>2</th>\n",
       "      <td>2174.000000</td>\n",
       "      <td>2203.449951</td>\n",
       "      <td>2153.000000</td>\n",
       "    </tr>\n",
       "    <tr>\n",
       "      <th>3</th>\n",
       "      <td>2179.800049</td>\n",
       "      <td>2236.500000</td>\n",
       "      <td>2167.550049</td>\n",
       "    </tr>\n",
       "    <tr>\n",
       "      <th>4</th>\n",
       "      <td>2220.000000</td>\n",
       "      <td>2246.699951</td>\n",
       "      <td>2208.250000</td>\n",
       "    </tr>\n",
       "  </tbody>\n",
       "</table>\n",
       "</div>"
      ],
      "text/plain": [
       "          Open         High          Low\n",
       "0  2096.000000  2136.000000  2080.300049\n",
       "1  2126.500000  2169.000000  2119.000000\n",
       "2  2174.000000  2203.449951  2153.000000\n",
       "3  2179.800049  2236.500000  2167.550049\n",
       "4  2220.000000  2246.699951  2208.250000"
      ]
     },
     "execution_count": 12,
     "metadata": {},
     "output_type": "execute_result"
    }
   ],
   "source": [
    "x.head()"
   ]
  },
  {
   "cell_type": "code",
   "execution_count": 13,
   "metadata": {
    "execution": {
     "iopub.execute_input": "2020-12-20T07:50:53.047532Z",
     "iopub.status.busy": "2020-12-20T07:50:53.046655Z",
     "iopub.status.idle": "2020-12-20T07:50:53.050393Z",
     "shell.execute_reply": "2020-12-20T07:50:53.050821Z"
    },
    "papermill": {
     "duration": 0.04511,
     "end_time": "2020-12-20T07:50:53.050965",
     "exception": false,
     "start_time": "2020-12-20T07:50:53.005855",
     "status": "completed"
    },
    "tags": []
   },
   "outputs": [
    {
     "data": {
      "text/plain": [
       "0      2126.750000\n",
       "1      2164.949951\n",
       "2      2167.750000\n",
       "3      2229.050049\n",
       "4      2222.899902\n",
       "          ...     \n",
       "247    2784.300049\n",
       "248    2783.600098\n",
       "249    2797.699951\n",
       "250    2761.550049\n",
       "251    2814.199951\n",
       "Name: Close, Length: 251, dtype: float64"
      ]
     },
     "execution_count": 13,
     "metadata": {},
     "output_type": "execute_result"
    }
   ],
   "source": [
    "y"
   ]
  },
  {
   "cell_type": "code",
   "execution_count": 14,
   "metadata": {
    "execution": {
     "iopub.execute_input": "2020-12-20T07:50:53.127022Z",
     "iopub.status.busy": "2020-12-20T07:50:53.126403Z",
     "iopub.status.idle": "2020-12-20T07:50:53.230486Z",
     "shell.execute_reply": "2020-12-20T07:50:53.230987Z"
    },
    "papermill": {
     "duration": 0.144261,
     "end_time": "2020-12-20T07:50:53.231120",
     "exception": false,
     "start_time": "2020-12-20T07:50:53.086859",
     "status": "completed"
    },
    "tags": []
   },
   "outputs": [],
   "source": [
    "from sklearn.model_selection import train_test_split"
   ]
  },
  {
   "cell_type": "code",
   "execution_count": 15,
   "metadata": {
    "execution": {
     "iopub.execute_input": "2020-12-20T07:50:53.303743Z",
     "iopub.status.busy": "2020-12-20T07:50:53.303155Z",
     "iopub.status.idle": "2020-12-20T07:50:53.309040Z",
     "shell.execute_reply": "2020-12-20T07:50:53.309533Z"
    },
    "papermill": {
     "duration": 0.043562,
     "end_time": "2020-12-20T07:50:53.309652",
     "exception": false,
     "start_time": "2020-12-20T07:50:53.266090",
     "status": "completed"
    },
    "tags": []
   },
   "outputs": [],
   "source": [
    "from sklearn.model_selection import train_test_split\n",
    "x_train,x_test,y_train,y_test = train_test_split(x,y,test_size = 0.1,random_state = 0)"
   ]
  },
  {
   "cell_type": "code",
   "execution_count": 16,
   "metadata": {
    "execution": {
     "iopub.execute_input": "2020-12-20T07:50:53.383274Z",
     "iopub.status.busy": "2020-12-20T07:50:53.382619Z",
     "iopub.status.idle": "2020-12-20T07:50:53.385291Z",
     "shell.execute_reply": "2020-12-20T07:50:53.385737Z"
    },
    "papermill": {
     "duration": 0.041341,
     "end_time": "2020-12-20T07:50:53.385889",
     "exception": false,
     "start_time": "2020-12-20T07:50:53.344548",
     "status": "completed"
    },
    "tags": []
   },
   "outputs": [],
   "source": [
    "# LINEARE"
   ]
  },
  {
   "cell_type": "code",
   "execution_count": 17,
   "metadata": {
    "execution": {
     "iopub.execute_input": "2020-12-20T07:50:53.458399Z",
     "iopub.status.busy": "2020-12-20T07:50:53.457813Z",
     "iopub.status.idle": "2020-12-20T07:50:53.541088Z",
     "shell.execute_reply": "2020-12-20T07:50:53.539823Z"
    },
    "papermill": {
     "duration": 0.120919,
     "end_time": "2020-12-20T07:50:53.541226",
     "exception": false,
     "start_time": "2020-12-20T07:50:53.420307",
     "status": "completed"
    },
    "tags": []
   },
   "outputs": [],
   "source": [
    "from sklearn.linear_model import LinearRegression"
   ]
  },
  {
   "cell_type": "code",
   "execution_count": 18,
   "metadata": {
    "execution": {
     "iopub.execute_input": "2020-12-20T07:50:53.618941Z",
     "iopub.status.busy": "2020-12-20T07:50:53.618289Z",
     "iopub.status.idle": "2020-12-20T07:50:53.621237Z",
     "shell.execute_reply": "2020-12-20T07:50:53.620649Z"
    },
    "papermill": {
     "duration": 0.043451,
     "end_time": "2020-12-20T07:50:53.621338",
     "exception": false,
     "start_time": "2020-12-20T07:50:53.577887",
     "status": "completed"
    },
    "tags": []
   },
   "outputs": [],
   "source": [
    "LR = LinearRegression()"
   ]
  },
  {
   "cell_type": "code",
   "execution_count": 19,
   "metadata": {
    "execution": {
     "iopub.execute_input": "2020-12-20T07:50:53.735350Z",
     "iopub.status.busy": "2020-12-20T07:50:53.734637Z",
     "iopub.status.idle": "2020-12-20T07:50:53.740773Z",
     "shell.execute_reply": "2020-12-20T07:50:53.741299Z"
    },
    "papermill": {
     "duration": 0.08411,
     "end_time": "2020-12-20T07:50:53.741438",
     "exception": false,
     "start_time": "2020-12-20T07:50:53.657328",
     "status": "completed"
    },
    "tags": []
   },
   "outputs": [
    {
     "data": {
      "text/plain": [
       "LinearRegression()"
      ]
     },
     "execution_count": 19,
     "metadata": {},
     "output_type": "execute_result"
    }
   ],
   "source": [
    "LR.fit(x_train,y_train)"
   ]
  },
  {
   "cell_type": "code",
   "execution_count": 20,
   "metadata": {
    "execution": {
     "iopub.execute_input": "2020-12-20T07:50:53.817897Z",
     "iopub.status.busy": "2020-12-20T07:50:53.816883Z",
     "iopub.status.idle": "2020-12-20T07:50:53.824977Z",
     "shell.execute_reply": "2020-12-20T07:50:53.825603Z"
    },
    "papermill": {
     "duration": 0.047689,
     "end_time": "2020-12-20T07:50:53.825751",
     "exception": false,
     "start_time": "2020-12-20T07:50:53.778062",
     "status": "completed"
    },
    "tags": []
   },
   "outputs": [
    {
     "data": {
      "text/plain": [
       "0.9958201352745529"
      ]
     },
     "execution_count": 20,
     "metadata": {},
     "output_type": "execute_result"
    }
   ],
   "source": [
    "LR.score(x_test,y_test)"
   ]
  },
  {
   "cell_type": "code",
   "execution_count": 21,
   "metadata": {
    "execution": {
     "iopub.execute_input": "2020-12-20T07:50:53.902969Z",
     "iopub.status.busy": "2020-12-20T07:50:53.901944Z",
     "iopub.status.idle": "2020-12-20T07:50:53.911626Z",
     "shell.execute_reply": "2020-12-20T07:50:53.912181Z"
    },
    "papermill": {
     "duration": 0.050086,
     "end_time": "2020-12-20T07:50:53.912332",
     "exception": false,
     "start_time": "2020-12-20T07:50:53.862246",
     "status": "completed"
    },
    "tags": []
   },
   "outputs": [
    {
     "data": {
      "text/html": [
       "<div>\n",
       "<style scoped>\n",
       "    .dataframe tbody tr th:only-of-type {\n",
       "        vertical-align: middle;\n",
       "    }\n",
       "\n",
       "    .dataframe tbody tr th {\n",
       "        vertical-align: top;\n",
       "    }\n",
       "\n",
       "    .dataframe thead th {\n",
       "        text-align: right;\n",
       "    }\n",
       "</style>\n",
       "<table border=\"1\" class=\"dataframe\">\n",
       "  <thead>\n",
       "    <tr style=\"text-align: right;\">\n",
       "      <th></th>\n",
       "      <th>Open</th>\n",
       "      <th>High</th>\n",
       "      <th>Low</th>\n",
       "    </tr>\n",
       "  </thead>\n",
       "  <tbody>\n",
       "    <tr>\n",
       "      <th>0</th>\n",
       "      <td>2096.0</td>\n",
       "      <td>2136.0</td>\n",
       "      <td>2080.300049</td>\n",
       "    </tr>\n",
       "    <tr>\n",
       "      <th>1</th>\n",
       "      <td>2126.5</td>\n",
       "      <td>2169.0</td>\n",
       "      <td>2119.000000</td>\n",
       "    </tr>\n",
       "  </tbody>\n",
       "</table>\n",
       "</div>"
      ],
      "text/plain": [
       "     Open    High          Low\n",
       "0  2096.0  2136.0  2080.300049\n",
       "1  2126.5  2169.0  2119.000000"
      ]
     },
     "execution_count": 21,
     "metadata": {},
     "output_type": "execute_result"
    }
   ],
   "source": [
    "x.head(2)"
   ]
  },
  {
   "cell_type": "code",
   "execution_count": 22,
   "metadata": {
    "execution": {
     "iopub.execute_input": "2020-12-20T07:50:53.991114Z",
     "iopub.status.busy": "2020-12-20T07:50:53.990163Z",
     "iopub.status.idle": "2020-12-20T07:50:53.995691Z",
     "shell.execute_reply": "2020-12-20T07:50:53.995118Z"
    },
    "papermill": {
     "duration": 0.045752,
     "end_time": "2020-12-20T07:50:53.995787",
     "exception": false,
     "start_time": "2020-12-20T07:50:53.950035",
     "status": "completed"
    },
    "tags": []
   },
   "outputs": [],
   "source": [
    "Test_data = [[2786.0,2794.6,2755.0]]\n",
    "prediction = LR.predict(Test_data)"
   ]
  },
  {
   "cell_type": "code",
   "execution_count": 23,
   "metadata": {
    "execution": {
     "iopub.execute_input": "2020-12-20T07:50:54.076083Z",
     "iopub.status.busy": "2020-12-20T07:50:54.075238Z",
     "iopub.status.idle": "2020-12-20T07:50:54.081563Z",
     "shell.execute_reply": "2020-12-20T07:50:54.080858Z"
    },
    "papermill": {
     "duration": 0.045244,
     "end_time": "2020-12-20T07:50:54.081697",
     "exception": false,
     "start_time": "2020-12-20T07:50:54.036453",
     "status": "completed"
    },
    "tags": []
   },
   "outputs": [
    {
     "name": "stdout",
     "output_type": "stream",
     "text": [
      "[2771.08659441]\n"
     ]
    }
   ],
   "source": [
    "print(prediction)"
   ]
  },
  {
   "cell_type": "code",
   "execution_count": 24,
   "metadata": {
    "execution": {
     "iopub.execute_input": "2020-12-20T07:50:54.168440Z",
     "iopub.status.busy": "2020-12-20T07:50:54.167808Z",
     "iopub.status.idle": "2020-12-20T07:50:54.173861Z",
     "shell.execute_reply": "2020-12-20T07:50:54.173405Z"
    },
    "papermill": {
     "duration": 0.054993,
     "end_time": "2020-12-20T07:50:54.173956",
     "exception": false,
     "start_time": "2020-12-20T07:50:54.118963",
     "status": "completed"
    },
    "tags": []
   },
   "outputs": [
    {
     "data": {
      "text/html": [
       "<div>\n",
       "<style scoped>\n",
       "    .dataframe tbody tr th:only-of-type {\n",
       "        vertical-align: middle;\n",
       "    }\n",
       "\n",
       "    .dataframe tbody tr th {\n",
       "        vertical-align: top;\n",
       "    }\n",
       "\n",
       "    .dataframe thead th {\n",
       "        text-align: right;\n",
       "    }\n",
       "</style>\n",
       "<table border=\"1\" class=\"dataframe\">\n",
       "  <thead>\n",
       "    <tr style=\"text-align: right;\">\n",
       "      <th></th>\n",
       "      <th>Date</th>\n",
       "      <th>Open</th>\n",
       "      <th>High</th>\n",
       "      <th>Low</th>\n",
       "      <th>Close</th>\n",
       "      <th>Adj Close</th>\n",
       "      <th>Volume</th>\n",
       "    </tr>\n",
       "  </thead>\n",
       "  <tbody>\n",
       "    <tr>\n",
       "      <th>250</th>\n",
       "      <td>2020-12-15</td>\n",
       "      <td>2786.0</td>\n",
       "      <td>2794.699951</td>\n",
       "      <td>2755.000000</td>\n",
       "      <td>2761.550049</td>\n",
       "      <td>2761.550049</td>\n",
       "      <td>2365509.0</td>\n",
       "    </tr>\n",
       "    <tr>\n",
       "      <th>251</th>\n",
       "      <td>2020-12-16</td>\n",
       "      <td>2779.0</td>\n",
       "      <td>2819.800049</td>\n",
       "      <td>2760.449951</td>\n",
       "      <td>2814.199951</td>\n",
       "      <td>2814.199951</td>\n",
       "      <td>2563601.0</td>\n",
       "    </tr>\n",
       "  </tbody>\n",
       "</table>\n",
       "</div>"
      ],
      "text/plain": [
       "           Date    Open         High          Low        Close    Adj Close  \\\n",
       "250  2020-12-15  2786.0  2794.699951  2755.000000  2761.550049  2761.550049   \n",
       "251  2020-12-16  2779.0  2819.800049  2760.449951  2814.199951  2814.199951   \n",
       "\n",
       "        Volume  \n",
       "250  2365509.0  \n",
       "251  2563601.0  "
      ]
     },
     "execution_count": 24,
     "metadata": {},
     "output_type": "execute_result"
    }
   ],
   "source": [
    "data.tail(2)"
   ]
  },
  {
   "cell_type": "code",
   "execution_count": 25,
   "metadata": {
    "execution": {
     "iopub.execute_input": "2020-12-20T07:50:54.254498Z",
     "iopub.status.busy": "2020-12-20T07:50:54.253905Z",
     "iopub.status.idle": "2020-12-20T07:50:54.257319Z",
     "shell.execute_reply": "2020-12-20T07:50:54.256804Z"
    },
    "papermill": {
     "duration": 0.045302,
     "end_time": "2020-12-20T07:50:54.257434",
     "exception": false,
     "start_time": "2020-12-20T07:50:54.212132",
     "status": "completed"
    },
    "tags": []
   },
   "outputs": [],
   "source": [
    "Test_data = [[2811.0, 2845.00 ,2805.0]]\n",
    "prediction = LR.predict(Test_data)"
   ]
  },
  {
   "cell_type": "code",
   "execution_count": 26,
   "metadata": {
    "execution": {
     "iopub.execute_input": "2020-12-20T07:50:54.335952Z",
     "iopub.status.busy": "2020-12-20T07:50:54.335367Z",
     "iopub.status.idle": "2020-12-20T07:50:54.339528Z",
     "shell.execute_reply": "2020-12-20T07:50:54.339050Z"
    },
    "papermill": {
     "duration": 0.046022,
     "end_time": "2020-12-20T07:50:54.339628",
     "exception": false,
     "start_time": "2020-12-20T07:50:54.293606",
     "status": "completed"
    },
    "tags": []
   },
   "outputs": [
    {
     "name": "stdout",
     "output_type": "stream",
     "text": [
      "[2831.93994148]\n"
     ]
    }
   ],
   "source": [
    "print(prediction)"
   ]
  },
  {
   "cell_type": "code",
   "execution_count": 27,
   "metadata": {
    "execution": {
     "iopub.execute_input": "2020-12-20T07:50:54.422663Z",
     "iopub.status.busy": "2020-12-20T07:50:54.421671Z",
     "iopub.status.idle": "2020-12-20T07:50:54.424641Z",
     "shell.execute_reply": "2020-12-20T07:50:54.423926Z"
    },
    "papermill": {
     "duration": 0.046341,
     "end_time": "2020-12-20T07:50:54.424751",
     "exception": false,
     "start_time": "2020-12-20T07:50:54.378410",
     "status": "completed"
    },
    "tags": []
   },
   "outputs": [],
   "source": [
    "## LSTM"
   ]
  },
  {
   "cell_type": "code",
   "execution_count": 28,
   "metadata": {
    "execution": {
     "iopub.execute_input": "2020-12-20T07:50:54.506838Z",
     "iopub.status.busy": "2020-12-20T07:50:54.506054Z",
     "iopub.status.idle": "2020-12-20T07:50:54.508907Z",
     "shell.execute_reply": "2020-12-20T07:50:54.509354Z"
    },
    "papermill": {
     "duration": 0.04579,
     "end_time": "2020-12-20T07:50:54.509488",
     "exception": false,
     "start_time": "2020-12-20T07:50:54.463698",
     "status": "completed"
    },
    "tags": []
   },
   "outputs": [],
   "source": [
    "import math"
   ]
  },
  {
   "cell_type": "code",
   "execution_count": 29,
   "metadata": {
    "execution": {
     "iopub.execute_input": "2020-12-20T07:50:54.595727Z",
     "iopub.status.busy": "2020-12-20T07:50:54.595112Z",
     "iopub.status.idle": "2020-12-20T07:50:54.597808Z",
     "shell.execute_reply": "2020-12-20T07:50:54.598388Z"
    },
    "papermill": {
     "duration": 0.049133,
     "end_time": "2020-12-20T07:50:54.598519",
     "exception": false,
     "start_time": "2020-12-20T07:50:54.549386",
     "status": "completed"
    },
    "tags": []
   },
   "outputs": [
    {
     "data": {
      "text/plain": [
       "201"
      ]
     },
     "execution_count": 29,
     "metadata": {},
     "output_type": "execute_result"
    }
   ],
   "source": [
    "data = data.filter(['Close'])\n",
    "#Converting the dataframe to a numpy array\n",
    "dataset = data.values\n",
    "#Get /Compute the number of rows to train the model on\n",
    "training_data_len = math.ceil( len(dataset) *.8)\n",
    "training_data_len"
   ]
  },
  {
   "cell_type": "code",
   "execution_count": 30,
   "metadata": {
    "execution": {
     "iopub.execute_input": "2020-12-20T07:50:54.680151Z",
     "iopub.status.busy": "2020-12-20T07:50:54.679560Z",
     "iopub.status.idle": "2020-12-20T07:50:54.683118Z",
     "shell.execute_reply": "2020-12-20T07:50:54.683659Z"
    },
    "papermill": {
     "duration": 0.046077,
     "end_time": "2020-12-20T07:50:54.683794",
     "exception": false,
     "start_time": "2020-12-20T07:50:54.637717",
     "status": "completed"
    },
    "tags": []
   },
   "outputs": [],
   "source": [
    "from sklearn.preprocessing import MinMaxScaler "
   ]
  },
  {
   "cell_type": "code",
   "execution_count": 31,
   "metadata": {
    "execution": {
     "iopub.execute_input": "2020-12-20T07:50:54.768387Z",
     "iopub.status.busy": "2020-12-20T07:50:54.767799Z",
     "iopub.status.idle": "2020-12-20T07:50:54.779643Z",
     "shell.execute_reply": "2020-12-20T07:50:54.779135Z"
    },
    "papermill": {
     "duration": 0.055268,
     "end_time": "2020-12-20T07:50:54.779756",
     "exception": false,
     "start_time": "2020-12-20T07:50:54.724488",
     "status": "completed"
    },
    "tags": []
   },
   "outputs": [
    {
     "data": {
      "text/plain": [
       "array([[0.41084071],\n",
       "       [0.44284335],\n",
       "       [0.44518914],\n",
       "       [0.49654426],\n",
       "       [0.49139188],\n",
       "       [0.49876426],\n",
       "       [0.48527635],\n",
       "       [0.47384071],\n",
       "       [0.47095046],\n",
       "       [0.45813259],\n",
       "       [0.44012061],\n",
       "       [0.44506355],\n",
       "       [0.43672761],\n",
       "       [0.47275157],\n",
       "       [0.47258406],\n",
       "       [0.47710812],\n",
       "       [0.51849371],\n",
       "       [0.48422914],\n",
       "       [0.48355888],\n",
       "       [0.46412274],\n",
       "       [0.47798761],\n",
       "       [0.49474294],\n",
       "       [0.50471249],\n",
       "       [0.48820853],\n",
       "       [0.44736741],\n",
       "       [0.44795381],\n",
       "       [0.47798761],\n",
       "       [0.46462528],\n",
       "       [0.4583001 ],\n",
       "       [0.44644579],\n",
       "       [0.4585934 ],\n",
       "       [0.43417259],\n",
       "       [0.42014   ],\n",
       "       [0.37087929],\n",
       "       [0.39052487],\n",
       "       [0.39492315],\n",
       "       [0.42742853],\n",
       "       [0.41218122],\n",
       "       [0.41905086],\n",
       "       [0.44033005],\n",
       "       [0.43316711],\n",
       "       [0.44770244],\n",
       "       [0.46546305],\n",
       "       [0.45897035],\n",
       "       [0.47492985],\n",
       "       [0.48540193],\n",
       "       [0.46914934],\n",
       "       [0.43601563],\n",
       "       [0.40129025],\n",
       "       [0.43547096],\n",
       "       [0.40820183],\n",
       "       [0.39303817],\n",
       "       [0.30477949],\n",
       "       [0.30574294],\n",
       "       [0.33498091],\n",
       "       [0.37435594],\n",
       "       [0.40941655],\n",
       "       [0.40221167],\n",
       "       [0.28148954],\n",
       "       [0.26586518],\n",
       "       [0.11184183],\n",
       "       [0.14237848],\n",
       "       [0.05030792],\n",
       "       [0.01813766],\n",
       "       [0.01512173],\n",
       "       [0.        ],\n",
       "       [0.13496416],\n",
       "       [0.02793949],\n",
       "       [0.05596284],\n",
       "       [0.09546355],\n",
       "       [0.12951868],\n",
       "       [0.15762579],\n",
       "       [0.11908853],\n",
       "       [0.15896619],\n",
       "       [0.06065431],\n",
       "       [0.01495411],\n",
       "       [0.11632386],\n",
       "       [0.05788964],\n",
       "       [0.10874213],\n",
       "       [0.10296152],\n",
       "       [0.08277137],\n",
       "       [0.06677005],\n",
       "       [0.14229462],\n",
       "       [0.15272487],\n",
       "       [0.08486579],\n",
       "       [0.11154863],\n",
       "       [0.20265574],\n",
       "       [0.15264112],\n",
       "       [0.16776274],\n",
       "       [0.18657066],\n",
       "       [0.22561056],\n",
       "       [0.31675949],\n",
       "       [0.24638711],\n",
       "       [0.24831401],\n",
       "       [0.2238931 ],\n",
       "       [0.21388183],\n",
       "       [0.21534792],\n",
       "       [0.25045036],\n",
       "       [0.2623466 ],\n",
       "       [0.26247228],\n",
       "       [0.22284589],\n",
       "       [0.21492904],\n",
       "       [0.25907929],\n",
       "       [0.26163452],\n",
       "       [0.26578142],\n",
       "       [0.29728142],\n",
       "       [0.32170234],\n",
       "       [0.25690112],\n",
       "       [0.30909401],\n",
       "       [0.30825624],\n",
       "       [0.28148954],\n",
       "       [0.34256274],\n",
       "       [0.34415452],\n",
       "       [0.34331675],\n",
       "       [0.38135137],\n",
       "       [0.34507604],\n",
       "       [0.36476355],\n",
       "       [0.36501492],\n",
       "       [0.39576091],\n",
       "       [0.36132863],\n",
       "       [0.33774558],\n",
       "       [0.32970305],\n",
       "       [0.34302355],\n",
       "       [0.34469909],\n",
       "       [0.33657269],\n",
       "       [0.34201817],\n",
       "       [0.32806934],\n",
       "       [0.33422701],\n",
       "       [0.34000751],\n",
       "       [0.31814183],\n",
       "       [0.40422244],\n",
       "       [0.38981269],\n",
       "       [0.37347624],\n",
       "       [0.38177025],\n",
       "       [0.43630873],\n",
       "       [0.47191381],\n",
       "       [0.52515391],\n",
       "       [0.5307669 ],\n",
       "       [0.48804081],\n",
       "       [0.47585147],\n",
       "       [0.49093127],\n",
       "       [0.48896244],\n",
       "       [0.44870772],\n",
       "       [0.50060731],\n",
       "       [0.50131949],\n",
       "       [0.47283543],\n",
       "       [0.47882538],\n",
       "       [0.4931932 ],\n",
       "       [0.46462528],\n",
       "       [0.44807939],\n",
       "       [0.43651817],\n",
       "       [0.47790396],\n",
       "       [0.56415198],\n",
       "       [0.53591929],\n",
       "       [0.53880954],\n",
       "       [0.54040122],\n",
       "       [0.51757208],\n",
       "       [0.51384406],\n",
       "       [0.52205421],\n",
       "       [0.56276975],\n",
       "       [0.55208822],\n",
       "       [0.54157421],\n",
       "       [0.53914457],\n",
       "       [0.5202531 ],\n",
       "       [0.51782345],\n",
       "       [0.50751888],\n",
       "       [0.51694376],\n",
       "       [0.53064132],\n",
       "       [0.51962477],\n",
       "       [0.51648315],\n",
       "       [0.51292264],\n",
       "       [0.51250376],\n",
       "       [0.50793777],\n",
       "       [0.51702761],\n",
       "       [0.51275492],\n",
       "       [0.50450305],\n",
       "       [0.52016924],\n",
       "       [0.51103767],\n",
       "       [0.52678751],\n",
       "       [0.55556487],\n",
       "       [0.54660081],\n",
       "       [0.57864538],\n",
       "       [0.59636406],\n",
       "       [0.57914792],\n",
       "       [0.5820801 ],\n",
       "       [0.61806234],\n",
       "       [0.71633218],\n",
       "       [0.71633218],\n",
       "       [0.72605036],\n",
       "       [0.69082223],\n",
       "       [0.68156487],\n",
       "       [0.6944666 ],\n",
       "       [0.74276376],\n",
       "       [0.69626772],\n",
       "       [0.58300173],\n",
       "       [0.65844264],\n",
       "       [0.66179371],\n",
       "       [0.71381888],\n",
       "       [0.71708629],\n",
       "       [0.74318264],\n",
       "       [0.89594944],\n",
       "       [0.90307046],\n",
       "       [0.92120802],\n",
       "       [0.99639756],\n",
       "       [0.98571604],\n",
       "       [1.        ],\n",
       "       [0.99710975],\n",
       "       [0.98290965],\n",
       "       [0.92510376],\n",
       "       [0.94412102],\n",
       "       [0.9007666 ],\n",
       "       [0.92376325],\n",
       "       [0.87048122],\n",
       "       [0.86692071],\n",
       "       [0.88003188],\n",
       "       [0.88120467],\n",
       "       [0.83257228],\n",
       "       [0.82591208],\n",
       "       [0.8346667 ],\n",
       "       [0.86164295],\n",
       "       [0.81116751],\n",
       "       [0.83546274],\n",
       "       [0.85184091],\n",
       "       [0.87911025],\n",
       "       [0.89733167],\n",
       "       [0.91337503],\n",
       "       [0.84886701],\n",
       "       [0.88086965],\n",
       "       [0.86683706],\n",
       "       [0.85494081],\n",
       "       [0.86264822],\n",
       "       [0.8296401 ],\n",
       "       [0.83822721],\n",
       "       [0.85778914],\n",
       "       [0.91140619],\n",
       "       [0.90956315],\n",
       "       [0.89217949],\n",
       "       [0.90834843],\n",
       "       [0.87404172],\n",
       "       [0.91354254],\n",
       "       [0.93260173],\n",
       "       [0.89900721],\n",
       "       [0.91417086],\n",
       "       [0.92267411],\n",
       "       [0.97260508],\n",
       "       [0.98391492],\n",
       "       [0.96171411],\n",
       "       [0.96112772],\n",
       "       [0.9729401 ],\n",
       "       [0.94265492],\n",
       "       [0.98676325]])"
      ]
     },
     "execution_count": 31,
     "metadata": {},
     "output_type": "execute_result"
    }
   ],
   "source": [
    "scaler = MinMaxScaler(feature_range=(0, 1)) \n",
    "scaled_data = scaler.fit_transform(dataset)\n",
    "scaled_data"
   ]
  },
  {
   "cell_type": "code",
   "execution_count": 32,
   "metadata": {
    "execution": {
     "iopub.execute_input": "2020-12-20T07:50:54.872769Z",
     "iopub.status.busy": "2020-12-20T07:50:54.872073Z",
     "iopub.status.idle": "2020-12-20T07:50:54.875286Z",
     "shell.execute_reply": "2020-12-20T07:50:54.875736Z"
    },
    "papermill": {
     "duration": 0.053714,
     "end_time": "2020-12-20T07:50:54.875859",
     "exception": false,
     "start_time": "2020-12-20T07:50:54.822145",
     "status": "completed"
    },
    "tags": []
   },
   "outputs": [
    {
     "name": "stdout",
     "output_type": "stream",
     "text": [
      "[array([0.41084071, 0.44284335, 0.44518914, 0.49654426, 0.49139188,\n",
      "       0.49876426, 0.48527635, 0.47384071, 0.47095046, 0.45813259,\n",
      "       0.44012061, 0.44506355, 0.43672761, 0.47275157, 0.47258406,\n",
      "       0.47710812, 0.51849371, 0.48422914, 0.48355888, 0.46412274,\n",
      "       0.47798761, 0.49474294, 0.50471249, 0.48820853, 0.44736741,\n",
      "       0.44795381, 0.47798761, 0.46462528, 0.4583001 , 0.44644579,\n",
      "       0.4585934 , 0.43417259, 0.42014   , 0.37087929, 0.39052487,\n",
      "       0.39492315, 0.42742853, 0.41218122, 0.41905086, 0.44033005,\n",
      "       0.43316711, 0.44770244, 0.46546305, 0.45897035, 0.47492985,\n",
      "       0.48540193, 0.46914934, 0.43601563, 0.40129025, 0.43547096,\n",
      "       0.40820183, 0.39303817, 0.30477949, 0.30574294, 0.33498091,\n",
      "       0.37435594, 0.40941655, 0.40221167, 0.28148954, 0.26586518])]\n",
      "[0.11184182743333171]\n",
      "\n",
      "[array([0.41084071, 0.44284335, 0.44518914, 0.49654426, 0.49139188,\n",
      "       0.49876426, 0.48527635, 0.47384071, 0.47095046, 0.45813259,\n",
      "       0.44012061, 0.44506355, 0.43672761, 0.47275157, 0.47258406,\n",
      "       0.47710812, 0.51849371, 0.48422914, 0.48355888, 0.46412274,\n",
      "       0.47798761, 0.49474294, 0.50471249, 0.48820853, 0.44736741,\n",
      "       0.44795381, 0.47798761, 0.46462528, 0.4583001 , 0.44644579,\n",
      "       0.4585934 , 0.43417259, 0.42014   , 0.37087929, 0.39052487,\n",
      "       0.39492315, 0.42742853, 0.41218122, 0.41905086, 0.44033005,\n",
      "       0.43316711, 0.44770244, 0.46546305, 0.45897035, 0.47492985,\n",
      "       0.48540193, 0.46914934, 0.43601563, 0.40129025, 0.43547096,\n",
      "       0.40820183, 0.39303817, 0.30477949, 0.30574294, 0.33498091,\n",
      "       0.37435594, 0.40941655, 0.40221167, 0.28148954, 0.26586518]), array([0.44284335, 0.44518914, 0.49654426, 0.49139188, 0.49876426,\n",
      "       0.48527635, 0.47384071, 0.47095046, 0.45813259, 0.44012061,\n",
      "       0.44506355, 0.43672761, 0.47275157, 0.47258406, 0.47710812,\n",
      "       0.51849371, 0.48422914, 0.48355888, 0.46412274, 0.47798761,\n",
      "       0.49474294, 0.50471249, 0.48820853, 0.44736741, 0.44795381,\n",
      "       0.47798761, 0.46462528, 0.4583001 , 0.44644579, 0.4585934 ,\n",
      "       0.43417259, 0.42014   , 0.37087929, 0.39052487, 0.39492315,\n",
      "       0.42742853, 0.41218122, 0.41905086, 0.44033005, 0.43316711,\n",
      "       0.44770244, 0.46546305, 0.45897035, 0.47492985, 0.48540193,\n",
      "       0.46914934, 0.43601563, 0.40129025, 0.43547096, 0.40820183,\n",
      "       0.39303817, 0.30477949, 0.30574294, 0.33498091, 0.37435594,\n",
      "       0.40941655, 0.40221167, 0.28148954, 0.26586518, 0.11184183])]\n",
      "[0.11184182743333171, 0.1423784774288248]\n",
      "\n"
     ]
    }
   ],
   "source": [
    "#Creating the scaled training data set\n",
    "train_data = scaled_data[0:training_data_len  , : ]\n",
    "#Spliting the data into x_train and y_train data sets\n",
    "x_train=[]\n",
    "y_train = []\n",
    "for i in range(60,len(train_data)):\n",
    "    x_train.append(train_data[i-60:i,0])\n",
    "    y_train.append(train_data[i,0])\n",
    "    if i<= 61:\n",
    "        print(x_train)\n",
    "        print(y_train)\n",
    "        print()"
   ]
  },
  {
   "cell_type": "code",
   "execution_count": 33,
   "metadata": {
    "execution": {
     "iopub.execute_input": "2020-12-20T07:50:54.960098Z",
     "iopub.status.busy": "2020-12-20T07:50:54.959469Z",
     "iopub.status.idle": "2020-12-20T07:50:54.963548Z",
     "shell.execute_reply": "2020-12-20T07:50:54.964076Z"
    },
    "papermill": {
     "duration": 0.047877,
     "end_time": "2020-12-20T07:50:54.964218",
     "exception": false,
     "start_time": "2020-12-20T07:50:54.916341",
     "status": "completed"
    },
    "tags": []
   },
   "outputs": [],
   "source": [
    "\n",
    "x_train, y_train = np.array(x_train), np.array(y_train)"
   ]
  },
  {
   "cell_type": "code",
   "execution_count": 34,
   "metadata": {
    "execution": {
     "iopub.execute_input": "2020-12-20T07:50:55.050558Z",
     "iopub.status.busy": "2020-12-20T07:50:55.049963Z",
     "iopub.status.idle": "2020-12-20T07:50:55.054823Z",
     "shell.execute_reply": "2020-12-20T07:50:55.054331Z"
    },
    "papermill": {
     "duration": 0.050055,
     "end_time": "2020-12-20T07:50:55.054921",
     "exception": false,
     "start_time": "2020-12-20T07:50:55.004866",
     "status": "completed"
    },
    "tags": []
   },
   "outputs": [],
   "source": [
    "x_train = np.reshape(x_train, (x_train.shape[0],x_train.shape[1],1))"
   ]
  },
  {
   "cell_type": "code",
   "execution_count": 35,
   "metadata": {
    "execution": {
     "iopub.execute_input": "2020-12-20T07:50:55.144137Z",
     "iopub.status.busy": "2020-12-20T07:50:55.143522Z",
     "iopub.status.idle": "2020-12-20T07:50:55.215942Z",
     "shell.execute_reply": "2020-12-20T07:50:55.215378Z"
    },
    "papermill": {
     "duration": 0.119793,
     "end_time": "2020-12-20T07:50:55.216049",
     "exception": false,
     "start_time": "2020-12-20T07:50:55.096256",
     "status": "completed"
    },
    "tags": []
   },
   "outputs": [
    {
     "ename": "NameError",
     "evalue": "name 'Sequential' is not defined",
     "output_type": "error",
     "traceback": [
      "\u001b[0;31m---------------------------------------------------------------------------\u001b[0m",
      "\u001b[0;31mNameError\u001b[0m                                 Traceback (most recent call last)",
      "\u001b[0;32m<ipython-input-35-9ff70788070d>\u001b[0m in \u001b[0;36m<module>\u001b[0;34m\u001b[0m\n\u001b[0;32m----> 1\u001b[0;31m \u001b[0mmodel\u001b[0m \u001b[0;34m=\u001b[0m \u001b[0mSequential\u001b[0m\u001b[0;34m(\u001b[0m\u001b[0;34m)\u001b[0m\u001b[0;34m\u001b[0m\u001b[0;34m\u001b[0m\u001b[0m\n\u001b[0m\u001b[1;32m      2\u001b[0m \u001b[0mmodel\u001b[0m\u001b[0;34m.\u001b[0m\u001b[0madd\u001b[0m\u001b[0;34m(\u001b[0m\u001b[0mLSTM\u001b[0m\u001b[0;34m(\u001b[0m\u001b[0munits\u001b[0m\u001b[0;34m=\u001b[0m\u001b[0;36m50\u001b[0m\u001b[0;34m,\u001b[0m \u001b[0mreturn_sequences\u001b[0m\u001b[0;34m=\u001b[0m\u001b[0;32mTrue\u001b[0m\u001b[0;34m,\u001b[0m\u001b[0minput_shape\u001b[0m\u001b[0;34m=\u001b[0m\u001b[0;34m(\u001b[0m\u001b[0mx_train\u001b[0m\u001b[0;34m.\u001b[0m\u001b[0mshape\u001b[0m\u001b[0;34m[\u001b[0m\u001b[0;36m1\u001b[0m\u001b[0;34m]\u001b[0m\u001b[0;34m,\u001b[0m\u001b[0;36m1\u001b[0m\u001b[0;34m)\u001b[0m\u001b[0;34m)\u001b[0m\u001b[0;34m)\u001b[0m\u001b[0;34m\u001b[0m\u001b[0;34m\u001b[0m\u001b[0m\n\u001b[1;32m      3\u001b[0m \u001b[0mmodel\u001b[0m\u001b[0;34m.\u001b[0m\u001b[0madd\u001b[0m\u001b[0;34m(\u001b[0m\u001b[0mLSTM\u001b[0m\u001b[0;34m(\u001b[0m\u001b[0munits\u001b[0m\u001b[0;34m=\u001b[0m\u001b[0;36m50\u001b[0m\u001b[0;34m,\u001b[0m \u001b[0mreturn_sequences\u001b[0m\u001b[0;34m=\u001b[0m\u001b[0;32mFalse\u001b[0m\u001b[0;34m)\u001b[0m\u001b[0;34m)\u001b[0m\u001b[0;34m\u001b[0m\u001b[0;34m\u001b[0m\u001b[0m\n\u001b[1;32m      4\u001b[0m \u001b[0mmodel\u001b[0m\u001b[0;34m.\u001b[0m\u001b[0madd\u001b[0m\u001b[0;34m(\u001b[0m\u001b[0mDense\u001b[0m\u001b[0;34m(\u001b[0m\u001b[0munits\u001b[0m\u001b[0;34m=\u001b[0m\u001b[0;36m25\u001b[0m\u001b[0;34m)\u001b[0m\u001b[0;34m)\u001b[0m\u001b[0;34m\u001b[0m\u001b[0;34m\u001b[0m\u001b[0m\n\u001b[1;32m      5\u001b[0m \u001b[0mmodel\u001b[0m\u001b[0;34m.\u001b[0m\u001b[0madd\u001b[0m\u001b[0;34m(\u001b[0m\u001b[0mDense\u001b[0m\u001b[0;34m(\u001b[0m\u001b[0munits\u001b[0m\u001b[0;34m=\u001b[0m\u001b[0;36m1\u001b[0m\u001b[0;34m)\u001b[0m\u001b[0;34m)\u001b[0m\u001b[0;34m\u001b[0m\u001b[0;34m\u001b[0m\u001b[0m\n",
      "\u001b[0;31mNameError\u001b[0m: name 'Sequential' is not defined"
     ]
    }
   ],
   "source": [
    "model = Sequential()\n",
    "model.add(LSTM(units=50, return_sequences=True,input_shape=(x_train.shape[1],1)))\n",
    "model.add(LSTM(units=50, return_sequences=False))\n",
    "model.add(Dense(units=25))\n",
    "model.add(Dense(units=1))\n"
   ]
  },
  {
   "cell_type": "code",
   "execution_count": 36,
   "metadata": {
    "execution": {
     "iopub.execute_input": "2020-12-20T07:50:55.313622Z",
     "iopub.status.busy": "2020-12-20T07:50:55.312638Z",
     "iopub.status.idle": "2020-12-20T07:50:55.316647Z",
     "shell.execute_reply": "2020-12-20T07:50:55.316070Z"
    },
    "papermill": {
     "duration": 0.057711,
     "end_time": "2020-12-20T07:50:55.316755",
     "exception": false,
     "start_time": "2020-12-20T07:50:55.259044",
     "status": "completed"
    },
    "tags": []
   },
   "outputs": [
    {
     "ename": "NameError",
     "evalue": "name 'model' is not defined",
     "output_type": "error",
     "traceback": [
      "\u001b[0;31m---------------------------------------------------------------------------\u001b[0m",
      "\u001b[0;31mNameError\u001b[0m                                 Traceback (most recent call last)",
      "\u001b[0;32m<ipython-input-36-a241582cbd6e>\u001b[0m in \u001b[0;36m<module>\u001b[0;34m\u001b[0m\n\u001b[0;32m----> 1\u001b[0;31m \u001b[0mmodel\u001b[0m\u001b[0;34m.\u001b[0m\u001b[0mcompile\u001b[0m\u001b[0;34m(\u001b[0m\u001b[0moptimizer\u001b[0m\u001b[0;34m=\u001b[0m\u001b[0;34m'adam'\u001b[0m\u001b[0;34m,\u001b[0m \u001b[0mloss\u001b[0m\u001b[0;34m=\u001b[0m\u001b[0;34m'mean_squared_error'\u001b[0m\u001b[0;34m)\u001b[0m\u001b[0;34m\u001b[0m\u001b[0;34m\u001b[0m\u001b[0m\n\u001b[0m",
      "\u001b[0;31mNameError\u001b[0m: name 'model' is not defined"
     ]
    }
   ],
   "source": [
    "model.compile(optimizer='adam', loss='mean_squared_error')"
   ]
  },
  {
   "cell_type": "code",
   "execution_count": 37,
   "metadata": {
    "execution": {
     "iopub.execute_input": "2020-12-20T07:50:55.403338Z",
     "iopub.status.busy": "2020-12-20T07:50:55.402717Z",
     "iopub.status.idle": "2020-12-20T07:50:55.415550Z",
     "shell.execute_reply": "2020-12-20T07:50:55.416133Z"
    },
    "papermill": {
     "duration": 0.05718,
     "end_time": "2020-12-20T07:50:55.416281",
     "exception": false,
     "start_time": "2020-12-20T07:50:55.359101",
     "status": "completed"
    },
    "tags": []
   },
   "outputs": [
    {
     "ename": "NameError",
     "evalue": "name 'model' is not defined",
     "output_type": "error",
     "traceback": [
      "\u001b[0;31m---------------------------------------------------------------------------\u001b[0m",
      "\u001b[0;31mNameError\u001b[0m                                 Traceback (most recent call last)",
      "\u001b[0;32m<ipython-input-37-1fa493b156d4>\u001b[0m in \u001b[0;36m<module>\u001b[0;34m\u001b[0m\n\u001b[0;32m----> 1\u001b[0;31m \u001b[0mmodel\u001b[0m\u001b[0;34m.\u001b[0m\u001b[0mfit\u001b[0m\u001b[0;34m(\u001b[0m\u001b[0mx_train\u001b[0m\u001b[0;34m,\u001b[0m \u001b[0my_train\u001b[0m\u001b[0;34m,\u001b[0m \u001b[0mbatch_size\u001b[0m\u001b[0;34m=\u001b[0m\u001b[0;36m1\u001b[0m\u001b[0;34m,\u001b[0m \u001b[0mepochs\u001b[0m\u001b[0;34m=\u001b[0m\u001b[0;36m1\u001b[0m\u001b[0;34m)\u001b[0m\u001b[0;34m\u001b[0m\u001b[0;34m\u001b[0m\u001b[0m\n\u001b[0m",
      "\u001b[0;31mNameError\u001b[0m: name 'model' is not defined"
     ]
    }
   ],
   "source": [
    "model.fit(x_train, y_train, batch_size=1, epochs=1)"
   ]
  },
  {
   "cell_type": "code",
   "execution_count": 38,
   "metadata": {
    "execution": {
     "iopub.execute_input": "2020-12-20T07:50:55.503738Z",
     "iopub.status.busy": "2020-12-20T07:50:55.503169Z",
     "iopub.status.idle": "2020-12-20T07:50:55.508176Z",
     "shell.execute_reply": "2020-12-20T07:50:55.508695Z"
    },
    "papermill": {
     "duration": 0.050064,
     "end_time": "2020-12-20T07:50:55.508809",
     "exception": false,
     "start_time": "2020-12-20T07:50:55.458745",
     "status": "completed"
    },
    "tags": []
   },
   "outputs": [],
   "source": [
    "# here we are testing data set\n",
    "test_data = scaled_data[training_data_len - 60: , : ]\n",
    "#Creating the x_test and y_test data sets\n",
    "x_test = []\n",
    "y_test =  dataset[training_data_len : , : ] #Get all of the rows from index 1603 to the rest and all of the columns (in this case it's only column 'Close'), so 2003 - 1603 = 400 rows of data\n",
    "for i in range(60,len(test_data)):\n",
    "    x_test.append(test_data[i-60:i,0])"
   ]
  },
  {
   "cell_type": "code",
   "execution_count": 39,
   "metadata": {
    "execution": {
     "iopub.execute_input": "2020-12-20T07:50:55.594994Z",
     "iopub.status.busy": "2020-12-20T07:50:55.594354Z",
     "iopub.status.idle": "2020-12-20T07:50:55.644657Z",
     "shell.execute_reply": "2020-12-20T07:50:55.645114Z"
    },
    "papermill": {
     "duration": 0.094911,
     "end_time": "2020-12-20T07:50:55.645258",
     "exception": false,
     "start_time": "2020-12-20T07:50:55.550347",
     "status": "completed"
    },
    "tags": []
   },
   "outputs": [
    {
     "data": {
      "text/plain": [
       "[array([0.48896244, 0.44870772, 0.50060731, 0.50131949, 0.47283543,\n",
       "        0.47882538, 0.4931932 , 0.46462528, 0.44807939, 0.43651817,\n",
       "        0.47790396, 0.56415198, 0.53591929, 0.53880954, 0.54040122,\n",
       "        0.51757208, 0.51384406, 0.52205421, 0.56276975, 0.55208822,\n",
       "        0.54157421, 0.53914457, 0.5202531 , 0.51782345, 0.50751888,\n",
       "        0.51694376, 0.53064132, 0.51962477, 0.51648315, 0.51292264,\n",
       "        0.51250376, 0.50793777, 0.51702761, 0.51275492, 0.50450305,\n",
       "        0.52016924, 0.51103767, 0.52678751, 0.55556487, 0.54660081,\n",
       "        0.57864538, 0.59636406, 0.57914792, 0.5820801 , 0.61806234,\n",
       "        0.71633218, 0.71633218, 0.72605036, 0.69082223, 0.68156487,\n",
       "        0.6944666 , 0.74276376, 0.69626772, 0.58300173, 0.65844264,\n",
       "        0.66179371, 0.71381888, 0.71708629, 0.74318264, 0.89594944]),\n",
       " array([0.44870772, 0.50060731, 0.50131949, 0.47283543, 0.47882538,\n",
       "        0.4931932 , 0.46462528, 0.44807939, 0.43651817, 0.47790396,\n",
       "        0.56415198, 0.53591929, 0.53880954, 0.54040122, 0.51757208,\n",
       "        0.51384406, 0.52205421, 0.56276975, 0.55208822, 0.54157421,\n",
       "        0.53914457, 0.5202531 , 0.51782345, 0.50751888, 0.51694376,\n",
       "        0.53064132, 0.51962477, 0.51648315, 0.51292264, 0.51250376,\n",
       "        0.50793777, 0.51702761, 0.51275492, 0.50450305, 0.52016924,\n",
       "        0.51103767, 0.52678751, 0.55556487, 0.54660081, 0.57864538,\n",
       "        0.59636406, 0.57914792, 0.5820801 , 0.61806234, 0.71633218,\n",
       "        0.71633218, 0.72605036, 0.69082223, 0.68156487, 0.6944666 ,\n",
       "        0.74276376, 0.69626772, 0.58300173, 0.65844264, 0.66179371,\n",
       "        0.71381888, 0.71708629, 0.74318264, 0.89594944, 0.90307046]),\n",
       " array([0.50060731, 0.50131949, 0.47283543, 0.47882538, 0.4931932 ,\n",
       "        0.46462528, 0.44807939, 0.43651817, 0.47790396, 0.56415198,\n",
       "        0.53591929, 0.53880954, 0.54040122, 0.51757208, 0.51384406,\n",
       "        0.52205421, 0.56276975, 0.55208822, 0.54157421, 0.53914457,\n",
       "        0.5202531 , 0.51782345, 0.50751888, 0.51694376, 0.53064132,\n",
       "        0.51962477, 0.51648315, 0.51292264, 0.51250376, 0.50793777,\n",
       "        0.51702761, 0.51275492, 0.50450305, 0.52016924, 0.51103767,\n",
       "        0.52678751, 0.55556487, 0.54660081, 0.57864538, 0.59636406,\n",
       "        0.57914792, 0.5820801 , 0.61806234, 0.71633218, 0.71633218,\n",
       "        0.72605036, 0.69082223, 0.68156487, 0.6944666 , 0.74276376,\n",
       "        0.69626772, 0.58300173, 0.65844264, 0.66179371, 0.71381888,\n",
       "        0.71708629, 0.74318264, 0.89594944, 0.90307046, 0.92120802]),\n",
       " array([0.50131949, 0.47283543, 0.47882538, 0.4931932 , 0.46462528,\n",
       "        0.44807939, 0.43651817, 0.47790396, 0.56415198, 0.53591929,\n",
       "        0.53880954, 0.54040122, 0.51757208, 0.51384406, 0.52205421,\n",
       "        0.56276975, 0.55208822, 0.54157421, 0.53914457, 0.5202531 ,\n",
       "        0.51782345, 0.50751888, 0.51694376, 0.53064132, 0.51962477,\n",
       "        0.51648315, 0.51292264, 0.51250376, 0.50793777, 0.51702761,\n",
       "        0.51275492, 0.50450305, 0.52016924, 0.51103767, 0.52678751,\n",
       "        0.55556487, 0.54660081, 0.57864538, 0.59636406, 0.57914792,\n",
       "        0.5820801 , 0.61806234, 0.71633218, 0.71633218, 0.72605036,\n",
       "        0.69082223, 0.68156487, 0.6944666 , 0.74276376, 0.69626772,\n",
       "        0.58300173, 0.65844264, 0.66179371, 0.71381888, 0.71708629,\n",
       "        0.74318264, 0.89594944, 0.90307046, 0.92120802, 0.99639756]),\n",
       " array([0.47283543, 0.47882538, 0.4931932 , 0.46462528, 0.44807939,\n",
       "        0.43651817, 0.47790396, 0.56415198, 0.53591929, 0.53880954,\n",
       "        0.54040122, 0.51757208, 0.51384406, 0.52205421, 0.56276975,\n",
       "        0.55208822, 0.54157421, 0.53914457, 0.5202531 , 0.51782345,\n",
       "        0.50751888, 0.51694376, 0.53064132, 0.51962477, 0.51648315,\n",
       "        0.51292264, 0.51250376, 0.50793777, 0.51702761, 0.51275492,\n",
       "        0.50450305, 0.52016924, 0.51103767, 0.52678751, 0.55556487,\n",
       "        0.54660081, 0.57864538, 0.59636406, 0.57914792, 0.5820801 ,\n",
       "        0.61806234, 0.71633218, 0.71633218, 0.72605036, 0.69082223,\n",
       "        0.68156487, 0.6944666 , 0.74276376, 0.69626772, 0.58300173,\n",
       "        0.65844264, 0.66179371, 0.71381888, 0.71708629, 0.74318264,\n",
       "        0.89594944, 0.90307046, 0.92120802, 0.99639756, 0.98571604]),\n",
       " array([0.47882538, 0.4931932 , 0.46462528, 0.44807939, 0.43651817,\n",
       "        0.47790396, 0.56415198, 0.53591929, 0.53880954, 0.54040122,\n",
       "        0.51757208, 0.51384406, 0.52205421, 0.56276975, 0.55208822,\n",
       "        0.54157421, 0.53914457, 0.5202531 , 0.51782345, 0.50751888,\n",
       "        0.51694376, 0.53064132, 0.51962477, 0.51648315, 0.51292264,\n",
       "        0.51250376, 0.50793777, 0.51702761, 0.51275492, 0.50450305,\n",
       "        0.52016924, 0.51103767, 0.52678751, 0.55556487, 0.54660081,\n",
       "        0.57864538, 0.59636406, 0.57914792, 0.5820801 , 0.61806234,\n",
       "        0.71633218, 0.71633218, 0.72605036, 0.69082223, 0.68156487,\n",
       "        0.6944666 , 0.74276376, 0.69626772, 0.58300173, 0.65844264,\n",
       "        0.66179371, 0.71381888, 0.71708629, 0.74318264, 0.89594944,\n",
       "        0.90307046, 0.92120802, 0.99639756, 0.98571604, 1.        ]),\n",
       " array([0.4931932 , 0.46462528, 0.44807939, 0.43651817, 0.47790396,\n",
       "        0.56415198, 0.53591929, 0.53880954, 0.54040122, 0.51757208,\n",
       "        0.51384406, 0.52205421, 0.56276975, 0.55208822, 0.54157421,\n",
       "        0.53914457, 0.5202531 , 0.51782345, 0.50751888, 0.51694376,\n",
       "        0.53064132, 0.51962477, 0.51648315, 0.51292264, 0.51250376,\n",
       "        0.50793777, 0.51702761, 0.51275492, 0.50450305, 0.52016924,\n",
       "        0.51103767, 0.52678751, 0.55556487, 0.54660081, 0.57864538,\n",
       "        0.59636406, 0.57914792, 0.5820801 , 0.61806234, 0.71633218,\n",
       "        0.71633218, 0.72605036, 0.69082223, 0.68156487, 0.6944666 ,\n",
       "        0.74276376, 0.69626772, 0.58300173, 0.65844264, 0.66179371,\n",
       "        0.71381888, 0.71708629, 0.74318264, 0.89594944, 0.90307046,\n",
       "        0.92120802, 0.99639756, 0.98571604, 1.        , 0.99710975]),\n",
       " array([0.46462528, 0.44807939, 0.43651817, 0.47790396, 0.56415198,\n",
       "        0.53591929, 0.53880954, 0.54040122, 0.51757208, 0.51384406,\n",
       "        0.52205421, 0.56276975, 0.55208822, 0.54157421, 0.53914457,\n",
       "        0.5202531 , 0.51782345, 0.50751888, 0.51694376, 0.53064132,\n",
       "        0.51962477, 0.51648315, 0.51292264, 0.51250376, 0.50793777,\n",
       "        0.51702761, 0.51275492, 0.50450305, 0.52016924, 0.51103767,\n",
       "        0.52678751, 0.55556487, 0.54660081, 0.57864538, 0.59636406,\n",
       "        0.57914792, 0.5820801 , 0.61806234, 0.71633218, 0.71633218,\n",
       "        0.72605036, 0.69082223, 0.68156487, 0.6944666 , 0.74276376,\n",
       "        0.69626772, 0.58300173, 0.65844264, 0.66179371, 0.71381888,\n",
       "        0.71708629, 0.74318264, 0.89594944, 0.90307046, 0.92120802,\n",
       "        0.99639756, 0.98571604, 1.        , 0.99710975, 0.98290965]),\n",
       " array([0.44807939, 0.43651817, 0.47790396, 0.56415198, 0.53591929,\n",
       "        0.53880954, 0.54040122, 0.51757208, 0.51384406, 0.52205421,\n",
       "        0.56276975, 0.55208822, 0.54157421, 0.53914457, 0.5202531 ,\n",
       "        0.51782345, 0.50751888, 0.51694376, 0.53064132, 0.51962477,\n",
       "        0.51648315, 0.51292264, 0.51250376, 0.50793777, 0.51702761,\n",
       "        0.51275492, 0.50450305, 0.52016924, 0.51103767, 0.52678751,\n",
       "        0.55556487, 0.54660081, 0.57864538, 0.59636406, 0.57914792,\n",
       "        0.5820801 , 0.61806234, 0.71633218, 0.71633218, 0.72605036,\n",
       "        0.69082223, 0.68156487, 0.6944666 , 0.74276376, 0.69626772,\n",
       "        0.58300173, 0.65844264, 0.66179371, 0.71381888, 0.71708629,\n",
       "        0.74318264, 0.89594944, 0.90307046, 0.92120802, 0.99639756,\n",
       "        0.98571604, 1.        , 0.99710975, 0.98290965, 0.92510376]),\n",
       " array([0.43651817, 0.47790396, 0.56415198, 0.53591929, 0.53880954,\n",
       "        0.54040122, 0.51757208, 0.51384406, 0.52205421, 0.56276975,\n",
       "        0.55208822, 0.54157421, 0.53914457, 0.5202531 , 0.51782345,\n",
       "        0.50751888, 0.51694376, 0.53064132, 0.51962477, 0.51648315,\n",
       "        0.51292264, 0.51250376, 0.50793777, 0.51702761, 0.51275492,\n",
       "        0.50450305, 0.52016924, 0.51103767, 0.52678751, 0.55556487,\n",
       "        0.54660081, 0.57864538, 0.59636406, 0.57914792, 0.5820801 ,\n",
       "        0.61806234, 0.71633218, 0.71633218, 0.72605036, 0.69082223,\n",
       "        0.68156487, 0.6944666 , 0.74276376, 0.69626772, 0.58300173,\n",
       "        0.65844264, 0.66179371, 0.71381888, 0.71708629, 0.74318264,\n",
       "        0.89594944, 0.90307046, 0.92120802, 0.99639756, 0.98571604,\n",
       "        1.        , 0.99710975, 0.98290965, 0.92510376, 0.94412102]),\n",
       " array([0.47790396, 0.56415198, 0.53591929, 0.53880954, 0.54040122,\n",
       "        0.51757208, 0.51384406, 0.52205421, 0.56276975, 0.55208822,\n",
       "        0.54157421, 0.53914457, 0.5202531 , 0.51782345, 0.50751888,\n",
       "        0.51694376, 0.53064132, 0.51962477, 0.51648315, 0.51292264,\n",
       "        0.51250376, 0.50793777, 0.51702761, 0.51275492, 0.50450305,\n",
       "        0.52016924, 0.51103767, 0.52678751, 0.55556487, 0.54660081,\n",
       "        0.57864538, 0.59636406, 0.57914792, 0.5820801 , 0.61806234,\n",
       "        0.71633218, 0.71633218, 0.72605036, 0.69082223, 0.68156487,\n",
       "        0.6944666 , 0.74276376, 0.69626772, 0.58300173, 0.65844264,\n",
       "        0.66179371, 0.71381888, 0.71708629, 0.74318264, 0.89594944,\n",
       "        0.90307046, 0.92120802, 0.99639756, 0.98571604, 1.        ,\n",
       "        0.99710975, 0.98290965, 0.92510376, 0.94412102, 0.9007666 ]),\n",
       " array([0.56415198, 0.53591929, 0.53880954, 0.54040122, 0.51757208,\n",
       "        0.51384406, 0.52205421, 0.56276975, 0.55208822, 0.54157421,\n",
       "        0.53914457, 0.5202531 , 0.51782345, 0.50751888, 0.51694376,\n",
       "        0.53064132, 0.51962477, 0.51648315, 0.51292264, 0.51250376,\n",
       "        0.50793777, 0.51702761, 0.51275492, 0.50450305, 0.52016924,\n",
       "        0.51103767, 0.52678751, 0.55556487, 0.54660081, 0.57864538,\n",
       "        0.59636406, 0.57914792, 0.5820801 , 0.61806234, 0.71633218,\n",
       "        0.71633218, 0.72605036, 0.69082223, 0.68156487, 0.6944666 ,\n",
       "        0.74276376, 0.69626772, 0.58300173, 0.65844264, 0.66179371,\n",
       "        0.71381888, 0.71708629, 0.74318264, 0.89594944, 0.90307046,\n",
       "        0.92120802, 0.99639756, 0.98571604, 1.        , 0.99710975,\n",
       "        0.98290965, 0.92510376, 0.94412102, 0.9007666 , 0.92376325]),\n",
       " array([0.53591929, 0.53880954, 0.54040122, 0.51757208, 0.51384406,\n",
       "        0.52205421, 0.56276975, 0.55208822, 0.54157421, 0.53914457,\n",
       "        0.5202531 , 0.51782345, 0.50751888, 0.51694376, 0.53064132,\n",
       "        0.51962477, 0.51648315, 0.51292264, 0.51250376, 0.50793777,\n",
       "        0.51702761, 0.51275492, 0.50450305, 0.52016924, 0.51103767,\n",
       "        0.52678751, 0.55556487, 0.54660081, 0.57864538, 0.59636406,\n",
       "        0.57914792, 0.5820801 , 0.61806234, 0.71633218, 0.71633218,\n",
       "        0.72605036, 0.69082223, 0.68156487, 0.6944666 , 0.74276376,\n",
       "        0.69626772, 0.58300173, 0.65844264, 0.66179371, 0.71381888,\n",
       "        0.71708629, 0.74318264, 0.89594944, 0.90307046, 0.92120802,\n",
       "        0.99639756, 0.98571604, 1.        , 0.99710975, 0.98290965,\n",
       "        0.92510376, 0.94412102, 0.9007666 , 0.92376325, 0.87048122]),\n",
       " array([0.53880954, 0.54040122, 0.51757208, 0.51384406, 0.52205421,\n",
       "        0.56276975, 0.55208822, 0.54157421, 0.53914457, 0.5202531 ,\n",
       "        0.51782345, 0.50751888, 0.51694376, 0.53064132, 0.51962477,\n",
       "        0.51648315, 0.51292264, 0.51250376, 0.50793777, 0.51702761,\n",
       "        0.51275492, 0.50450305, 0.52016924, 0.51103767, 0.52678751,\n",
       "        0.55556487, 0.54660081, 0.57864538, 0.59636406, 0.57914792,\n",
       "        0.5820801 , 0.61806234, 0.71633218, 0.71633218, 0.72605036,\n",
       "        0.69082223, 0.68156487, 0.6944666 , 0.74276376, 0.69626772,\n",
       "        0.58300173, 0.65844264, 0.66179371, 0.71381888, 0.71708629,\n",
       "        0.74318264, 0.89594944, 0.90307046, 0.92120802, 0.99639756,\n",
       "        0.98571604, 1.        , 0.99710975, 0.98290965, 0.92510376,\n",
       "        0.94412102, 0.9007666 , 0.92376325, 0.87048122, 0.86692071]),\n",
       " array([0.54040122, 0.51757208, 0.51384406, 0.52205421, 0.56276975,\n",
       "        0.55208822, 0.54157421, 0.53914457, 0.5202531 , 0.51782345,\n",
       "        0.50751888, 0.51694376, 0.53064132, 0.51962477, 0.51648315,\n",
       "        0.51292264, 0.51250376, 0.50793777, 0.51702761, 0.51275492,\n",
       "        0.50450305, 0.52016924, 0.51103767, 0.52678751, 0.55556487,\n",
       "        0.54660081, 0.57864538, 0.59636406, 0.57914792, 0.5820801 ,\n",
       "        0.61806234, 0.71633218, 0.71633218, 0.72605036, 0.69082223,\n",
       "        0.68156487, 0.6944666 , 0.74276376, 0.69626772, 0.58300173,\n",
       "        0.65844264, 0.66179371, 0.71381888, 0.71708629, 0.74318264,\n",
       "        0.89594944, 0.90307046, 0.92120802, 0.99639756, 0.98571604,\n",
       "        1.        , 0.99710975, 0.98290965, 0.92510376, 0.94412102,\n",
       "        0.9007666 , 0.92376325, 0.87048122, 0.86692071, 0.88003188]),\n",
       " array([0.51757208, 0.51384406, 0.52205421, 0.56276975, 0.55208822,\n",
       "        0.54157421, 0.53914457, 0.5202531 , 0.51782345, 0.50751888,\n",
       "        0.51694376, 0.53064132, 0.51962477, 0.51648315, 0.51292264,\n",
       "        0.51250376, 0.50793777, 0.51702761, 0.51275492, 0.50450305,\n",
       "        0.52016924, 0.51103767, 0.52678751, 0.55556487, 0.54660081,\n",
       "        0.57864538, 0.59636406, 0.57914792, 0.5820801 , 0.61806234,\n",
       "        0.71633218, 0.71633218, 0.72605036, 0.69082223, 0.68156487,\n",
       "        0.6944666 , 0.74276376, 0.69626772, 0.58300173, 0.65844264,\n",
       "        0.66179371, 0.71381888, 0.71708629, 0.74318264, 0.89594944,\n",
       "        0.90307046, 0.92120802, 0.99639756, 0.98571604, 1.        ,\n",
       "        0.99710975, 0.98290965, 0.92510376, 0.94412102, 0.9007666 ,\n",
       "        0.92376325, 0.87048122, 0.86692071, 0.88003188, 0.88120467]),\n",
       " array([0.51384406, 0.52205421, 0.56276975, 0.55208822, 0.54157421,\n",
       "        0.53914457, 0.5202531 , 0.51782345, 0.50751888, 0.51694376,\n",
       "        0.53064132, 0.51962477, 0.51648315, 0.51292264, 0.51250376,\n",
       "        0.50793777, 0.51702761, 0.51275492, 0.50450305, 0.52016924,\n",
       "        0.51103767, 0.52678751, 0.55556487, 0.54660081, 0.57864538,\n",
       "        0.59636406, 0.57914792, 0.5820801 , 0.61806234, 0.71633218,\n",
       "        0.71633218, 0.72605036, 0.69082223, 0.68156487, 0.6944666 ,\n",
       "        0.74276376, 0.69626772, 0.58300173, 0.65844264, 0.66179371,\n",
       "        0.71381888, 0.71708629, 0.74318264, 0.89594944, 0.90307046,\n",
       "        0.92120802, 0.99639756, 0.98571604, 1.        , 0.99710975,\n",
       "        0.98290965, 0.92510376, 0.94412102, 0.9007666 , 0.92376325,\n",
       "        0.87048122, 0.86692071, 0.88003188, 0.88120467, 0.83257228]),\n",
       " array([0.52205421, 0.56276975, 0.55208822, 0.54157421, 0.53914457,\n",
       "        0.5202531 , 0.51782345, 0.50751888, 0.51694376, 0.53064132,\n",
       "        0.51962477, 0.51648315, 0.51292264, 0.51250376, 0.50793777,\n",
       "        0.51702761, 0.51275492, 0.50450305, 0.52016924, 0.51103767,\n",
       "        0.52678751, 0.55556487, 0.54660081, 0.57864538, 0.59636406,\n",
       "        0.57914792, 0.5820801 , 0.61806234, 0.71633218, 0.71633218,\n",
       "        0.72605036, 0.69082223, 0.68156487, 0.6944666 , 0.74276376,\n",
       "        0.69626772, 0.58300173, 0.65844264, 0.66179371, 0.71381888,\n",
       "        0.71708629, 0.74318264, 0.89594944, 0.90307046, 0.92120802,\n",
       "        0.99639756, 0.98571604, 1.        , 0.99710975, 0.98290965,\n",
       "        0.92510376, 0.94412102, 0.9007666 , 0.92376325, 0.87048122,\n",
       "        0.86692071, 0.88003188, 0.88120467, 0.83257228, 0.82591208]),\n",
       " array([0.56276975, 0.55208822, 0.54157421, 0.53914457, 0.5202531 ,\n",
       "        0.51782345, 0.50751888, 0.51694376, 0.53064132, 0.51962477,\n",
       "        0.51648315, 0.51292264, 0.51250376, 0.50793777, 0.51702761,\n",
       "        0.51275492, 0.50450305, 0.52016924, 0.51103767, 0.52678751,\n",
       "        0.55556487, 0.54660081, 0.57864538, 0.59636406, 0.57914792,\n",
       "        0.5820801 , 0.61806234, 0.71633218, 0.71633218, 0.72605036,\n",
       "        0.69082223, 0.68156487, 0.6944666 , 0.74276376, 0.69626772,\n",
       "        0.58300173, 0.65844264, 0.66179371, 0.71381888, 0.71708629,\n",
       "        0.74318264, 0.89594944, 0.90307046, 0.92120802, 0.99639756,\n",
       "        0.98571604, 1.        , 0.99710975, 0.98290965, 0.92510376,\n",
       "        0.94412102, 0.9007666 , 0.92376325, 0.87048122, 0.86692071,\n",
       "        0.88003188, 0.88120467, 0.83257228, 0.82591208, 0.8346667 ]),\n",
       " array([0.55208822, 0.54157421, 0.53914457, 0.5202531 , 0.51782345,\n",
       "        0.50751888, 0.51694376, 0.53064132, 0.51962477, 0.51648315,\n",
       "        0.51292264, 0.51250376, 0.50793777, 0.51702761, 0.51275492,\n",
       "        0.50450305, 0.52016924, 0.51103767, 0.52678751, 0.55556487,\n",
       "        0.54660081, 0.57864538, 0.59636406, 0.57914792, 0.5820801 ,\n",
       "        0.61806234, 0.71633218, 0.71633218, 0.72605036, 0.69082223,\n",
       "        0.68156487, 0.6944666 , 0.74276376, 0.69626772, 0.58300173,\n",
       "        0.65844264, 0.66179371, 0.71381888, 0.71708629, 0.74318264,\n",
       "        0.89594944, 0.90307046, 0.92120802, 0.99639756, 0.98571604,\n",
       "        1.        , 0.99710975, 0.98290965, 0.92510376, 0.94412102,\n",
       "        0.9007666 , 0.92376325, 0.87048122, 0.86692071, 0.88003188,\n",
       "        0.88120467, 0.83257228, 0.82591208, 0.8346667 , 0.86164295]),\n",
       " array([0.54157421, 0.53914457, 0.5202531 , 0.51782345, 0.50751888,\n",
       "        0.51694376, 0.53064132, 0.51962477, 0.51648315, 0.51292264,\n",
       "        0.51250376, 0.50793777, 0.51702761, 0.51275492, 0.50450305,\n",
       "        0.52016924, 0.51103767, 0.52678751, 0.55556487, 0.54660081,\n",
       "        0.57864538, 0.59636406, 0.57914792, 0.5820801 , 0.61806234,\n",
       "        0.71633218, 0.71633218, 0.72605036, 0.69082223, 0.68156487,\n",
       "        0.6944666 , 0.74276376, 0.69626772, 0.58300173, 0.65844264,\n",
       "        0.66179371, 0.71381888, 0.71708629, 0.74318264, 0.89594944,\n",
       "        0.90307046, 0.92120802, 0.99639756, 0.98571604, 1.        ,\n",
       "        0.99710975, 0.98290965, 0.92510376, 0.94412102, 0.9007666 ,\n",
       "        0.92376325, 0.87048122, 0.86692071, 0.88003188, 0.88120467,\n",
       "        0.83257228, 0.82591208, 0.8346667 , 0.86164295, 0.81116751]),\n",
       " array([0.53914457, 0.5202531 , 0.51782345, 0.50751888, 0.51694376,\n",
       "        0.53064132, 0.51962477, 0.51648315, 0.51292264, 0.51250376,\n",
       "        0.50793777, 0.51702761, 0.51275492, 0.50450305, 0.52016924,\n",
       "        0.51103767, 0.52678751, 0.55556487, 0.54660081, 0.57864538,\n",
       "        0.59636406, 0.57914792, 0.5820801 , 0.61806234, 0.71633218,\n",
       "        0.71633218, 0.72605036, 0.69082223, 0.68156487, 0.6944666 ,\n",
       "        0.74276376, 0.69626772, 0.58300173, 0.65844264, 0.66179371,\n",
       "        0.71381888, 0.71708629, 0.74318264, 0.89594944, 0.90307046,\n",
       "        0.92120802, 0.99639756, 0.98571604, 1.        , 0.99710975,\n",
       "        0.98290965, 0.92510376, 0.94412102, 0.9007666 , 0.92376325,\n",
       "        0.87048122, 0.86692071, 0.88003188, 0.88120467, 0.83257228,\n",
       "        0.82591208, 0.8346667 , 0.86164295, 0.81116751, 0.83546274]),\n",
       " array([0.5202531 , 0.51782345, 0.50751888, 0.51694376, 0.53064132,\n",
       "        0.51962477, 0.51648315, 0.51292264, 0.51250376, 0.50793777,\n",
       "        0.51702761, 0.51275492, 0.50450305, 0.52016924, 0.51103767,\n",
       "        0.52678751, 0.55556487, 0.54660081, 0.57864538, 0.59636406,\n",
       "        0.57914792, 0.5820801 , 0.61806234, 0.71633218, 0.71633218,\n",
       "        0.72605036, 0.69082223, 0.68156487, 0.6944666 , 0.74276376,\n",
       "        0.69626772, 0.58300173, 0.65844264, 0.66179371, 0.71381888,\n",
       "        0.71708629, 0.74318264, 0.89594944, 0.90307046, 0.92120802,\n",
       "        0.99639756, 0.98571604, 1.        , 0.99710975, 0.98290965,\n",
       "        0.92510376, 0.94412102, 0.9007666 , 0.92376325, 0.87048122,\n",
       "        0.86692071, 0.88003188, 0.88120467, 0.83257228, 0.82591208,\n",
       "        0.8346667 , 0.86164295, 0.81116751, 0.83546274, 0.85184091]),\n",
       " array([0.51782345, 0.50751888, 0.51694376, 0.53064132, 0.51962477,\n",
       "        0.51648315, 0.51292264, 0.51250376, 0.50793777, 0.51702761,\n",
       "        0.51275492, 0.50450305, 0.52016924, 0.51103767, 0.52678751,\n",
       "        0.55556487, 0.54660081, 0.57864538, 0.59636406, 0.57914792,\n",
       "        0.5820801 , 0.61806234, 0.71633218, 0.71633218, 0.72605036,\n",
       "        0.69082223, 0.68156487, 0.6944666 , 0.74276376, 0.69626772,\n",
       "        0.58300173, 0.65844264, 0.66179371, 0.71381888, 0.71708629,\n",
       "        0.74318264, 0.89594944, 0.90307046, 0.92120802, 0.99639756,\n",
       "        0.98571604, 1.        , 0.99710975, 0.98290965, 0.92510376,\n",
       "        0.94412102, 0.9007666 , 0.92376325, 0.87048122, 0.86692071,\n",
       "        0.88003188, 0.88120467, 0.83257228, 0.82591208, 0.8346667 ,\n",
       "        0.86164295, 0.81116751, 0.83546274, 0.85184091, 0.87911025]),\n",
       " array([0.50751888, 0.51694376, 0.53064132, 0.51962477, 0.51648315,\n",
       "        0.51292264, 0.51250376, 0.50793777, 0.51702761, 0.51275492,\n",
       "        0.50450305, 0.52016924, 0.51103767, 0.52678751, 0.55556487,\n",
       "        0.54660081, 0.57864538, 0.59636406, 0.57914792, 0.5820801 ,\n",
       "        0.61806234, 0.71633218, 0.71633218, 0.72605036, 0.69082223,\n",
       "        0.68156487, 0.6944666 , 0.74276376, 0.69626772, 0.58300173,\n",
       "        0.65844264, 0.66179371, 0.71381888, 0.71708629, 0.74318264,\n",
       "        0.89594944, 0.90307046, 0.92120802, 0.99639756, 0.98571604,\n",
       "        1.        , 0.99710975, 0.98290965, 0.92510376, 0.94412102,\n",
       "        0.9007666 , 0.92376325, 0.87048122, 0.86692071, 0.88003188,\n",
       "        0.88120467, 0.83257228, 0.82591208, 0.8346667 , 0.86164295,\n",
       "        0.81116751, 0.83546274, 0.85184091, 0.87911025, 0.89733167]),\n",
       " array([0.51694376, 0.53064132, 0.51962477, 0.51648315, 0.51292264,\n",
       "        0.51250376, 0.50793777, 0.51702761, 0.51275492, 0.50450305,\n",
       "        0.52016924, 0.51103767, 0.52678751, 0.55556487, 0.54660081,\n",
       "        0.57864538, 0.59636406, 0.57914792, 0.5820801 , 0.61806234,\n",
       "        0.71633218, 0.71633218, 0.72605036, 0.69082223, 0.68156487,\n",
       "        0.6944666 , 0.74276376, 0.69626772, 0.58300173, 0.65844264,\n",
       "        0.66179371, 0.71381888, 0.71708629, 0.74318264, 0.89594944,\n",
       "        0.90307046, 0.92120802, 0.99639756, 0.98571604, 1.        ,\n",
       "        0.99710975, 0.98290965, 0.92510376, 0.94412102, 0.9007666 ,\n",
       "        0.92376325, 0.87048122, 0.86692071, 0.88003188, 0.88120467,\n",
       "        0.83257228, 0.82591208, 0.8346667 , 0.86164295, 0.81116751,\n",
       "        0.83546274, 0.85184091, 0.87911025, 0.89733167, 0.91337503]),\n",
       " array([0.53064132, 0.51962477, 0.51648315, 0.51292264, 0.51250376,\n",
       "        0.50793777, 0.51702761, 0.51275492, 0.50450305, 0.52016924,\n",
       "        0.51103767, 0.52678751, 0.55556487, 0.54660081, 0.57864538,\n",
       "        0.59636406, 0.57914792, 0.5820801 , 0.61806234, 0.71633218,\n",
       "        0.71633218, 0.72605036, 0.69082223, 0.68156487, 0.6944666 ,\n",
       "        0.74276376, 0.69626772, 0.58300173, 0.65844264, 0.66179371,\n",
       "        0.71381888, 0.71708629, 0.74318264, 0.89594944, 0.90307046,\n",
       "        0.92120802, 0.99639756, 0.98571604, 1.        , 0.99710975,\n",
       "        0.98290965, 0.92510376, 0.94412102, 0.9007666 , 0.92376325,\n",
       "        0.87048122, 0.86692071, 0.88003188, 0.88120467, 0.83257228,\n",
       "        0.82591208, 0.8346667 , 0.86164295, 0.81116751, 0.83546274,\n",
       "        0.85184091, 0.87911025, 0.89733167, 0.91337503, 0.84886701]),\n",
       " array([0.51962477, 0.51648315, 0.51292264, 0.51250376, 0.50793777,\n",
       "        0.51702761, 0.51275492, 0.50450305, 0.52016924, 0.51103767,\n",
       "        0.52678751, 0.55556487, 0.54660081, 0.57864538, 0.59636406,\n",
       "        0.57914792, 0.5820801 , 0.61806234, 0.71633218, 0.71633218,\n",
       "        0.72605036, 0.69082223, 0.68156487, 0.6944666 , 0.74276376,\n",
       "        0.69626772, 0.58300173, 0.65844264, 0.66179371, 0.71381888,\n",
       "        0.71708629, 0.74318264, 0.89594944, 0.90307046, 0.92120802,\n",
       "        0.99639756, 0.98571604, 1.        , 0.99710975, 0.98290965,\n",
       "        0.92510376, 0.94412102, 0.9007666 , 0.92376325, 0.87048122,\n",
       "        0.86692071, 0.88003188, 0.88120467, 0.83257228, 0.82591208,\n",
       "        0.8346667 , 0.86164295, 0.81116751, 0.83546274, 0.85184091,\n",
       "        0.87911025, 0.89733167, 0.91337503, 0.84886701, 0.88086965]),\n",
       " array([0.51648315, 0.51292264, 0.51250376, 0.50793777, 0.51702761,\n",
       "        0.51275492, 0.50450305, 0.52016924, 0.51103767, 0.52678751,\n",
       "        0.55556487, 0.54660081, 0.57864538, 0.59636406, 0.57914792,\n",
       "        0.5820801 , 0.61806234, 0.71633218, 0.71633218, 0.72605036,\n",
       "        0.69082223, 0.68156487, 0.6944666 , 0.74276376, 0.69626772,\n",
       "        0.58300173, 0.65844264, 0.66179371, 0.71381888, 0.71708629,\n",
       "        0.74318264, 0.89594944, 0.90307046, 0.92120802, 0.99639756,\n",
       "        0.98571604, 1.        , 0.99710975, 0.98290965, 0.92510376,\n",
       "        0.94412102, 0.9007666 , 0.92376325, 0.87048122, 0.86692071,\n",
       "        0.88003188, 0.88120467, 0.83257228, 0.82591208, 0.8346667 ,\n",
       "        0.86164295, 0.81116751, 0.83546274, 0.85184091, 0.87911025,\n",
       "        0.89733167, 0.91337503, 0.84886701, 0.88086965, 0.86683706]),\n",
       " array([0.51292264, 0.51250376, 0.50793777, 0.51702761, 0.51275492,\n",
       "        0.50450305, 0.52016924, 0.51103767, 0.52678751, 0.55556487,\n",
       "        0.54660081, 0.57864538, 0.59636406, 0.57914792, 0.5820801 ,\n",
       "        0.61806234, 0.71633218, 0.71633218, 0.72605036, 0.69082223,\n",
       "        0.68156487, 0.6944666 , 0.74276376, 0.69626772, 0.58300173,\n",
       "        0.65844264, 0.66179371, 0.71381888, 0.71708629, 0.74318264,\n",
       "        0.89594944, 0.90307046, 0.92120802, 0.99639756, 0.98571604,\n",
       "        1.        , 0.99710975, 0.98290965, 0.92510376, 0.94412102,\n",
       "        0.9007666 , 0.92376325, 0.87048122, 0.86692071, 0.88003188,\n",
       "        0.88120467, 0.83257228, 0.82591208, 0.8346667 , 0.86164295,\n",
       "        0.81116751, 0.83546274, 0.85184091, 0.87911025, 0.89733167,\n",
       "        0.91337503, 0.84886701, 0.88086965, 0.86683706, 0.85494081]),\n",
       " array([0.51250376, 0.50793777, 0.51702761, 0.51275492, 0.50450305,\n",
       "        0.52016924, 0.51103767, 0.52678751, 0.55556487, 0.54660081,\n",
       "        0.57864538, 0.59636406, 0.57914792, 0.5820801 , 0.61806234,\n",
       "        0.71633218, 0.71633218, 0.72605036, 0.69082223, 0.68156487,\n",
       "        0.6944666 , 0.74276376, 0.69626772, 0.58300173, 0.65844264,\n",
       "        0.66179371, 0.71381888, 0.71708629, 0.74318264, 0.89594944,\n",
       "        0.90307046, 0.92120802, 0.99639756, 0.98571604, 1.        ,\n",
       "        0.99710975, 0.98290965, 0.92510376, 0.94412102, 0.9007666 ,\n",
       "        0.92376325, 0.87048122, 0.86692071, 0.88003188, 0.88120467,\n",
       "        0.83257228, 0.82591208, 0.8346667 , 0.86164295, 0.81116751,\n",
       "        0.83546274, 0.85184091, 0.87911025, 0.89733167, 0.91337503,\n",
       "        0.84886701, 0.88086965, 0.86683706, 0.85494081, 0.86264822]),\n",
       " array([0.50793777, 0.51702761, 0.51275492, 0.50450305, 0.52016924,\n",
       "        0.51103767, 0.52678751, 0.55556487, 0.54660081, 0.57864538,\n",
       "        0.59636406, 0.57914792, 0.5820801 , 0.61806234, 0.71633218,\n",
       "        0.71633218, 0.72605036, 0.69082223, 0.68156487, 0.6944666 ,\n",
       "        0.74276376, 0.69626772, 0.58300173, 0.65844264, 0.66179371,\n",
       "        0.71381888, 0.71708629, 0.74318264, 0.89594944, 0.90307046,\n",
       "        0.92120802, 0.99639756, 0.98571604, 1.        , 0.99710975,\n",
       "        0.98290965, 0.92510376, 0.94412102, 0.9007666 , 0.92376325,\n",
       "        0.87048122, 0.86692071, 0.88003188, 0.88120467, 0.83257228,\n",
       "        0.82591208, 0.8346667 , 0.86164295, 0.81116751, 0.83546274,\n",
       "        0.85184091, 0.87911025, 0.89733167, 0.91337503, 0.84886701,\n",
       "        0.88086965, 0.86683706, 0.85494081, 0.86264822, 0.8296401 ]),\n",
       " array([0.51702761, 0.51275492, 0.50450305, 0.52016924, 0.51103767,\n",
       "        0.52678751, 0.55556487, 0.54660081, 0.57864538, 0.59636406,\n",
       "        0.57914792, 0.5820801 , 0.61806234, 0.71633218, 0.71633218,\n",
       "        0.72605036, 0.69082223, 0.68156487, 0.6944666 , 0.74276376,\n",
       "        0.69626772, 0.58300173, 0.65844264, 0.66179371, 0.71381888,\n",
       "        0.71708629, 0.74318264, 0.89594944, 0.90307046, 0.92120802,\n",
       "        0.99639756, 0.98571604, 1.        , 0.99710975, 0.98290965,\n",
       "        0.92510376, 0.94412102, 0.9007666 , 0.92376325, 0.87048122,\n",
       "        0.86692071, 0.88003188, 0.88120467, 0.83257228, 0.82591208,\n",
       "        0.8346667 , 0.86164295, 0.81116751, 0.83546274, 0.85184091,\n",
       "        0.87911025, 0.89733167, 0.91337503, 0.84886701, 0.88086965,\n",
       "        0.86683706, 0.85494081, 0.86264822, 0.8296401 , 0.83822721]),\n",
       " array([0.51275492, 0.50450305, 0.52016924, 0.51103767, 0.52678751,\n",
       "        0.55556487, 0.54660081, 0.57864538, 0.59636406, 0.57914792,\n",
       "        0.5820801 , 0.61806234, 0.71633218, 0.71633218, 0.72605036,\n",
       "        0.69082223, 0.68156487, 0.6944666 , 0.74276376, 0.69626772,\n",
       "        0.58300173, 0.65844264, 0.66179371, 0.71381888, 0.71708629,\n",
       "        0.74318264, 0.89594944, 0.90307046, 0.92120802, 0.99639756,\n",
       "        0.98571604, 1.        , 0.99710975, 0.98290965, 0.92510376,\n",
       "        0.94412102, 0.9007666 , 0.92376325, 0.87048122, 0.86692071,\n",
       "        0.88003188, 0.88120467, 0.83257228, 0.82591208, 0.8346667 ,\n",
       "        0.86164295, 0.81116751, 0.83546274, 0.85184091, 0.87911025,\n",
       "        0.89733167, 0.91337503, 0.84886701, 0.88086965, 0.86683706,\n",
       "        0.85494081, 0.86264822, 0.8296401 , 0.83822721, 0.85778914]),\n",
       " array([0.50450305, 0.52016924, 0.51103767, 0.52678751, 0.55556487,\n",
       "        0.54660081, 0.57864538, 0.59636406, 0.57914792, 0.5820801 ,\n",
       "        0.61806234, 0.71633218, 0.71633218, 0.72605036, 0.69082223,\n",
       "        0.68156487, 0.6944666 , 0.74276376, 0.69626772, 0.58300173,\n",
       "        0.65844264, 0.66179371, 0.71381888, 0.71708629, 0.74318264,\n",
       "        0.89594944, 0.90307046, 0.92120802, 0.99639756, 0.98571604,\n",
       "        1.        , 0.99710975, 0.98290965, 0.92510376, 0.94412102,\n",
       "        0.9007666 , 0.92376325, 0.87048122, 0.86692071, 0.88003188,\n",
       "        0.88120467, 0.83257228, 0.82591208, 0.8346667 , 0.86164295,\n",
       "        0.81116751, 0.83546274, 0.85184091, 0.87911025, 0.89733167,\n",
       "        0.91337503, 0.84886701, 0.88086965, 0.86683706, 0.85494081,\n",
       "        0.86264822, 0.8296401 , 0.83822721, 0.85778914, 0.91140619]),\n",
       " array([0.52016924, 0.51103767, 0.52678751, 0.55556487, 0.54660081,\n",
       "        0.57864538, 0.59636406, 0.57914792, 0.5820801 , 0.61806234,\n",
       "        0.71633218, 0.71633218, 0.72605036, 0.69082223, 0.68156487,\n",
       "        0.6944666 , 0.74276376, 0.69626772, 0.58300173, 0.65844264,\n",
       "        0.66179371, 0.71381888, 0.71708629, 0.74318264, 0.89594944,\n",
       "        0.90307046, 0.92120802, 0.99639756, 0.98571604, 1.        ,\n",
       "        0.99710975, 0.98290965, 0.92510376, 0.94412102, 0.9007666 ,\n",
       "        0.92376325, 0.87048122, 0.86692071, 0.88003188, 0.88120467,\n",
       "        0.83257228, 0.82591208, 0.8346667 , 0.86164295, 0.81116751,\n",
       "        0.83546274, 0.85184091, 0.87911025, 0.89733167, 0.91337503,\n",
       "        0.84886701, 0.88086965, 0.86683706, 0.85494081, 0.86264822,\n",
       "        0.8296401 , 0.83822721, 0.85778914, 0.91140619, 0.90956315]),\n",
       " array([0.51103767, 0.52678751, 0.55556487, 0.54660081, 0.57864538,\n",
       "        0.59636406, 0.57914792, 0.5820801 , 0.61806234, 0.71633218,\n",
       "        0.71633218, 0.72605036, 0.69082223, 0.68156487, 0.6944666 ,\n",
       "        0.74276376, 0.69626772, 0.58300173, 0.65844264, 0.66179371,\n",
       "        0.71381888, 0.71708629, 0.74318264, 0.89594944, 0.90307046,\n",
       "        0.92120802, 0.99639756, 0.98571604, 1.        , 0.99710975,\n",
       "        0.98290965, 0.92510376, 0.94412102, 0.9007666 , 0.92376325,\n",
       "        0.87048122, 0.86692071, 0.88003188, 0.88120467, 0.83257228,\n",
       "        0.82591208, 0.8346667 , 0.86164295, 0.81116751, 0.83546274,\n",
       "        0.85184091, 0.87911025, 0.89733167, 0.91337503, 0.84886701,\n",
       "        0.88086965, 0.86683706, 0.85494081, 0.86264822, 0.8296401 ,\n",
       "        0.83822721, 0.85778914, 0.91140619, 0.90956315, 0.89217949]),\n",
       " array([0.52678751, 0.55556487, 0.54660081, 0.57864538, 0.59636406,\n",
       "        0.57914792, 0.5820801 , 0.61806234, 0.71633218, 0.71633218,\n",
       "        0.72605036, 0.69082223, 0.68156487, 0.6944666 , 0.74276376,\n",
       "        0.69626772, 0.58300173, 0.65844264, 0.66179371, 0.71381888,\n",
       "        0.71708629, 0.74318264, 0.89594944, 0.90307046, 0.92120802,\n",
       "        0.99639756, 0.98571604, 1.        , 0.99710975, 0.98290965,\n",
       "        0.92510376, 0.94412102, 0.9007666 , 0.92376325, 0.87048122,\n",
       "        0.86692071, 0.88003188, 0.88120467, 0.83257228, 0.82591208,\n",
       "        0.8346667 , 0.86164295, 0.81116751, 0.83546274, 0.85184091,\n",
       "        0.87911025, 0.89733167, 0.91337503, 0.84886701, 0.88086965,\n",
       "        0.86683706, 0.85494081, 0.86264822, 0.8296401 , 0.83822721,\n",
       "        0.85778914, 0.91140619, 0.90956315, 0.89217949, 0.90834843]),\n",
       " array([0.55556487, 0.54660081, 0.57864538, 0.59636406, 0.57914792,\n",
       "        0.5820801 , 0.61806234, 0.71633218, 0.71633218, 0.72605036,\n",
       "        0.69082223, 0.68156487, 0.6944666 , 0.74276376, 0.69626772,\n",
       "        0.58300173, 0.65844264, 0.66179371, 0.71381888, 0.71708629,\n",
       "        0.74318264, 0.89594944, 0.90307046, 0.92120802, 0.99639756,\n",
       "        0.98571604, 1.        , 0.99710975, 0.98290965, 0.92510376,\n",
       "        0.94412102, 0.9007666 , 0.92376325, 0.87048122, 0.86692071,\n",
       "        0.88003188, 0.88120467, 0.83257228, 0.82591208, 0.8346667 ,\n",
       "        0.86164295, 0.81116751, 0.83546274, 0.85184091, 0.87911025,\n",
       "        0.89733167, 0.91337503, 0.84886701, 0.88086965, 0.86683706,\n",
       "        0.85494081, 0.86264822, 0.8296401 , 0.83822721, 0.85778914,\n",
       "        0.91140619, 0.90956315, 0.89217949, 0.90834843, 0.87404172]),\n",
       " array([0.54660081, 0.57864538, 0.59636406, 0.57914792, 0.5820801 ,\n",
       "        0.61806234, 0.71633218, 0.71633218, 0.72605036, 0.69082223,\n",
       "        0.68156487, 0.6944666 , 0.74276376, 0.69626772, 0.58300173,\n",
       "        0.65844264, 0.66179371, 0.71381888, 0.71708629, 0.74318264,\n",
       "        0.89594944, 0.90307046, 0.92120802, 0.99639756, 0.98571604,\n",
       "        1.        , 0.99710975, 0.98290965, 0.92510376, 0.94412102,\n",
       "        0.9007666 , 0.92376325, 0.87048122, 0.86692071, 0.88003188,\n",
       "        0.88120467, 0.83257228, 0.82591208, 0.8346667 , 0.86164295,\n",
       "        0.81116751, 0.83546274, 0.85184091, 0.87911025, 0.89733167,\n",
       "        0.91337503, 0.84886701, 0.88086965, 0.86683706, 0.85494081,\n",
       "        0.86264822, 0.8296401 , 0.83822721, 0.85778914, 0.91140619,\n",
       "        0.90956315, 0.89217949, 0.90834843, 0.87404172, 0.91354254]),\n",
       " array([0.57864538, 0.59636406, 0.57914792, 0.5820801 , 0.61806234,\n",
       "        0.71633218, 0.71633218, 0.72605036, 0.69082223, 0.68156487,\n",
       "        0.6944666 , 0.74276376, 0.69626772, 0.58300173, 0.65844264,\n",
       "        0.66179371, 0.71381888, 0.71708629, 0.74318264, 0.89594944,\n",
       "        0.90307046, 0.92120802, 0.99639756, 0.98571604, 1.        ,\n",
       "        0.99710975, 0.98290965, 0.92510376, 0.94412102, 0.9007666 ,\n",
       "        0.92376325, 0.87048122, 0.86692071, 0.88003188, 0.88120467,\n",
       "        0.83257228, 0.82591208, 0.8346667 , 0.86164295, 0.81116751,\n",
       "        0.83546274, 0.85184091, 0.87911025, 0.89733167, 0.91337503,\n",
       "        0.84886701, 0.88086965, 0.86683706, 0.85494081, 0.86264822,\n",
       "        0.8296401 , 0.83822721, 0.85778914, 0.91140619, 0.90956315,\n",
       "        0.89217949, 0.90834843, 0.87404172, 0.91354254, 0.93260173]),\n",
       " array([0.59636406, 0.57914792, 0.5820801 , 0.61806234, 0.71633218,\n",
       "        0.71633218, 0.72605036, 0.69082223, 0.68156487, 0.6944666 ,\n",
       "        0.74276376, 0.69626772, 0.58300173, 0.65844264, 0.66179371,\n",
       "        0.71381888, 0.71708629, 0.74318264, 0.89594944, 0.90307046,\n",
       "        0.92120802, 0.99639756, 0.98571604, 1.        , 0.99710975,\n",
       "        0.98290965, 0.92510376, 0.94412102, 0.9007666 , 0.92376325,\n",
       "        0.87048122, 0.86692071, 0.88003188, 0.88120467, 0.83257228,\n",
       "        0.82591208, 0.8346667 , 0.86164295, 0.81116751, 0.83546274,\n",
       "        0.85184091, 0.87911025, 0.89733167, 0.91337503, 0.84886701,\n",
       "        0.88086965, 0.86683706, 0.85494081, 0.86264822, 0.8296401 ,\n",
       "        0.83822721, 0.85778914, 0.91140619, 0.90956315, 0.89217949,\n",
       "        0.90834843, 0.87404172, 0.91354254, 0.93260173, 0.89900721]),\n",
       " array([0.57914792, 0.5820801 , 0.61806234, 0.71633218, 0.71633218,\n",
       "        0.72605036, 0.69082223, 0.68156487, 0.6944666 , 0.74276376,\n",
       "        0.69626772, 0.58300173, 0.65844264, 0.66179371, 0.71381888,\n",
       "        0.71708629, 0.74318264, 0.89594944, 0.90307046, 0.92120802,\n",
       "        0.99639756, 0.98571604, 1.        , 0.99710975, 0.98290965,\n",
       "        0.92510376, 0.94412102, 0.9007666 , 0.92376325, 0.87048122,\n",
       "        0.86692071, 0.88003188, 0.88120467, 0.83257228, 0.82591208,\n",
       "        0.8346667 , 0.86164295, 0.81116751, 0.83546274, 0.85184091,\n",
       "        0.87911025, 0.89733167, 0.91337503, 0.84886701, 0.88086965,\n",
       "        0.86683706, 0.85494081, 0.86264822, 0.8296401 , 0.83822721,\n",
       "        0.85778914, 0.91140619, 0.90956315, 0.89217949, 0.90834843,\n",
       "        0.87404172, 0.91354254, 0.93260173, 0.89900721, 0.91417086]),\n",
       " array([0.5820801 , 0.61806234, 0.71633218, 0.71633218, 0.72605036,\n",
       "        0.69082223, 0.68156487, 0.6944666 , 0.74276376, 0.69626772,\n",
       "        0.58300173, 0.65844264, 0.66179371, 0.71381888, 0.71708629,\n",
       "        0.74318264, 0.89594944, 0.90307046, 0.92120802, 0.99639756,\n",
       "        0.98571604, 1.        , 0.99710975, 0.98290965, 0.92510376,\n",
       "        0.94412102, 0.9007666 , 0.92376325, 0.87048122, 0.86692071,\n",
       "        0.88003188, 0.88120467, 0.83257228, 0.82591208, 0.8346667 ,\n",
       "        0.86164295, 0.81116751, 0.83546274, 0.85184091, 0.87911025,\n",
       "        0.89733167, 0.91337503, 0.84886701, 0.88086965, 0.86683706,\n",
       "        0.85494081, 0.86264822, 0.8296401 , 0.83822721, 0.85778914,\n",
       "        0.91140619, 0.90956315, 0.89217949, 0.90834843, 0.87404172,\n",
       "        0.91354254, 0.93260173, 0.89900721, 0.91417086, 0.92267411]),\n",
       " array([0.61806234, 0.71633218, 0.71633218, 0.72605036, 0.69082223,\n",
       "        0.68156487, 0.6944666 , 0.74276376, 0.69626772, 0.58300173,\n",
       "        0.65844264, 0.66179371, 0.71381888, 0.71708629, 0.74318264,\n",
       "        0.89594944, 0.90307046, 0.92120802, 0.99639756, 0.98571604,\n",
       "        1.        , 0.99710975, 0.98290965, 0.92510376, 0.94412102,\n",
       "        0.9007666 , 0.92376325, 0.87048122, 0.86692071, 0.88003188,\n",
       "        0.88120467, 0.83257228, 0.82591208, 0.8346667 , 0.86164295,\n",
       "        0.81116751, 0.83546274, 0.85184091, 0.87911025, 0.89733167,\n",
       "        0.91337503, 0.84886701, 0.88086965, 0.86683706, 0.85494081,\n",
       "        0.86264822, 0.8296401 , 0.83822721, 0.85778914, 0.91140619,\n",
       "        0.90956315, 0.89217949, 0.90834843, 0.87404172, 0.91354254,\n",
       "        0.93260173, 0.89900721, 0.91417086, 0.92267411, 0.97260508]),\n",
       " array([0.71633218, 0.71633218, 0.72605036, 0.69082223, 0.68156487,\n",
       "        0.6944666 , 0.74276376, 0.69626772, 0.58300173, 0.65844264,\n",
       "        0.66179371, 0.71381888, 0.71708629, 0.74318264, 0.89594944,\n",
       "        0.90307046, 0.92120802, 0.99639756, 0.98571604, 1.        ,\n",
       "        0.99710975, 0.98290965, 0.92510376, 0.94412102, 0.9007666 ,\n",
       "        0.92376325, 0.87048122, 0.86692071, 0.88003188, 0.88120467,\n",
       "        0.83257228, 0.82591208, 0.8346667 , 0.86164295, 0.81116751,\n",
       "        0.83546274, 0.85184091, 0.87911025, 0.89733167, 0.91337503,\n",
       "        0.84886701, 0.88086965, 0.86683706, 0.85494081, 0.86264822,\n",
       "        0.8296401 , 0.83822721, 0.85778914, 0.91140619, 0.90956315,\n",
       "        0.89217949, 0.90834843, 0.87404172, 0.91354254, 0.93260173,\n",
       "        0.89900721, 0.91417086, 0.92267411, 0.97260508, 0.98391492]),\n",
       " array([0.71633218, 0.72605036, 0.69082223, 0.68156487, 0.6944666 ,\n",
       "        0.74276376, 0.69626772, 0.58300173, 0.65844264, 0.66179371,\n",
       "        0.71381888, 0.71708629, 0.74318264, 0.89594944, 0.90307046,\n",
       "        0.92120802, 0.99639756, 0.98571604, 1.        , 0.99710975,\n",
       "        0.98290965, 0.92510376, 0.94412102, 0.9007666 , 0.92376325,\n",
       "        0.87048122, 0.86692071, 0.88003188, 0.88120467, 0.83257228,\n",
       "        0.82591208, 0.8346667 , 0.86164295, 0.81116751, 0.83546274,\n",
       "        0.85184091, 0.87911025, 0.89733167, 0.91337503, 0.84886701,\n",
       "        0.88086965, 0.86683706, 0.85494081, 0.86264822, 0.8296401 ,\n",
       "        0.83822721, 0.85778914, 0.91140619, 0.90956315, 0.89217949,\n",
       "        0.90834843, 0.87404172, 0.91354254, 0.93260173, 0.89900721,\n",
       "        0.91417086, 0.92267411, 0.97260508, 0.98391492, 0.96171411]),\n",
       " array([0.72605036, 0.69082223, 0.68156487, 0.6944666 , 0.74276376,\n",
       "        0.69626772, 0.58300173, 0.65844264, 0.66179371, 0.71381888,\n",
       "        0.71708629, 0.74318264, 0.89594944, 0.90307046, 0.92120802,\n",
       "        0.99639756, 0.98571604, 1.        , 0.99710975, 0.98290965,\n",
       "        0.92510376, 0.94412102, 0.9007666 , 0.92376325, 0.87048122,\n",
       "        0.86692071, 0.88003188, 0.88120467, 0.83257228, 0.82591208,\n",
       "        0.8346667 , 0.86164295, 0.81116751, 0.83546274, 0.85184091,\n",
       "        0.87911025, 0.89733167, 0.91337503, 0.84886701, 0.88086965,\n",
       "        0.86683706, 0.85494081, 0.86264822, 0.8296401 , 0.83822721,\n",
       "        0.85778914, 0.91140619, 0.90956315, 0.89217949, 0.90834843,\n",
       "        0.87404172, 0.91354254, 0.93260173, 0.89900721, 0.91417086,\n",
       "        0.92267411, 0.97260508, 0.98391492, 0.96171411, 0.96112772]),\n",
       " array([0.69082223, 0.68156487, 0.6944666 , 0.74276376, 0.69626772,\n",
       "        0.58300173, 0.65844264, 0.66179371, 0.71381888, 0.71708629,\n",
       "        0.74318264, 0.89594944, 0.90307046, 0.92120802, 0.99639756,\n",
       "        0.98571604, 1.        , 0.99710975, 0.98290965, 0.92510376,\n",
       "        0.94412102, 0.9007666 , 0.92376325, 0.87048122, 0.86692071,\n",
       "        0.88003188, 0.88120467, 0.83257228, 0.82591208, 0.8346667 ,\n",
       "        0.86164295, 0.81116751, 0.83546274, 0.85184091, 0.87911025,\n",
       "        0.89733167, 0.91337503, 0.84886701, 0.88086965, 0.86683706,\n",
       "        0.85494081, 0.86264822, 0.8296401 , 0.83822721, 0.85778914,\n",
       "        0.91140619, 0.90956315, 0.89217949, 0.90834843, 0.87404172,\n",
       "        0.91354254, 0.93260173, 0.89900721, 0.91417086, 0.92267411,\n",
       "        0.97260508, 0.98391492, 0.96171411, 0.96112772, 0.9729401 ]),\n",
       " array([0.68156487, 0.6944666 , 0.74276376, 0.69626772, 0.58300173,\n",
       "        0.65844264, 0.66179371, 0.71381888, 0.71708629, 0.74318264,\n",
       "        0.89594944, 0.90307046, 0.92120802, 0.99639756, 0.98571604,\n",
       "        1.        , 0.99710975, 0.98290965, 0.92510376, 0.94412102,\n",
       "        0.9007666 , 0.92376325, 0.87048122, 0.86692071, 0.88003188,\n",
       "        0.88120467, 0.83257228, 0.82591208, 0.8346667 , 0.86164295,\n",
       "        0.81116751, 0.83546274, 0.85184091, 0.87911025, 0.89733167,\n",
       "        0.91337503, 0.84886701, 0.88086965, 0.86683706, 0.85494081,\n",
       "        0.86264822, 0.8296401 , 0.83822721, 0.85778914, 0.91140619,\n",
       "        0.90956315, 0.89217949, 0.90834843, 0.87404172, 0.91354254,\n",
       "        0.93260173, 0.89900721, 0.91417086, 0.92267411, 0.97260508,\n",
       "        0.98391492, 0.96171411, 0.96112772, 0.9729401 , 0.94265492])]"
      ]
     },
     "execution_count": 39,
     "metadata": {},
     "output_type": "execute_result"
    }
   ],
   "source": [
    "x_test"
   ]
  },
  {
   "cell_type": "code",
   "execution_count": 40,
   "metadata": {
    "execution": {
     "iopub.execute_input": "2020-12-20T07:50:55.736680Z",
     "iopub.status.busy": "2020-12-20T07:50:55.736015Z",
     "iopub.status.idle": "2020-12-20T07:50:55.739548Z",
     "shell.execute_reply": "2020-12-20T07:50:55.740027Z"
    },
    "papermill": {
     "duration": 0.050171,
     "end_time": "2020-12-20T07:50:55.740141",
     "exception": false,
     "start_time": "2020-12-20T07:50:55.689970",
     "status": "completed"
    },
    "tags": []
   },
   "outputs": [],
   "source": [
    "x_test = np.array(x_test)"
   ]
  },
  {
   "cell_type": "code",
   "execution_count": 41,
   "metadata": {
    "execution": {
     "iopub.execute_input": "2020-12-20T07:50:55.831475Z",
     "iopub.status.busy": "2020-12-20T07:50:55.830861Z",
     "iopub.status.idle": "2020-12-20T07:50:55.835447Z",
     "shell.execute_reply": "2020-12-20T07:50:55.835919Z"
    },
    "papermill": {
     "duration": 0.052445,
     "end_time": "2020-12-20T07:50:55.836052",
     "exception": false,
     "start_time": "2020-12-20T07:50:55.783607",
     "status": "completed"
    },
    "tags": []
   },
   "outputs": [],
   "source": [
    "x_test = np.reshape(x_test, (x_test.shape[0],x_test.shape[1],1))"
   ]
  },
  {
   "cell_type": "code",
   "execution_count": 42,
   "metadata": {
    "execution": {
     "iopub.execute_input": "2020-12-20T07:50:55.937835Z",
     "iopub.status.busy": "2020-12-20T07:50:55.937225Z",
     "iopub.status.idle": "2020-12-20T07:50:55.940312Z",
     "shell.execute_reply": "2020-12-20T07:50:55.940848Z"
    },
    "papermill": {
     "duration": 0.060531,
     "end_time": "2020-12-20T07:50:55.940977",
     "exception": false,
     "start_time": "2020-12-20T07:50:55.880446",
     "status": "completed"
    },
    "tags": []
   },
   "outputs": [
    {
     "ename": "NameError",
     "evalue": "name 'model' is not defined",
     "output_type": "error",
     "traceback": [
      "\u001b[0;31m---------------------------------------------------------------------------\u001b[0m",
      "\u001b[0;31mNameError\u001b[0m                                 Traceback (most recent call last)",
      "\u001b[0;32m<ipython-input-42-a6a4919a45c0>\u001b[0m in \u001b[0;36m<module>\u001b[0;34m\u001b[0m\n\u001b[1;32m      1\u001b[0m \u001b[0;31m# now we are getting the models predicted price values\u001b[0m\u001b[0;34m\u001b[0m\u001b[0;34m\u001b[0m\u001b[0;34m\u001b[0m\u001b[0m\n\u001b[0;32m----> 2\u001b[0;31m \u001b[0mpredictions\u001b[0m \u001b[0;34m=\u001b[0m \u001b[0mmodel\u001b[0m\u001b[0;34m.\u001b[0m\u001b[0mpredict\u001b[0m\u001b[0;34m(\u001b[0m\u001b[0mx_test\u001b[0m\u001b[0;34m)\u001b[0m\u001b[0;34m\u001b[0m\u001b[0;34m\u001b[0m\u001b[0m\n\u001b[0m\u001b[1;32m      3\u001b[0m \u001b[0mpredictions\u001b[0m \u001b[0;34m=\u001b[0m \u001b[0mscaler\u001b[0m\u001b[0;34m.\u001b[0m\u001b[0minverse_transform\u001b[0m\u001b[0;34m(\u001b[0m\u001b[0mpredictions\u001b[0m\u001b[0;34m)\u001b[0m\u001b[0;31m#Undo scaling\u001b[0m\u001b[0;34m\u001b[0m\u001b[0;34m\u001b[0m\u001b[0m\n",
      "\u001b[0;31mNameError\u001b[0m: name 'model' is not defined"
     ]
    }
   ],
   "source": [
    "# now we are getting the models predicted price values\n",
    "predictions = model.predict(x_test) \n",
    "predictions = scaler.inverse_transform(predictions)#Undo scaling"
   ]
  },
  {
   "cell_type": "code",
   "execution_count": 43,
   "metadata": {
    "execution": {
     "iopub.execute_input": "2020-12-20T07:50:56.051440Z",
     "iopub.status.busy": "2020-12-20T07:50:56.045655Z",
     "iopub.status.idle": "2020-12-20T07:50:56.062388Z",
     "shell.execute_reply": "2020-12-20T07:50:56.061792Z"
    },
    "papermill": {
     "duration": 0.074752,
     "end_time": "2020-12-20T07:50:56.062500",
     "exception": false,
     "start_time": "2020-12-20T07:50:55.987748",
     "status": "completed"
    },
    "tags": []
   },
   "outputs": [
    {
     "ename": "NameError",
     "evalue": "name 'predictions' is not defined",
     "output_type": "error",
     "traceback": [
      "\u001b[0;31m---------------------------------------------------------------------------\u001b[0m",
      "\u001b[0;31mNameError\u001b[0m                                 Traceback (most recent call last)",
      "\u001b[0;32m<ipython-input-43-7ea0ff523e42>\u001b[0m in \u001b[0;36m<module>\u001b[0;34m\u001b[0m\n\u001b[0;32m----> 1\u001b[0;31m \u001b[0mprint\u001b[0m\u001b[0;34m(\u001b[0m\u001b[0mpredictions\u001b[0m\u001b[0;34m)\u001b[0m\u001b[0;34m\u001b[0m\u001b[0;34m\u001b[0m\u001b[0m\n\u001b[0m",
      "\u001b[0;31mNameError\u001b[0m: name 'predictions' is not defined"
     ]
    }
   ],
   "source": [
    "print(predictions)"
   ]
  },
  {
   "cell_type": "code",
   "execution_count": 44,
   "metadata": {
    "execution": {
     "iopub.execute_input": "2020-12-20T07:50:56.189209Z",
     "iopub.status.busy": "2020-12-20T07:50:56.188386Z",
     "iopub.status.idle": "2020-12-20T07:50:56.192284Z",
     "shell.execute_reply": "2020-12-20T07:50:56.192840Z"
    },
    "papermill": {
     "duration": 0.071747,
     "end_time": "2020-12-20T07:50:56.192980",
     "exception": false,
     "start_time": "2020-12-20T07:50:56.121233",
     "status": "completed"
    },
    "tags": []
   },
   "outputs": [
    {
     "ename": "NameError",
     "evalue": "name 'predictions' is not defined",
     "output_type": "error",
     "traceback": [
      "\u001b[0;31m---------------------------------------------------------------------------\u001b[0m",
      "\u001b[0;31mNameError\u001b[0m                                 Traceback (most recent call last)",
      "\u001b[0;32m<ipython-input-44-ff54bde10017>\u001b[0m in \u001b[0;36m<module>\u001b[0;34m\u001b[0m\n\u001b[1;32m      1\u001b[0m \u001b[0;31m# here we are calculaing the value of RMSE\u001b[0m\u001b[0;34m\u001b[0m\u001b[0;34m\u001b[0m\u001b[0;34m\u001b[0m\u001b[0m\n\u001b[0;32m----> 2\u001b[0;31m \u001b[0mrmse\u001b[0m\u001b[0;34m=\u001b[0m\u001b[0mnp\u001b[0m\u001b[0;34m.\u001b[0m\u001b[0msqrt\u001b[0m\u001b[0;34m(\u001b[0m\u001b[0mnp\u001b[0m\u001b[0;34m.\u001b[0m\u001b[0mmean\u001b[0m\u001b[0;34m(\u001b[0m\u001b[0;34m(\u001b[0m\u001b[0;34m(\u001b[0m\u001b[0mpredictions\u001b[0m\u001b[0;34m-\u001b[0m \u001b[0my_test\u001b[0m\u001b[0;34m)\u001b[0m\u001b[0;34m**\u001b[0m\u001b[0;36m2\u001b[0m\u001b[0;34m)\u001b[0m\u001b[0;34m)\u001b[0m\u001b[0;34m)\u001b[0m\u001b[0;34m\u001b[0m\u001b[0;34m\u001b[0m\u001b[0m\n\u001b[0m\u001b[1;32m      3\u001b[0m \u001b[0mrmse\u001b[0m\u001b[0;34m\u001b[0m\u001b[0;34m\u001b[0m\u001b[0m\n",
      "\u001b[0;31mNameError\u001b[0m: name 'predictions' is not defined"
     ]
    }
   ],
   "source": [
    "# here we are calculaing the value of RMSE \n",
    "rmse=np.sqrt(np.mean(((predictions- y_test)**2)))\n",
    "rmse"
   ]
  },
  {
   "cell_type": "code",
   "execution_count": 45,
   "metadata": {
    "execution": {
     "iopub.execute_input": "2020-12-20T07:50:56.298002Z",
     "iopub.status.busy": "2020-12-20T07:50:56.297418Z",
     "iopub.status.idle": "2020-12-20T07:50:56.300436Z",
     "shell.execute_reply": "2020-12-20T07:50:56.301010Z"
    },
    "papermill": {
     "duration": 0.061467,
     "end_time": "2020-12-20T07:50:56.301138",
     "exception": false,
     "start_time": "2020-12-20T07:50:56.239671",
     "status": "completed"
    },
    "tags": []
   },
   "outputs": [
    {
     "ename": "NameError",
     "evalue": "name 'model' is not defined",
     "output_type": "error",
     "traceback": [
      "\u001b[0;31m---------------------------------------------------------------------------\u001b[0m",
      "\u001b[0;31mNameError\u001b[0m                                 Traceback (most recent call last)",
      "\u001b[0;32m<ipython-input-45-d7bd8707cf13>\u001b[0m in \u001b[0;36m<module>\u001b[0;34m\u001b[0m\n\u001b[1;32m      1\u001b[0m \u001b[0mTest_data\u001b[0m \u001b[0;34m=\u001b[0m \u001b[0;34m[\u001b[0m\u001b[0;34m[\u001b[0m\u001b[0;36m2819.800049\u001b[0m\u001b[0;34m,\u001b[0m\u001b[0;36m2760.449951\u001b[0m\u001b[0;34m,\u001b[0m\u001b[0;36m2814.199951\u001b[0m\u001b[0;34m]\u001b[0m\u001b[0;34m]\u001b[0m\u001b[0;34m\u001b[0m\u001b[0;34m\u001b[0m\u001b[0m\n\u001b[0;32m----> 2\u001b[0;31m \u001b[0mprediction4\u001b[0m \u001b[0;34m=\u001b[0m \u001b[0mmodel\u001b[0m\u001b[0;34m.\u001b[0m\u001b[0mpredict\u001b[0m\u001b[0;34m(\u001b[0m\u001b[0mTest_data\u001b[0m\u001b[0;34m)\u001b[0m\u001b[0;34m\u001b[0m\u001b[0;34m\u001b[0m\u001b[0m\n\u001b[0m",
      "\u001b[0;31mNameError\u001b[0m: name 'model' is not defined"
     ]
    }
   ],
   "source": [
    "Test_data = [[2819.800049,2760.449951,2814.199951]]  \n",
    "prediction4 = model.predict(Test_data)"
   ]
  },
  {
   "cell_type": "code",
   "execution_count": 46,
   "metadata": {
    "execution": {
     "iopub.execute_input": "2020-12-20T07:50:56.396481Z",
     "iopub.status.busy": "2020-12-20T07:50:56.395819Z",
     "iopub.status.idle": "2020-12-20T07:50:56.408123Z",
     "shell.execute_reply": "2020-12-20T07:50:56.408651Z"
    },
    "papermill": {
     "duration": 0.060783,
     "end_time": "2020-12-20T07:50:56.408782",
     "exception": false,
     "start_time": "2020-12-20T07:50:56.347999",
     "status": "completed"
    },
    "tags": []
   },
   "outputs": [
    {
     "ename": "NameError",
     "evalue": "name 'prediction4' is not defined",
     "output_type": "error",
     "traceback": [
      "\u001b[0;31m---------------------------------------------------------------------------\u001b[0m",
      "\u001b[0;31mNameError\u001b[0m                                 Traceback (most recent call last)",
      "\u001b[0;32m<ipython-input-46-971956850558>\u001b[0m in \u001b[0;36m<module>\u001b[0;34m\u001b[0m\n\u001b[0;32m----> 1\u001b[0;31m \u001b[0mprint\u001b[0m\u001b[0;34m(\u001b[0m\u001b[0mprediction4\u001b[0m\u001b[0;34m)\u001b[0m\u001b[0;34m\u001b[0m\u001b[0;34m\u001b[0m\u001b[0m\n\u001b[0m",
      "\u001b[0;31mNameError\u001b[0m: name 'prediction4' is not defined"
     ]
    }
   ],
   "source": [
    "print(prediction4)"
   ]
  },
  {
   "cell_type": "code",
   "execution_count": 47,
   "metadata": {
    "execution": {
     "iopub.execute_input": "2020-12-20T07:50:56.504244Z",
     "iopub.status.busy": "2020-12-20T07:50:56.503624Z",
     "iopub.status.idle": "2020-12-20T07:50:56.506608Z",
     "shell.execute_reply": "2020-12-20T07:50:56.507119Z"
    },
    "papermill": {
     "duration": 0.051701,
     "end_time": "2020-12-20T07:50:56.507273",
     "exception": false,
     "start_time": "2020-12-20T07:50:56.455572",
     "status": "completed"
    },
    "tags": []
   },
   "outputs": [],
   "source": [
    "## RF"
   ]
  },
  {
   "cell_type": "code",
   "execution_count": 48,
   "metadata": {
    "execution": {
     "iopub.execute_input": "2020-12-20T07:50:56.604673Z",
     "iopub.status.busy": "2020-12-20T07:50:56.604072Z",
     "iopub.status.idle": "2020-12-20T07:50:56.747852Z",
     "shell.execute_reply": "2020-12-20T07:50:56.748550Z"
    },
    "papermill": {
     "duration": 0.193833,
     "end_time": "2020-12-20T07:50:56.748685",
     "exception": false,
     "start_time": "2020-12-20T07:50:56.554852",
     "status": "completed"
    },
    "tags": []
   },
   "outputs": [
    {
     "ename": "ValueError",
     "evalue": "Found array with dim 3. Estimator expected <= 2.",
     "output_type": "error",
     "traceback": [
      "\u001b[0;31m---------------------------------------------------------------------------\u001b[0m",
      "\u001b[0;31mValueError\u001b[0m                                Traceback (most recent call last)",
      "\u001b[0;32m<ipython-input-48-2d9ace9de556>\u001b[0m in \u001b[0;36m<module>\u001b[0;34m\u001b[0m\n\u001b[1;32m      2\u001b[0m \u001b[0;32mfrom\u001b[0m \u001b[0msklearn\u001b[0m\u001b[0;34m.\u001b[0m\u001b[0mensemble\u001b[0m \u001b[0;32mimport\u001b[0m \u001b[0mRandomForestClassifier\u001b[0m\u001b[0;34m\u001b[0m\u001b[0;34m\u001b[0m\u001b[0m\n\u001b[1;32m      3\u001b[0m \u001b[0mclassifier\u001b[0m\u001b[0;34m=\u001b[0m\u001b[0mRandomForestClassifier\u001b[0m\u001b[0;34m(\u001b[0m\u001b[0;34m)\u001b[0m\u001b[0;34m\u001b[0m\u001b[0;34m\u001b[0m\u001b[0m\n\u001b[0;32m----> 4\u001b[0;31m \u001b[0mclassifier\u001b[0m\u001b[0;34m.\u001b[0m\u001b[0mfit\u001b[0m\u001b[0;34m(\u001b[0m\u001b[0mx_train\u001b[0m\u001b[0;34m,\u001b[0m\u001b[0my_train\u001b[0m\u001b[0;34m)\u001b[0m\u001b[0;34m\u001b[0m\u001b[0;34m\u001b[0m\u001b[0m\n\u001b[0m",
      "\u001b[0;32m/opt/conda/lib/python3.7/site-packages/sklearn/ensemble/_forest.py\u001b[0m in \u001b[0;36mfit\u001b[0;34m(self, X, y, sample_weight)\u001b[0m\n\u001b[1;32m    302\u001b[0m             )\n\u001b[1;32m    303\u001b[0m         X, y = self._validate_data(X, y, multi_output=True,\n\u001b[0;32m--> 304\u001b[0;31m                                    accept_sparse=\"csc\", dtype=DTYPE)\n\u001b[0m\u001b[1;32m    305\u001b[0m         \u001b[0;32mif\u001b[0m \u001b[0msample_weight\u001b[0m \u001b[0;32mis\u001b[0m \u001b[0;32mnot\u001b[0m \u001b[0;32mNone\u001b[0m\u001b[0;34m:\u001b[0m\u001b[0;34m\u001b[0m\u001b[0;34m\u001b[0m\u001b[0m\n\u001b[1;32m    306\u001b[0m             \u001b[0msample_weight\u001b[0m \u001b[0;34m=\u001b[0m \u001b[0m_check_sample_weight\u001b[0m\u001b[0;34m(\u001b[0m\u001b[0msample_weight\u001b[0m\u001b[0;34m,\u001b[0m \u001b[0mX\u001b[0m\u001b[0;34m)\u001b[0m\u001b[0;34m\u001b[0m\u001b[0;34m\u001b[0m\u001b[0m\n",
      "\u001b[0;32m/opt/conda/lib/python3.7/site-packages/sklearn/base.py\u001b[0m in \u001b[0;36m_validate_data\u001b[0;34m(self, X, y, reset, validate_separately, **check_params)\u001b[0m\n\u001b[1;32m    430\u001b[0m                 \u001b[0my\u001b[0m \u001b[0;34m=\u001b[0m \u001b[0mcheck_array\u001b[0m\u001b[0;34m(\u001b[0m\u001b[0my\u001b[0m\u001b[0;34m,\u001b[0m \u001b[0;34m**\u001b[0m\u001b[0mcheck_y_params\u001b[0m\u001b[0;34m)\u001b[0m\u001b[0;34m\u001b[0m\u001b[0;34m\u001b[0m\u001b[0m\n\u001b[1;32m    431\u001b[0m             \u001b[0;32melse\u001b[0m\u001b[0;34m:\u001b[0m\u001b[0;34m\u001b[0m\u001b[0;34m\u001b[0m\u001b[0m\n\u001b[0;32m--> 432\u001b[0;31m                 \u001b[0mX\u001b[0m\u001b[0;34m,\u001b[0m \u001b[0my\u001b[0m \u001b[0;34m=\u001b[0m \u001b[0mcheck_X_y\u001b[0m\u001b[0;34m(\u001b[0m\u001b[0mX\u001b[0m\u001b[0;34m,\u001b[0m \u001b[0my\u001b[0m\u001b[0;34m,\u001b[0m \u001b[0;34m**\u001b[0m\u001b[0mcheck_params\u001b[0m\u001b[0;34m)\u001b[0m\u001b[0;34m\u001b[0m\u001b[0;34m\u001b[0m\u001b[0m\n\u001b[0m\u001b[1;32m    433\u001b[0m             \u001b[0mout\u001b[0m \u001b[0;34m=\u001b[0m \u001b[0mX\u001b[0m\u001b[0;34m,\u001b[0m \u001b[0my\u001b[0m\u001b[0;34m\u001b[0m\u001b[0;34m\u001b[0m\u001b[0m\n\u001b[1;32m    434\u001b[0m \u001b[0;34m\u001b[0m\u001b[0m\n",
      "\u001b[0;32m/opt/conda/lib/python3.7/site-packages/sklearn/utils/validation.py\u001b[0m in \u001b[0;36minner_f\u001b[0;34m(*args, **kwargs)\u001b[0m\n\u001b[1;32m     70\u001b[0m                           FutureWarning)\n\u001b[1;32m     71\u001b[0m         \u001b[0mkwargs\u001b[0m\u001b[0;34m.\u001b[0m\u001b[0mupdate\u001b[0m\u001b[0;34m(\u001b[0m\u001b[0;34m{\u001b[0m\u001b[0mk\u001b[0m\u001b[0;34m:\u001b[0m \u001b[0marg\u001b[0m \u001b[0;32mfor\u001b[0m \u001b[0mk\u001b[0m\u001b[0;34m,\u001b[0m \u001b[0marg\u001b[0m \u001b[0;32min\u001b[0m \u001b[0mzip\u001b[0m\u001b[0;34m(\u001b[0m\u001b[0msig\u001b[0m\u001b[0;34m.\u001b[0m\u001b[0mparameters\u001b[0m\u001b[0;34m,\u001b[0m \u001b[0margs\u001b[0m\u001b[0;34m)\u001b[0m\u001b[0;34m}\u001b[0m\u001b[0;34m)\u001b[0m\u001b[0;34m\u001b[0m\u001b[0;34m\u001b[0m\u001b[0m\n\u001b[0;32m---> 72\u001b[0;31m         \u001b[0;32mreturn\u001b[0m \u001b[0mf\u001b[0m\u001b[0;34m(\u001b[0m\u001b[0;34m**\u001b[0m\u001b[0mkwargs\u001b[0m\u001b[0;34m)\u001b[0m\u001b[0;34m\u001b[0m\u001b[0;34m\u001b[0m\u001b[0m\n\u001b[0m\u001b[1;32m     73\u001b[0m     \u001b[0;32mreturn\u001b[0m \u001b[0minner_f\u001b[0m\u001b[0;34m\u001b[0m\u001b[0;34m\u001b[0m\u001b[0m\n\u001b[1;32m     74\u001b[0m \u001b[0;34m\u001b[0m\u001b[0m\n",
      "\u001b[0;32m/opt/conda/lib/python3.7/site-packages/sklearn/utils/validation.py\u001b[0m in \u001b[0;36mcheck_X_y\u001b[0;34m(X, y, accept_sparse, accept_large_sparse, dtype, order, copy, force_all_finite, ensure_2d, allow_nd, multi_output, ensure_min_samples, ensure_min_features, y_numeric, estimator)\u001b[0m\n\u001b[1;32m    800\u001b[0m                     \u001b[0mensure_min_samples\u001b[0m\u001b[0;34m=\u001b[0m\u001b[0mensure_min_samples\u001b[0m\u001b[0;34m,\u001b[0m\u001b[0;34m\u001b[0m\u001b[0;34m\u001b[0m\u001b[0m\n\u001b[1;32m    801\u001b[0m                     \u001b[0mensure_min_features\u001b[0m\u001b[0;34m=\u001b[0m\u001b[0mensure_min_features\u001b[0m\u001b[0;34m,\u001b[0m\u001b[0;34m\u001b[0m\u001b[0;34m\u001b[0m\u001b[0m\n\u001b[0;32m--> 802\u001b[0;31m                     estimator=estimator)\n\u001b[0m\u001b[1;32m    803\u001b[0m     \u001b[0;32mif\u001b[0m \u001b[0mmulti_output\u001b[0m\u001b[0;34m:\u001b[0m\u001b[0;34m\u001b[0m\u001b[0;34m\u001b[0m\u001b[0m\n\u001b[1;32m    804\u001b[0m         y = check_array(y, accept_sparse='csr', force_all_finite=True,\n",
      "\u001b[0;32m/opt/conda/lib/python3.7/site-packages/sklearn/utils/validation.py\u001b[0m in \u001b[0;36minner_f\u001b[0;34m(*args, **kwargs)\u001b[0m\n\u001b[1;32m     70\u001b[0m                           FutureWarning)\n\u001b[1;32m     71\u001b[0m         \u001b[0mkwargs\u001b[0m\u001b[0;34m.\u001b[0m\u001b[0mupdate\u001b[0m\u001b[0;34m(\u001b[0m\u001b[0;34m{\u001b[0m\u001b[0mk\u001b[0m\u001b[0;34m:\u001b[0m \u001b[0marg\u001b[0m \u001b[0;32mfor\u001b[0m \u001b[0mk\u001b[0m\u001b[0;34m,\u001b[0m \u001b[0marg\u001b[0m \u001b[0;32min\u001b[0m \u001b[0mzip\u001b[0m\u001b[0;34m(\u001b[0m\u001b[0msig\u001b[0m\u001b[0;34m.\u001b[0m\u001b[0mparameters\u001b[0m\u001b[0;34m,\u001b[0m \u001b[0margs\u001b[0m\u001b[0;34m)\u001b[0m\u001b[0;34m}\u001b[0m\u001b[0;34m)\u001b[0m\u001b[0;34m\u001b[0m\u001b[0;34m\u001b[0m\u001b[0m\n\u001b[0;32m---> 72\u001b[0;31m         \u001b[0;32mreturn\u001b[0m \u001b[0mf\u001b[0m\u001b[0;34m(\u001b[0m\u001b[0;34m**\u001b[0m\u001b[0mkwargs\u001b[0m\u001b[0;34m)\u001b[0m\u001b[0;34m\u001b[0m\u001b[0;34m\u001b[0m\u001b[0m\n\u001b[0m\u001b[1;32m     73\u001b[0m     \u001b[0;32mreturn\u001b[0m \u001b[0minner_f\u001b[0m\u001b[0;34m\u001b[0m\u001b[0;34m\u001b[0m\u001b[0m\n\u001b[1;32m     74\u001b[0m \u001b[0;34m\u001b[0m\u001b[0m\n",
      "\u001b[0;32m/opt/conda/lib/python3.7/site-packages/sklearn/utils/validation.py\u001b[0m in \u001b[0;36mcheck_array\u001b[0;34m(array, accept_sparse, accept_large_sparse, dtype, order, copy, force_all_finite, ensure_2d, allow_nd, ensure_min_samples, ensure_min_features, estimator)\u001b[0m\n\u001b[1;32m    639\u001b[0m         \u001b[0;32mif\u001b[0m \u001b[0;32mnot\u001b[0m \u001b[0mallow_nd\u001b[0m \u001b[0;32mand\u001b[0m \u001b[0marray\u001b[0m\u001b[0;34m.\u001b[0m\u001b[0mndim\u001b[0m \u001b[0;34m>=\u001b[0m \u001b[0;36m3\u001b[0m\u001b[0;34m:\u001b[0m\u001b[0;34m\u001b[0m\u001b[0;34m\u001b[0m\u001b[0m\n\u001b[1;32m    640\u001b[0m             raise ValueError(\"Found array with dim %d. %s expected <= 2.\"\n\u001b[0;32m--> 641\u001b[0;31m                              % (array.ndim, estimator_name))\n\u001b[0m\u001b[1;32m    642\u001b[0m \u001b[0;34m\u001b[0m\u001b[0m\n\u001b[1;32m    643\u001b[0m         \u001b[0;32mif\u001b[0m \u001b[0mforce_all_finite\u001b[0m\u001b[0;34m:\u001b[0m\u001b[0;34m\u001b[0m\u001b[0;34m\u001b[0m\u001b[0m\n",
      "\u001b[0;31mValueError\u001b[0m: Found array with dim 3. Estimator expected <= 2."
     ]
    }
   ],
   "source": [
    "### Implement Random Forest classifier\n",
    "from sklearn.ensemble import RandomForestClassifier\n",
    "classifier=RandomForestClassifier()\n",
    "classifier.fit(x_train,y_train)"
   ]
  },
  {
   "cell_type": "code",
   "execution_count": null,
   "metadata": {
    "papermill": {
     "duration": 0.056379,
     "end_time": "2020-12-20T07:50:56.851479",
     "exception": false,
     "start_time": "2020-12-20T07:50:56.795100",
     "status": "completed"
    },
    "tags": []
   },
   "outputs": [],
   "source": []
  }
 ],
 "metadata": {
  "kernelspec": {
   "display_name": "Python 3",
   "language": "python",
   "name": "python3"
  },
  "language_info": {
   "codemirror_mode": {
    "name": "ipython",
    "version": 3
   },
   "file_extension": ".py",
   "mimetype": "text/x-python",
   "name": "python",
   "nbconvert_exporter": "python",
   "pygments_lexer": "ipython3",
   "version": "3.7.6"
  },
  "papermill": {
   "duration": 10.466359,
   "end_time": "2020-12-20T07:50:57.006615",
   "environment_variables": {},
   "exception": null,
   "input_path": "__notebook__.ipynb",
   "output_path": "__notebook__.ipynb",
   "parameters": {},
   "start_time": "2020-12-20T07:50:46.540256",
   "version": "2.1.0"
  }
 },
 "nbformat": 4,
 "nbformat_minor": 4
}
