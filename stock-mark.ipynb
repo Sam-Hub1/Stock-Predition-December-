{
 "cells": [
  {
   "cell_type": "code",
   "execution_count": 1,
   "metadata": {
    "_cell_guid": "b1076dfc-b9ad-4769-8c92-a6c4dae69d19",
    "_uuid": "8f2839f25d086af736a60e9eeb907d3b93b6e0e5",
    "execution": {
     "iopub.execute_input": "2020-12-20T12:05:59.815934Z",
     "iopub.status.busy": "2020-12-20T12:05:59.815248Z",
     "iopub.status.idle": "2020-12-20T12:05:59.826503Z",
     "shell.execute_reply": "2020-12-20T12:05:59.828421Z"
    },
    "papermill": {
     "duration": 0.039886,
     "end_time": "2020-12-20T12:05:59.828720",
     "exception": false,
     "start_time": "2020-12-20T12:05:59.788834",
     "status": "completed"
    },
    "tags": []
   },
   "outputs": [
    {
     "name": "stdout",
     "output_type": "stream",
     "text": [
      "/kaggle/input/tcs-file/TCS.NS.csv\n"
     ]
    }
   ],
   "source": [
    "# This Python 3 environment comes with many helpful analytics libraries installed\n",
    "# It is defined by the kaggle/python Docker image: https://github.com/kaggle/docker-python\n",
    "# For example, here's several helpful packages to load\n",
    "\n",
    "import numpy as np # linear algebra\n",
    "import pandas as pd # data processing, CSV file I/O (e.g. pd.read_csv)\n",
    "\n",
    "# Input data files are available in the read-only \"../input/\" directory\n",
    "# For example, running this (by clicking run or pressing Shift+Enter) will list all files under the input directory\n",
    "\n",
    "import os\n",
    "for dirname, _, filenames in os.walk('/kaggle/input'):\n",
    "    for filename in filenames:\n",
    "        print(os.path.join(dirname, filename))\n",
    "\n",
    "# You can write up to 20GB to the current directory (/kaggle/working/) that gets preserved as output when you create a version using \"Save & Run All\" \n",
    "# You can also write temporary files to /kaggle/temp/, but they won't be saved outside of the current session"
   ]
  },
  {
   "cell_type": "code",
   "execution_count": 2,
   "metadata": {
    "_cell_guid": "79c7e3d0-c299-4dcb-8224-4455121ee9b0",
    "_uuid": "d629ff2d2480ee46fbb7e2d37f6b5fab8052498a",
    "execution": {
     "iopub.execute_input": "2020-12-20T12:05:59.871802Z",
     "iopub.status.busy": "2020-12-20T12:05:59.871111Z",
     "iopub.status.idle": "2020-12-20T12:05:59.884198Z",
     "shell.execute_reply": "2020-12-20T12:05:59.883547Z"
    },
    "papermill": {
     "duration": 0.036165,
     "end_time": "2020-12-20T12:05:59.884318",
     "exception": false,
     "start_time": "2020-12-20T12:05:59.848153",
     "status": "completed"
    },
    "tags": []
   },
   "outputs": [],
   "source": [
    "data=pd.read_csv(\"/kaggle/input/tcs-file/TCS.NS.csv\")"
   ]
  },
  {
   "cell_type": "code",
   "execution_count": 3,
   "metadata": {
    "execution": {
     "iopub.execute_input": "2020-12-20T12:05:59.941845Z",
     "iopub.status.busy": "2020-12-20T12:05:59.939767Z",
     "iopub.status.idle": "2020-12-20T12:05:59.952908Z",
     "shell.execute_reply": "2020-12-20T12:05:59.953443Z"
    },
    "papermill": {
     "duration": 0.051664,
     "end_time": "2020-12-20T12:05:59.953588",
     "exception": false,
     "start_time": "2020-12-20T12:05:59.901924",
     "status": "completed"
    },
    "tags": []
   },
   "outputs": [
    {
     "data": {
      "text/html": [
       "<div>\n",
       "<style scoped>\n",
       "    .dataframe tbody tr th:only-of-type {\n",
       "        vertical-align: middle;\n",
       "    }\n",
       "\n",
       "    .dataframe tbody tr th {\n",
       "        vertical-align: top;\n",
       "    }\n",
       "\n",
       "    .dataframe thead th {\n",
       "        text-align: right;\n",
       "    }\n",
       "</style>\n",
       "<table border=\"1\" class=\"dataframe\">\n",
       "  <thead>\n",
       "    <tr style=\"text-align: right;\">\n",
       "      <th></th>\n",
       "      <th>Date</th>\n",
       "      <th>Open</th>\n",
       "      <th>High</th>\n",
       "      <th>Low</th>\n",
       "      <th>Close</th>\n",
       "      <th>Adj Close</th>\n",
       "      <th>Volume</th>\n",
       "    </tr>\n",
       "  </thead>\n",
       "  <tbody>\n",
       "    <tr>\n",
       "      <th>0</th>\n",
       "      <td>2019-12-16</td>\n",
       "      <td>2096.000000</td>\n",
       "      <td>2136.000000</td>\n",
       "      <td>2080.300049</td>\n",
       "      <td>2126.750000</td>\n",
       "      <td>2086.768066</td>\n",
       "      <td>5574177.0</td>\n",
       "    </tr>\n",
       "    <tr>\n",
       "      <th>1</th>\n",
       "      <td>2019-12-17</td>\n",
       "      <td>2126.500000</td>\n",
       "      <td>2169.000000</td>\n",
       "      <td>2119.000000</td>\n",
       "      <td>2164.949951</td>\n",
       "      <td>2124.250000</td>\n",
       "      <td>6059673.0</td>\n",
       "    </tr>\n",
       "    <tr>\n",
       "      <th>2</th>\n",
       "      <td>2019-12-18</td>\n",
       "      <td>2174.000000</td>\n",
       "      <td>2203.449951</td>\n",
       "      <td>2153.000000</td>\n",
       "      <td>2167.750000</td>\n",
       "      <td>2126.997314</td>\n",
       "      <td>8251081.0</td>\n",
       "    </tr>\n",
       "    <tr>\n",
       "      <th>3</th>\n",
       "      <td>2019-12-19</td>\n",
       "      <td>2179.800049</td>\n",
       "      <td>2236.500000</td>\n",
       "      <td>2167.550049</td>\n",
       "      <td>2229.050049</td>\n",
       "      <td>2187.145264</td>\n",
       "      <td>6251505.0</td>\n",
       "    </tr>\n",
       "    <tr>\n",
       "      <th>4</th>\n",
       "      <td>2019-12-20</td>\n",
       "      <td>2220.000000</td>\n",
       "      <td>2246.699951</td>\n",
       "      <td>2208.250000</td>\n",
       "      <td>2222.899902</td>\n",
       "      <td>2181.110596</td>\n",
       "      <td>5548338.0</td>\n",
       "    </tr>\n",
       "    <tr>\n",
       "      <th>...</th>\n",
       "      <td>...</td>\n",
       "      <td>...</td>\n",
       "      <td>...</td>\n",
       "      <td>...</td>\n",
       "      <td>...</td>\n",
       "      <td>...</td>\n",
       "      <td>...</td>\n",
       "    </tr>\n",
       "    <tr>\n",
       "      <th>247</th>\n",
       "      <td>2020-12-10</td>\n",
       "      <td>2818.000000</td>\n",
       "      <td>2827.300049</td>\n",
       "      <td>2780.250000</td>\n",
       "      <td>2784.300049</td>\n",
       "      <td>2784.300049</td>\n",
       "      <td>2127801.0</td>\n",
       "    </tr>\n",
       "    <tr>\n",
       "      <th>248</th>\n",
       "      <td>2020-12-11</td>\n",
       "      <td>2792.699951</td>\n",
       "      <td>2807.699951</td>\n",
       "      <td>2764.550049</td>\n",
       "      <td>2783.600098</td>\n",
       "      <td>2783.600098</td>\n",
       "      <td>1795408.0</td>\n",
       "    </tr>\n",
       "    <tr>\n",
       "      <th>249</th>\n",
       "      <td>2020-12-14</td>\n",
       "      <td>2802.000000</td>\n",
       "      <td>2804.000000</td>\n",
       "      <td>2756.250000</td>\n",
       "      <td>2797.699951</td>\n",
       "      <td>2797.699951</td>\n",
       "      <td>2483658.0</td>\n",
       "    </tr>\n",
       "    <tr>\n",
       "      <th>250</th>\n",
       "      <td>2020-12-15</td>\n",
       "      <td>2786.000000</td>\n",
       "      <td>2794.699951</td>\n",
       "      <td>2755.000000</td>\n",
       "      <td>2761.550049</td>\n",
       "      <td>2761.550049</td>\n",
       "      <td>2365509.0</td>\n",
       "    </tr>\n",
       "    <tr>\n",
       "      <th>251</th>\n",
       "      <td>2020-12-16</td>\n",
       "      <td>2779.000000</td>\n",
       "      <td>2819.800049</td>\n",
       "      <td>2760.449951</td>\n",
       "      <td>2814.199951</td>\n",
       "      <td>2814.199951</td>\n",
       "      <td>2563601.0</td>\n",
       "    </tr>\n",
       "  </tbody>\n",
       "</table>\n",
       "<p>252 rows × 7 columns</p>\n",
       "</div>"
      ],
      "text/plain": [
       "           Date         Open         High          Low        Close  \\\n",
       "0    2019-12-16  2096.000000  2136.000000  2080.300049  2126.750000   \n",
       "1    2019-12-17  2126.500000  2169.000000  2119.000000  2164.949951   \n",
       "2    2019-12-18  2174.000000  2203.449951  2153.000000  2167.750000   \n",
       "3    2019-12-19  2179.800049  2236.500000  2167.550049  2229.050049   \n",
       "4    2019-12-20  2220.000000  2246.699951  2208.250000  2222.899902   \n",
       "..          ...          ...          ...          ...          ...   \n",
       "247  2020-12-10  2818.000000  2827.300049  2780.250000  2784.300049   \n",
       "248  2020-12-11  2792.699951  2807.699951  2764.550049  2783.600098   \n",
       "249  2020-12-14  2802.000000  2804.000000  2756.250000  2797.699951   \n",
       "250  2020-12-15  2786.000000  2794.699951  2755.000000  2761.550049   \n",
       "251  2020-12-16  2779.000000  2819.800049  2760.449951  2814.199951   \n",
       "\n",
       "       Adj Close     Volume  \n",
       "0    2086.768066  5574177.0  \n",
       "1    2124.250000  6059673.0  \n",
       "2    2126.997314  8251081.0  \n",
       "3    2187.145264  6251505.0  \n",
       "4    2181.110596  5548338.0  \n",
       "..           ...        ...  \n",
       "247  2784.300049  2127801.0  \n",
       "248  2783.600098  1795408.0  \n",
       "249  2797.699951  2483658.0  \n",
       "250  2761.550049  2365509.0  \n",
       "251  2814.199951  2563601.0  \n",
       "\n",
       "[252 rows x 7 columns]"
      ]
     },
     "execution_count": 3,
     "metadata": {},
     "output_type": "execute_result"
    }
   ],
   "source": [
    "data"
   ]
  },
  {
   "cell_type": "code",
   "execution_count": 4,
   "metadata": {
    "execution": {
     "iopub.execute_input": "2020-12-20T12:05:59.994714Z",
     "iopub.status.busy": "2020-12-20T12:05:59.993759Z",
     "iopub.status.idle": "2020-12-20T12:06:00.008666Z",
     "shell.execute_reply": "2020-12-20T12:06:00.007964Z"
    },
    "papermill": {
     "duration": 0.036513,
     "end_time": "2020-12-20T12:06:00.008780",
     "exception": false,
     "start_time": "2020-12-20T12:05:59.972267",
     "status": "completed"
    },
    "tags": []
   },
   "outputs": [
    {
     "data": {
      "text/html": [
       "<div>\n",
       "<style scoped>\n",
       "    .dataframe tbody tr th:only-of-type {\n",
       "        vertical-align: middle;\n",
       "    }\n",
       "\n",
       "    .dataframe tbody tr th {\n",
       "        vertical-align: top;\n",
       "    }\n",
       "\n",
       "    .dataframe thead th {\n",
       "        text-align: right;\n",
       "    }\n",
       "</style>\n",
       "<table border=\"1\" class=\"dataframe\">\n",
       "  <thead>\n",
       "    <tr style=\"text-align: right;\">\n",
       "      <th></th>\n",
       "      <th>Date</th>\n",
       "      <th>Open</th>\n",
       "      <th>High</th>\n",
       "      <th>Low</th>\n",
       "      <th>Close</th>\n",
       "      <th>Adj Close</th>\n",
       "      <th>Volume</th>\n",
       "    </tr>\n",
       "  </thead>\n",
       "  <tbody>\n",
       "    <tr>\n",
       "      <th>0</th>\n",
       "      <td>2019-12-16</td>\n",
       "      <td>2096.000000</td>\n",
       "      <td>2136.000000</td>\n",
       "      <td>2080.300049</td>\n",
       "      <td>2126.750000</td>\n",
       "      <td>2086.768066</td>\n",
       "      <td>5574177.0</td>\n",
       "    </tr>\n",
       "    <tr>\n",
       "      <th>1</th>\n",
       "      <td>2019-12-17</td>\n",
       "      <td>2126.500000</td>\n",
       "      <td>2169.000000</td>\n",
       "      <td>2119.000000</td>\n",
       "      <td>2164.949951</td>\n",
       "      <td>2124.250000</td>\n",
       "      <td>6059673.0</td>\n",
       "    </tr>\n",
       "    <tr>\n",
       "      <th>2</th>\n",
       "      <td>2019-12-18</td>\n",
       "      <td>2174.000000</td>\n",
       "      <td>2203.449951</td>\n",
       "      <td>2153.000000</td>\n",
       "      <td>2167.750000</td>\n",
       "      <td>2126.997314</td>\n",
       "      <td>8251081.0</td>\n",
       "    </tr>\n",
       "    <tr>\n",
       "      <th>3</th>\n",
       "      <td>2019-12-19</td>\n",
       "      <td>2179.800049</td>\n",
       "      <td>2236.500000</td>\n",
       "      <td>2167.550049</td>\n",
       "      <td>2229.050049</td>\n",
       "      <td>2187.145264</td>\n",
       "      <td>6251505.0</td>\n",
       "    </tr>\n",
       "    <tr>\n",
       "      <th>4</th>\n",
       "      <td>2019-12-20</td>\n",
       "      <td>2220.000000</td>\n",
       "      <td>2246.699951</td>\n",
       "      <td>2208.250000</td>\n",
       "      <td>2222.899902</td>\n",
       "      <td>2181.110596</td>\n",
       "      <td>5548338.0</td>\n",
       "    </tr>\n",
       "  </tbody>\n",
       "</table>\n",
       "</div>"
      ],
      "text/plain": [
       "         Date         Open         High          Low        Close  \\\n",
       "0  2019-12-16  2096.000000  2136.000000  2080.300049  2126.750000   \n",
       "1  2019-12-17  2126.500000  2169.000000  2119.000000  2164.949951   \n",
       "2  2019-12-18  2174.000000  2203.449951  2153.000000  2167.750000   \n",
       "3  2019-12-19  2179.800049  2236.500000  2167.550049  2229.050049   \n",
       "4  2019-12-20  2220.000000  2246.699951  2208.250000  2222.899902   \n",
       "\n",
       "     Adj Close     Volume  \n",
       "0  2086.768066  5574177.0  \n",
       "1  2124.250000  6059673.0  \n",
       "2  2126.997314  8251081.0  \n",
       "3  2187.145264  6251505.0  \n",
       "4  2181.110596  5548338.0  "
      ]
     },
     "execution_count": 4,
     "metadata": {},
     "output_type": "execute_result"
    }
   ],
   "source": [
    "data.head()"
   ]
  },
  {
   "cell_type": "code",
   "execution_count": 5,
   "metadata": {
    "execution": {
     "iopub.execute_input": "2020-12-20T12:06:00.053522Z",
     "iopub.status.busy": "2020-12-20T12:06:00.052806Z",
     "iopub.status.idle": "2020-12-20T12:06:00.055934Z",
     "shell.execute_reply": "2020-12-20T12:06:00.056453Z"
    },
    "papermill": {
     "duration": 0.028984,
     "end_time": "2020-12-20T12:06:00.056602",
     "exception": false,
     "start_time": "2020-12-20T12:06:00.027618",
     "status": "completed"
    },
    "tags": []
   },
   "outputs": [
    {
     "data": {
      "text/plain": [
       "Date          object\n",
       "Open         float64\n",
       "High         float64\n",
       "Low          float64\n",
       "Close        float64\n",
       "Adj Close    float64\n",
       "Volume       float64\n",
       "dtype: object"
      ]
     },
     "execution_count": 5,
     "metadata": {},
     "output_type": "execute_result"
    }
   ],
   "source": [
    "data.dtypes"
   ]
  },
  {
   "cell_type": "code",
   "execution_count": 6,
   "metadata": {
    "execution": {
     "iopub.execute_input": "2020-12-20T12:06:00.099767Z",
     "iopub.status.busy": "2020-12-20T12:06:00.099037Z",
     "iopub.status.idle": "2020-12-20T12:06:00.106113Z",
     "shell.execute_reply": "2020-12-20T12:06:00.106670Z"
    },
    "papermill": {
     "duration": 0.030931,
     "end_time": "2020-12-20T12:06:00.106815",
     "exception": false,
     "start_time": "2020-12-20T12:06:00.075884",
     "status": "completed"
    },
    "tags": []
   },
   "outputs": [
    {
     "data": {
      "text/plain": [
       "Date         0\n",
       "Open         1\n",
       "High         1\n",
       "Low          1\n",
       "Close        1\n",
       "Adj Close    1\n",
       "Volume       1\n",
       "dtype: int64"
      ]
     },
     "execution_count": 6,
     "metadata": {},
     "output_type": "execute_result"
    }
   ],
   "source": [
    "data.isnull().sum()"
   ]
  },
  {
   "cell_type": "code",
   "execution_count": 7,
   "metadata": {
    "execution": {
     "iopub.execute_input": "2020-12-20T12:06:00.149612Z",
     "iopub.status.busy": "2020-12-20T12:06:00.148873Z",
     "iopub.status.idle": "2020-12-20T12:06:00.178844Z",
     "shell.execute_reply": "2020-12-20T12:06:00.179350Z"
    },
    "papermill": {
     "duration": 0.052764,
     "end_time": "2020-12-20T12:06:00.179504",
     "exception": false,
     "start_time": "2020-12-20T12:06:00.126740",
     "status": "completed"
    },
    "tags": []
   },
   "outputs": [],
   "source": [
    "data=data.dropna()"
   ]
  },
  {
   "cell_type": "code",
   "execution_count": 8,
   "metadata": {
    "execution": {
     "iopub.execute_input": "2020-12-20T12:06:00.222529Z",
     "iopub.status.busy": "2020-12-20T12:06:00.221873Z",
     "iopub.status.idle": "2020-12-20T12:06:00.230106Z",
     "shell.execute_reply": "2020-12-20T12:06:00.229505Z"
    },
    "papermill": {
     "duration": 0.030765,
     "end_time": "2020-12-20T12:06:00.230238",
     "exception": false,
     "start_time": "2020-12-20T12:06:00.199473",
     "status": "completed"
    },
    "tags": []
   },
   "outputs": [
    {
     "data": {
      "text/plain": [
       "Date         0\n",
       "Open         0\n",
       "High         0\n",
       "Low          0\n",
       "Close        0\n",
       "Adj Close    0\n",
       "Volume       0\n",
       "dtype: int64"
      ]
     },
     "execution_count": 8,
     "metadata": {},
     "output_type": "execute_result"
    }
   ],
   "source": [
    "data.isnull().sum()"
   ]
  },
  {
   "cell_type": "code",
   "execution_count": 9,
   "metadata": {
    "execution": {
     "iopub.execute_input": "2020-12-20T12:06:00.278959Z",
     "iopub.status.busy": "2020-12-20T12:06:00.278245Z",
     "iopub.status.idle": "2020-12-20T12:06:00.304825Z",
     "shell.execute_reply": "2020-12-20T12:06:00.304231Z"
    },
    "papermill": {
     "duration": 0.054192,
     "end_time": "2020-12-20T12:06:00.304937",
     "exception": false,
     "start_time": "2020-12-20T12:06:00.250745",
     "status": "completed"
    },
    "tags": []
   },
   "outputs": [
    {
     "data": {
      "text/html": [
       "<div>\n",
       "<style scoped>\n",
       "    .dataframe tbody tr th:only-of-type {\n",
       "        vertical-align: middle;\n",
       "    }\n",
       "\n",
       "    .dataframe tbody tr th {\n",
       "        vertical-align: top;\n",
       "    }\n",
       "\n",
       "    .dataframe thead th {\n",
       "        text-align: right;\n",
       "    }\n",
       "</style>\n",
       "<table border=\"1\" class=\"dataframe\">\n",
       "  <thead>\n",
       "    <tr style=\"text-align: right;\">\n",
       "      <th></th>\n",
       "      <th>Open</th>\n",
       "      <th>High</th>\n",
       "      <th>Low</th>\n",
       "      <th>Close</th>\n",
       "      <th>Adj Close</th>\n",
       "      <th>Volume</th>\n",
       "    </tr>\n",
       "  </thead>\n",
       "  <tbody>\n",
       "    <tr>\n",
       "      <th>count</th>\n",
       "      <td>251.000000</td>\n",
       "      <td>251.000000</td>\n",
       "      <td>251.000000</td>\n",
       "      <td>251.000000</td>\n",
       "      <td>251.000000</td>\n",
       "      <td>2.510000e+02</td>\n",
       "    </tr>\n",
       "    <tr>\n",
       "      <th>mean</th>\n",
       "      <td>2234.510356</td>\n",
       "      <td>2265.382260</td>\n",
       "      <td>2205.041843</td>\n",
       "      <td>2233.662748</td>\n",
       "      <td>2216.480165</td>\n",
       "      <td>4.039248e+06</td>\n",
       "    </tr>\n",
       "    <tr>\n",
       "      <th>std</th>\n",
       "      <td>304.529785</td>\n",
       "      <td>298.283311</td>\n",
       "      <td>306.963270</td>\n",
       "      <td>303.157522</td>\n",
       "      <td>310.037930</td>\n",
       "      <td>2.263970e+06</td>\n",
       "    </tr>\n",
       "    <tr>\n",
       "      <th>min</th>\n",
       "      <td>1559.699951</td>\n",
       "      <td>1685.449951</td>\n",
       "      <td>1506.050049</td>\n",
       "      <td>1636.349976</td>\n",
       "      <td>1620.991089</td>\n",
       "      <td>1.319430e+06</td>\n",
       "    </tr>\n",
       "    <tr>\n",
       "      <th>25%</th>\n",
       "      <td>2045.500000</td>\n",
       "      <td>2064.000000</td>\n",
       "      <td>2019.974976</td>\n",
       "      <td>2043.399964</td>\n",
       "      <td>2027.115601</td>\n",
       "      <td>2.660976e+06</td>\n",
       "    </tr>\n",
       "    <tr>\n",
       "      <th>50%</th>\n",
       "      <td>2205.000000</td>\n",
       "      <td>2226.899902</td>\n",
       "      <td>2183.800049</td>\n",
       "      <td>2201.949951</td>\n",
       "      <td>2165.411377</td>\n",
       "      <td>3.400908e+06</td>\n",
       "    </tr>\n",
       "    <tr>\n",
       "      <th>75%</th>\n",
       "      <td>2409.475098</td>\n",
       "      <td>2447.000000</td>\n",
       "      <td>2359.050049</td>\n",
       "      <td>2424.300049</td>\n",
       "      <td>2414.007812</td>\n",
       "      <td>4.760710e+06</td>\n",
       "    </tr>\n",
       "    <tr>\n",
       "      <th>max</th>\n",
       "      <td>2845.000000</td>\n",
       "      <td>2885.000000</td>\n",
       "      <td>2812.199951</td>\n",
       "      <td>2830.000000</td>\n",
       "      <td>2817.985352</td>\n",
       "      <td>1.983933e+07</td>\n",
       "    </tr>\n",
       "  </tbody>\n",
       "</table>\n",
       "</div>"
      ],
      "text/plain": [
       "              Open         High          Low        Close    Adj Close  \\\n",
       "count   251.000000   251.000000   251.000000   251.000000   251.000000   \n",
       "mean   2234.510356  2265.382260  2205.041843  2233.662748  2216.480165   \n",
       "std     304.529785   298.283311   306.963270   303.157522   310.037930   \n",
       "min    1559.699951  1685.449951  1506.050049  1636.349976  1620.991089   \n",
       "25%    2045.500000  2064.000000  2019.974976  2043.399964  2027.115601   \n",
       "50%    2205.000000  2226.899902  2183.800049  2201.949951  2165.411377   \n",
       "75%    2409.475098  2447.000000  2359.050049  2424.300049  2414.007812   \n",
       "max    2845.000000  2885.000000  2812.199951  2830.000000  2817.985352   \n",
       "\n",
       "             Volume  \n",
       "count  2.510000e+02  \n",
       "mean   4.039248e+06  \n",
       "std    2.263970e+06  \n",
       "min    1.319430e+06  \n",
       "25%    2.660976e+06  \n",
       "50%    3.400908e+06  \n",
       "75%    4.760710e+06  \n",
       "max    1.983933e+07  "
      ]
     },
     "execution_count": 9,
     "metadata": {},
     "output_type": "execute_result"
    }
   ],
   "source": [
    "data.describe()"
   ]
  },
  {
   "cell_type": "code",
   "execution_count": 10,
   "metadata": {
    "execution": {
     "iopub.execute_input": "2020-12-20T12:06:00.352686Z",
     "iopub.status.busy": "2020-12-20T12:06:00.351975Z",
     "iopub.status.idle": "2020-12-20T12:06:01.743362Z",
     "shell.execute_reply": "2020-12-20T12:06:01.742809Z"
    },
    "papermill": {
     "duration": 1.417441,
     "end_time": "2020-12-20T12:06:01.743501",
     "exception": false,
     "start_time": "2020-12-20T12:06:00.326060",
     "status": "completed"
    },
    "tags": []
   },
   "outputs": [
    {
     "data": {
      "image/png": "[encoded data removed]",
      "text/plain": [
       "<Figure size 432x288 with 2 Axes>"
      ]
     },
     "metadata": {
      "needs_background": "light"
     },
     "output_type": "display_data"
    }
   ],
   "source": [
    "import seaborn as sns\n",
    "\n",
    "cor = sns.heatmap(data.corr(), annot = True)"
   ]
  },
  {
   "cell_type": "code",
   "execution_count": 11,
   "metadata": {
    "execution": {
     "iopub.execute_input": "2020-12-20T12:06:01.792768Z",
     "iopub.status.busy": "2020-12-20T12:06:01.792065Z",
     "iopub.status.idle": "2020-12-20T12:06:01.798221Z",
     "shell.execute_reply": "2020-12-20T12:06:01.798706Z"
    },
    "papermill": {
     "duration": 0.031984,
     "end_time": "2020-12-20T12:06:01.798858",
     "exception": false,
     "start_time": "2020-12-20T12:06:01.766874",
     "status": "completed"
    },
    "tags": []
   },
   "outputs": [],
   "source": [
    "#Let's select our features\n",
    "x = data.loc[:,'Open':'Low']\n",
    "y = data.loc[:,'Close']"
   ]
  },
  {
   "cell_type": "code",
   "execution_count": 12,
   "metadata": {
    "execution": {
     "iopub.execute_input": "2020-12-20T12:06:01.856535Z",
     "iopub.status.busy": "2020-12-20T12:06:01.855555Z",
     "iopub.status.idle": "2020-12-20T12:06:01.860332Z",
     "shell.execute_reply": "2020-12-20T12:06:01.859815Z"
    },
    "papermill": {
     "duration": 0.037981,
     "end_time": "2020-12-20T12:06:01.860455",
     "exception": false,
     "start_time": "2020-12-20T12:06:01.822474",
     "status": "completed"
    },
    "tags": []
   },
   "outputs": [
    {
     "data": {
      "text/html": [
       "<div>\n",
       "<style scoped>\n",
       "    .dataframe tbody tr th:only-of-type {\n",
       "        vertical-align: middle;\n",
       "    }\n",
       "\n",
       "    .dataframe tbody tr th {\n",
       "        vertical-align: top;\n",
       "    }\n",
       "\n",
       "    .dataframe thead th {\n",
       "        text-align: right;\n",
       "    }\n",
       "</style>\n",
       "<table border=\"1\" class=\"dataframe\">\n",
       "  <thead>\n",
       "    <tr style=\"text-align: right;\">\n",
       "      <th></th>\n",
       "      <th>Open</th>\n",
       "      <th>High</th>\n",
       "      <th>Low</th>\n",
       "    </tr>\n",
       "  </thead>\n",
       "  <tbody>\n",
       "    <tr>\n",
       "      <th>0</th>\n",
       "      <td>2096.000000</td>\n",
       "      <td>2136.000000</td>\n",
       "      <td>2080.300049</td>\n",
       "    </tr>\n",
       "    <tr>\n",
       "      <th>1</th>\n",
       "      <td>2126.500000</td>\n",
       "      <td>2169.000000</td>\n",
       "      <td>2119.000000</td>\n",
       "    </tr>\n",
       "    <tr>\n",
       "      <th>2</th>\n",
       "      <td>2174.000000</td>\n",
       "      <td>2203.449951</td>\n",
       "      <td>2153.000000</td>\n",
       "    </tr>\n",
       "    <tr>\n",
       "      <th>3</th>\n",
       "      <td>2179.800049</td>\n",
       "      <td>2236.500000</td>\n",
       "      <td>2167.550049</td>\n",
       "    </tr>\n",
       "    <tr>\n",
       "      <th>4</th>\n",
       "      <td>2220.000000</td>\n",
       "      <td>2246.699951</td>\n",
       "      <td>2208.250000</td>\n",
       "    </tr>\n",
       "  </tbody>\n",
       "</table>\n",
       "</div>"
      ],
      "text/plain": [
       "          Open         High          Low\n",
       "0  2096.000000  2136.000000  2080.300049\n",
       "1  2126.500000  2169.000000  2119.000000\n",
       "2  2174.000000  2203.449951  2153.000000\n",
       "3  2179.800049  2236.500000  2167.550049\n",
       "4  2220.000000  2246.699951  2208.250000"
      ]
     },
     "execution_count": 12,
     "metadata": {},
     "output_type": "execute_result"
    }
   ],
   "source": [
    "x.head()"
   ]
  },
  {
   "cell_type": "code",
   "execution_count": 13,
   "metadata": {
    "execution": {
     "iopub.execute_input": "2020-12-20T12:06:01.914033Z",
     "iopub.status.busy": "2020-12-20T12:06:01.913391Z",
     "iopub.status.idle": "2020-12-20T12:06:01.918327Z",
     "shell.execute_reply": "2020-12-20T12:06:01.918775Z"
    },
    "papermill": {
     "duration": 0.035255,
     "end_time": "2020-12-20T12:06:01.918920",
     "exception": false,
     "start_time": "2020-12-20T12:06:01.883665",
     "status": "completed"
    },
    "tags": []
   },
   "outputs": [
    {
     "data": {
      "text/plain": [
       "0      2126.750000\n",
       "1      2164.949951\n",
       "2      2167.750000\n",
       "3      2229.050049\n",
       "4      2222.899902\n",
       "          ...     \n",
       "247    2784.300049\n",
       "248    2783.600098\n",
       "249    2797.699951\n",
       "250    2761.550049\n",
       "251    2814.199951\n",
       "Name: Close, Length: 251, dtype: float64"
      ]
     },
     "execution_count": 13,
     "metadata": {},
     "output_type": "execute_result"
    }
   ],
   "source": [
    "y"
   ]
  },
  {
   "cell_type": "code",
   "execution_count": 14,
   "metadata": {
    "execution": {
     "iopub.execute_input": "2020-12-20T12:06:01.970979Z",
     "iopub.status.busy": "2020-12-20T12:06:01.970193Z",
     "iopub.status.idle": "2020-12-20T12:06:02.095021Z",
     "shell.execute_reply": "2020-12-20T12:06:02.094289Z"
    },
    "papermill": {
     "duration": 0.152833,
     "end_time": "2020-12-20T12:06:02.095170",
     "exception": false,
     "start_time": "2020-12-20T12:06:01.942337",
     "status": "completed"
    },
    "tags": []
   },
   "outputs": [],
   "source": [
    "from sklearn.model_selection import train_test_split"
   ]
  },
  {
   "cell_type": "code",
   "execution_count": 15,
   "metadata": {
    "execution": {
     "iopub.execute_input": "2020-12-20T12:06:02.150973Z",
     "iopub.status.busy": "2020-12-20T12:06:02.149807Z",
     "iopub.status.idle": "2020-12-20T12:06:02.153437Z",
     "shell.execute_reply": "2020-12-20T12:06:02.152819Z"
    },
    "papermill": {
     "duration": 0.034509,
     "end_time": "2020-12-20T12:06:02.153584",
     "exception": false,
     "start_time": "2020-12-20T12:06:02.119075",
     "status": "completed"
    },
    "tags": []
   },
   "outputs": [],
   "source": [
    "from sklearn.model_selection import train_test_split\n",
    "x_train,x_test,y_train,y_test = train_test_split(x,y,test_size = 0.1,random_state = 0)"
   ]
  },
  {
   "cell_type": "code",
   "execution_count": 16,
   "metadata": {
    "execution": {
     "iopub.execute_input": "2020-12-20T12:06:02.206388Z",
     "iopub.status.busy": "2020-12-20T12:06:02.205658Z",
     "iopub.status.idle": "2020-12-20T12:06:02.208525Z",
     "shell.execute_reply": "2020-12-20T12:06:02.207817Z"
    },
    "papermill": {
     "duration": 0.031191,
     "end_time": "2020-12-20T12:06:02.208643",
     "exception": false,
     "start_time": "2020-12-20T12:06:02.177452",
     "status": "completed"
    },
    "tags": []
   },
   "outputs": [],
   "source": [
    "# LINEARE"
   ]
  },
  {
   "cell_type": "code",
   "execution_count": 17,
   "metadata": {
    "execution": {
     "iopub.execute_input": "2020-12-20T12:06:02.260373Z",
     "iopub.status.busy": "2020-12-20T12:06:02.259682Z",
     "iopub.status.idle": "2020-12-20T12:06:02.358350Z",
     "shell.execute_reply": "2020-12-20T12:06:02.357725Z"
    },
    "papermill": {
     "duration": 0.125641,
     "end_time": "2020-12-20T12:06:02.358482",
     "exception": false,
     "start_time": "2020-12-20T12:06:02.232841",
     "status": "completed"
    },
    "tags": []
   },
   "outputs": [],
   "source": [
    "from sklearn.linear_model import LinearRegression"
   ]
  },
  {
   "cell_type": "code",
   "execution_count": 18,
   "metadata": {
    "execution": {
     "iopub.execute_input": "2020-12-20T12:06:02.414028Z",
     "iopub.status.busy": "2020-12-20T12:06:02.413377Z",
     "iopub.status.idle": "2020-12-20T12:06:02.416713Z",
     "shell.execute_reply": "2020-12-20T12:06:02.416143Z"
    },
    "papermill": {
     "duration": 0.03365,
     "end_time": "2020-12-20T12:06:02.416829",
     "exception": false,
     "start_time": "2020-12-20T12:06:02.383179",
     "status": "completed"
    },
    "tags": []
   },
   "outputs": [],
   "source": [
    "LR = LinearRegression()"
   ]
  },
  {
   "cell_type": "code",
   "execution_count": 19,
   "metadata": {
    "execution": {
     "iopub.execute_input": "2020-12-20T12:06:02.510307Z",
     "iopub.status.busy": "2020-12-20T12:06:02.482800Z",
     "iopub.status.idle": "2020-12-20T12:06:02.517084Z",
     "shell.execute_reply": "2020-12-20T12:06:02.517717Z"
    },
    "papermill": {
     "duration": 0.076718,
     "end_time": "2020-12-20T12:06:02.517882",
     "exception": false,
     "start_time": "2020-12-20T12:06:02.441164",
     "status": "completed"
    },
    "tags": []
   },
   "outputs": [
    {
     "data": {
      "text/plain": [
       "LinearRegression()"
      ]
     },
     "execution_count": 19,
     "metadata": {},
     "output_type": "execute_result"
    }
   ],
   "source": [
    "LR.fit(x_train,y_train)"
   ]
  },
  {
   "cell_type": "code",
   "execution_count": 20,
   "metadata": {
    "execution": {
     "iopub.execute_input": "2020-12-20T12:06:02.573686Z",
     "iopub.status.busy": "2020-12-20T12:06:02.572936Z",
     "iopub.status.idle": "2020-12-20T12:06:02.581998Z",
     "shell.execute_reply": "2020-12-20T12:06:02.582608Z"
    },
    "papermill": {
     "duration": 0.039041,
     "end_time": "2020-12-20T12:06:02.582767",
     "exception": false,
     "start_time": "2020-12-20T12:06:02.543726",
     "status": "completed"
    },
    "tags": []
   },
   "outputs": [
    {
     "data": {
      "text/plain": [
       "0.9958201352745529"
      ]
     },
     "execution_count": 20,
     "metadata": {},
     "output_type": "execute_result"
    }
   ],
   "source": [
    "LR.score(x_test,y_test)"
   ]
  },
  {
   "cell_type": "code",
   "execution_count": 21,
   "metadata": {
    "execution": {
     "iopub.execute_input": "2020-12-20T12:06:02.649535Z",
     "iopub.status.busy": "2020-12-20T12:06:02.648843Z",
     "iopub.status.idle": "2020-12-20T12:06:02.654860Z",
     "shell.execute_reply": "2020-12-20T12:06:02.654203Z"
    },
    "papermill": {
     "duration": 0.045034,
     "end_time": "2020-12-20T12:06:02.654972",
     "exception": false,
     "start_time": "2020-12-20T12:06:02.609938",
     "status": "completed"
    },
    "tags": []
   },
   "outputs": [
    {
     "data": {
      "text/html": [
       "<div>\n",
       "<style scoped>\n",
       "    .dataframe tbody tr th:only-of-type {\n",
       "        vertical-align: middle;\n",
       "    }\n",
       "\n",
       "    .dataframe tbody tr th {\n",
       "        vertical-align: top;\n",
       "    }\n",
       "\n",
       "    .dataframe thead th {\n",
       "        text-align: right;\n",
       "    }\n",
       "</style>\n",
       "<table border=\"1\" class=\"dataframe\">\n",
       "  <thead>\n",
       "    <tr style=\"text-align: right;\">\n",
       "      <th></th>\n",
       "      <th>Open</th>\n",
       "      <th>High</th>\n",
       "      <th>Low</th>\n",
       "    </tr>\n",
       "  </thead>\n",
       "  <tbody>\n",
       "    <tr>\n",
       "      <th>0</th>\n",
       "      <td>2096.0</td>\n",
       "      <td>2136.0</td>\n",
       "      <td>2080.300049</td>\n",
       "    </tr>\n",
       "    <tr>\n",
       "      <th>1</th>\n",
       "      <td>2126.5</td>\n",
       "      <td>2169.0</td>\n",
       "      <td>2119.000000</td>\n",
       "    </tr>\n",
       "  </tbody>\n",
       "</table>\n",
       "</div>"
      ],
      "text/plain": [
       "     Open    High          Low\n",
       "0  2096.0  2136.0  2080.300049\n",
       "1  2126.5  2169.0  2119.000000"
      ]
     },
     "execution_count": 21,
     "metadata": {},
     "output_type": "execute_result"
    }
   ],
   "source": [
    "x.head(2)"
   ]
  },
  {
   "cell_type": "code",
   "execution_count": 22,
   "metadata": {
    "execution": {
     "iopub.execute_input": "2020-12-20T12:06:02.716730Z",
     "iopub.status.busy": "2020-12-20T12:06:02.715869Z",
     "iopub.status.idle": "2020-12-20T12:06:02.721035Z",
     "shell.execute_reply": "2020-12-20T12:06:02.721685Z"
    },
    "papermill": {
     "duration": 0.040112,
     "end_time": "2020-12-20T12:06:02.721838",
     "exception": false,
     "start_time": "2020-12-20T12:06:02.681726",
     "status": "completed"
    },
    "tags": []
   },
   "outputs": [],
   "source": [
    "Test_data = [[2786.0,2794.6,2755.0]]\n",
    "prediction = LR.predict(Test_data)"
   ]
  },
  {
   "cell_type": "code",
   "execution_count": 23,
   "metadata": {
    "execution": {
     "iopub.execute_input": "2020-12-20T12:06:02.799426Z",
     "iopub.status.busy": "2020-12-20T12:06:02.798243Z",
     "iopub.status.idle": "2020-12-20T12:06:02.803227Z",
     "shell.execute_reply": "2020-12-20T12:06:02.804183Z"
    },
    "papermill": {
     "duration": 0.046033,
     "end_time": "2020-12-20T12:06:02.804394",
     "exception": false,
     "start_time": "2020-12-20T12:06:02.758361",
     "status": "completed"
    },
    "tags": []
   },
   "outputs": [
    {
     "name": "stdout",
     "output_type": "stream",
     "text": [
      "[2771.08659441]\n"
     ]
    }
   ],
   "source": [
    "print(prediction)"
   ]
  },
  {
   "cell_type": "code",
   "execution_count": 24,
   "metadata": {
    "execution": {
     "iopub.execute_input": "2020-12-20T12:06:02.882658Z",
     "iopub.status.busy": "2020-12-20T12:06:02.881531Z",
     "iopub.status.idle": "2020-12-20T12:06:02.897381Z",
     "shell.execute_reply": "2020-12-20T12:06:02.896461Z"
    },
    "papermill": {
     "duration": 0.053099,
     "end_time": "2020-12-20T12:06:02.897544",
     "exception": false,
     "start_time": "2020-12-20T12:06:02.844445",
     "status": "completed"
    },
    "tags": []
   },
   "outputs": [
    {
     "data": {
      "text/html": [
       "<div>\n",
       "<style scoped>\n",
       "    .dataframe tbody tr th:only-of-type {\n",
       "        vertical-align: middle;\n",
       "    }\n",
       "\n",
       "    .dataframe tbody tr th {\n",
       "        vertical-align: top;\n",
       "    }\n",
       "\n",
       "    .dataframe thead th {\n",
       "        text-align: right;\n",
       "    }\n",
       "</style>\n",
       "<table border=\"1\" class=\"dataframe\">\n",
       "  <thead>\n",
       "    <tr style=\"text-align: right;\">\n",
       "      <th></th>\n",
       "      <th>Date</th>\n",
       "      <th>Open</th>\n",
       "      <th>High</th>\n",
       "      <th>Low</th>\n",
       "      <th>Close</th>\n",
       "      <th>Adj Close</th>\n",
       "      <th>Volume</th>\n",
       "    </tr>\n",
       "  </thead>\n",
       "  <tbody>\n",
       "    <tr>\n",
       "      <th>250</th>\n",
       "      <td>2020-12-15</td>\n",
       "      <td>2786.0</td>\n",
       "      <td>2794.699951</td>\n",
       "      <td>2755.000000</td>\n",
       "      <td>2761.550049</td>\n",
       "      <td>2761.550049</td>\n",
       "      <td>2365509.0</td>\n",
       "    </tr>\n",
       "    <tr>\n",
       "      <th>251</th>\n",
       "      <td>2020-12-16</td>\n",
       "      <td>2779.0</td>\n",
       "      <td>2819.800049</td>\n",
       "      <td>2760.449951</td>\n",
       "      <td>2814.199951</td>\n",
       "      <td>2814.199951</td>\n",
       "      <td>2563601.0</td>\n",
       "    </tr>\n",
       "  </tbody>\n",
       "</table>\n",
       "</div>"
      ],
      "text/plain": [
       "           Date    Open         High          Low        Close    Adj Close  \\\n",
       "250  2020-12-15  2786.0  2794.699951  2755.000000  2761.550049  2761.550049   \n",
       "251  2020-12-16  2779.0  2819.800049  2760.449951  2814.199951  2814.199951   \n",
       "\n",
       "        Volume  \n",
       "250  2365509.0  \n",
       "251  2563601.0  "
      ]
     },
     "execution_count": 24,
     "metadata": {},
     "output_type": "execute_result"
    }
   ],
   "source": [
    "data.tail(2)"
   ]
  },
  {
   "cell_type": "code",
   "execution_count": 25,
   "metadata": {
    "execution": {
     "iopub.execute_input": "2020-12-20T12:06:02.960998Z",
     "iopub.status.busy": "2020-12-20T12:06:02.960248Z",
     "iopub.status.idle": "2020-12-20T12:06:02.963172Z",
     "shell.execute_reply": "2020-12-20T12:06:02.962404Z"
    },
    "papermill": {
     "duration": 0.035327,
     "end_time": "2020-12-20T12:06:02.963297",
     "exception": false,
     "start_time": "2020-12-20T12:06:02.927970",
     "status": "completed"
    },
    "tags": []
   },
   "outputs": [],
   "source": [
    "Test_data = [[2811.0, 2845.00 ,2805.0]]\n",
    "prediction = LR.predict(Test_data)"
   ]
  },
  {
   "cell_type": "code",
   "execution_count": 26,
   "metadata": {
    "execution": {
     "iopub.execute_input": "2020-12-20T12:06:03.025281Z",
     "iopub.status.busy": "2020-12-20T12:06:03.024553Z",
     "iopub.status.idle": "2020-12-20T12:06:03.028518Z",
     "shell.execute_reply": "2020-12-20T12:06:03.027754Z"
    },
    "papermill": {
     "duration": 0.036138,
     "end_time": "2020-12-20T12:06:03.028676",
     "exception": false,
     "start_time": "2020-12-20T12:06:02.992538",
     "status": "completed"
    },
    "tags": []
   },
   "outputs": [
    {
     "name": "stdout",
     "output_type": "stream",
     "text": [
      "[2831.93994148]\n"
     ]
    }
   ],
   "source": [
    "print(prediction)"
   ]
  }
 ],
 "metadata": {
  "kernelspec": {
   "display_name": "Python 3",
   "language": "python",
   "name": "python3"
  },
  "language_info": {
   "codemirror_mode": {
    "name": "ipython",
    "version": 3
   },
   "file_extension": ".py",
   "mimetype": "text/x-python",
   "name": "python",
   "nbconvert_exporter": "python",
   "pygments_lexer": "ipython3",
   "version": "3.7.6"
  },
  "papermill": {
   "duration": 8.497344,
   "end_time": "2020-12-20T12:06:03.164834",
   "environment_variables": {},
   "exception": null,
   "input_path": "__notebook__.ipynb",
   "output_path": "__notebook__.ipynb",
   "parameters": {},
   "start_time": "2020-12-20T12:05:54.667490",
   "version": "2.1.0"
  }
 },
 "nbformat": 4,
 "nbformat_minor": 4
}
